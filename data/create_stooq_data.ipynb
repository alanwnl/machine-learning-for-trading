{
 "cells": [
  {
   "cell_type": "markdown",
   "metadata": {},
   "source": [
    "# Download and store STOOQ data"
   ]
  },
  {
   "cell_type": "markdown",
   "metadata": {},
   "source": [
    "This notebook contains information on downloading the STOOQ stock and ETF price data that we use in [Chapter 09](../09_time_series_models) for a pairs trading strategy based on cointegration and [Chapter 11](../11_decision_trees_random_forests) for a long-short strategy using Random Forest return predictions."
   ]
  },
  {
   "cell_type": "markdown",
   "metadata": {},
   "source": [
    "## Imports & Settings"
   ]
  },
  {
   "cell_type": "code",
   "execution_count": 13,
   "metadata": {
    "ExecuteTime": {
     "end_time": "2020-06-18T14:32:07.092623Z",
     "start_time": "2020-06-18T14:32:07.090885Z"
    }
   },
   "outputs": [],
   "source": [
    "import warnings\n",
    "warnings.filterwarnings('ignore')"
   ]
  },
  {
   "cell_type": "code",
   "execution_count": 14,
   "metadata": {
    "ExecuteTime": {
     "end_time": "2020-06-18T14:32:07.263130Z",
     "start_time": "2020-06-18T14:32:07.259861Z"
    }
   },
   "outputs": [],
   "source": [
    "from pathlib import Path\n",
    "import requests\n",
    "from io import BytesIO\n",
    "from zipfile import ZipFile, BadZipFile\n",
    "\n",
    "import numpy as np\n",
    "import pandas as pd\n",
    "import pandas_datareader.data as web\n",
    "from sklearn.datasets import fetch_openml\n",
    "\n",
    "pd.set_option('display.expand_frame_repr', False)"
   ]
  },
  {
   "cell_type": "markdown",
   "metadata": {},
   "source": [
    "## Set Data Store path"
   ]
  },
  {
   "cell_type": "markdown",
   "metadata": {},
   "source": [
    "Modify the path to the `DATA_STORE` if you would like to store the data elsewhere and change the notebooks accordingly"
   ]
  },
  {
   "cell_type": "code",
   "execution_count": 15,
   "metadata": {
    "ExecuteTime": {
     "end_time": "2020-06-19T02:27:54.832609Z",
     "start_time": "2020-06-19T02:27:54.824778Z"
    }
   },
   "outputs": [],
   "source": [
    "DATA_STORE = Path('assets.h5')"
   ]
  },
  {
   "cell_type": "markdown",
   "metadata": {},
   "source": [
    "## Stooq Historical Market Data"
   ]
  },
  {
   "cell_type": "markdown",
   "metadata": {},
   "source": [
    "> Note that the below downloading details may change at any time as Stooq updates their website; if you encounter errors, please inspect their website and raise a GitHub issue to let us know so we can update the information.\n",
    "\n",
    "> Update 12/2020: please note that STOOQ will disable automatic downloads and require CAPTCHA starting Dec 10, 2020 so that the code that downloads and unpacks the zip files will no longer work; please navigate to their website [here](https://stooq.com/db/h/) for manual download."
   ]
  },
  {
   "cell_type": "markdown",
   "metadata": {},
   "source": [
    "### Download price data"
   ]
  },
  {
   "cell_type": "markdown",
   "metadata": {},
   "source": [
    "1. Download **price data** for the selected combination of asset class, market and frequency from [the Stooq website](https://stooq.com/db/h/)\n",
    "2. Store the result under `stooq` using the preferred folder structure outlined on the website. It has the structure: `/data/freq/market/asset_class`, such as `/data/daily/us/nasdaq etfs`."
   ]
  },
  {
   "cell_type": "code",
   "execution_count": 16,
   "metadata": {
    "ExecuteTime": {
     "end_time": "2020-06-19T02:17:23.456087Z",
     "start_time": "2020-06-19T02:17:23.449798Z"
    }
   },
   "outputs": [],
   "source": [
    "stooq_path = Path('stooq') \n",
    "if not stooq_path.exists():\n",
    "    stooq_path.mkdir()"
   ]
  },
  {
   "cell_type": "markdown",
   "metadata": {},
   "source": [
    "Use the symbol for the market you want to download price data for. In this book we'll be useing `us` and `jp`. "
   ]
  },
  {
   "cell_type": "code",
   "execution_count": 17,
   "metadata": {
    "ExecuteTime": {
     "end_time": "2020-06-19T02:17:26.841192Z",
     "start_time": "2020-06-19T02:17:26.835288Z"
    }
   },
   "outputs": [],
   "source": [
    "STOOQ_URL = 'https://static.stooq.com/db/h/'"
   ]
  },
  {
   "cell_type": "code",
   "execution_count": 18,
   "metadata": {
    "ExecuteTime": {
     "end_time": "2020-06-19T02:23:15.379159Z",
     "start_time": "2020-06-19T02:23:01.883773Z"
    }
   },
   "outputs": [],
   "source": [
    "def download_price_data(market='us'):\n",
    "    data_url = f'd_{market}_txt.zip'\n",
    "    response = requests.get(STOOQ_URL + data_url).content\n",
    "    with ZipFile(BytesIO(response)) as zip_file:\n",
    "        for i, file in enumerate(zip_file.namelist()):\n",
    "            if not file.endswith('.txt'):\n",
    "                continue\n",
    "            local_file = stooq_path / file\n",
    "            local_file.parent.mkdir(parents=True, exist_ok=True)\n",
    "            with local_file.open('wb') as output:\n",
    "                for line in zip_file.open(file).readlines():\n",
    "                    output.write(line)"
   ]
  },
  {
   "cell_type": "code",
   "execution_count": 19,
   "metadata": {
    "ExecuteTime": {
     "end_time": "2020-06-19T02:17:23.882490Z",
     "start_time": "2020-06-19T02:17:23.879665Z"
    }
   },
   "outputs": [],
   "source": [
    "# for market in ['us', 'jp']:\n",
    "#     download_price_data(market=market)"
   ]
  },
  {
   "cell_type": "markdown",
   "metadata": {},
   "source": [
    "### Add symbols"
   ]
  },
  {
   "cell_type": "markdown",
   "metadata": {
    "ExecuteTime": {
     "end_time": "2020-04-18T20:43:47.976210Z",
     "start_time": "2020-04-18T20:43:47.968770Z"
    }
   },
   "source": [
    "Add the corresponding **symbols**, i.e., tickers and names by following the directory tree on the same site. You can also adapt the following code snippet using the appropriate asset code that you find by inspecting the url; this example works for NASDAQ ETFs that have code `g=69`:\n",
    "```python\n",
    "df = pd.read_csv('https://stooq.com/db/l/?g=69', sep='        ').apply(lambda x: x.str.strip())\n",
    "df.columns = ['ticker', 'name']\n",
    "df.drop_duplicates('ticker').to_csv('stooq/data/tickers/us/nasdaq etfs.csv', index=False)\n",
    "```"
   ]
  },
  {
   "cell_type": "markdown",
   "metadata": {},
   "source": [
    "To resolve the `EmptyDataError`, the issue stems from attempting to automatically fetch symbol lists (tickers and names) from Stooq URLs, which are now protected by CAPTCHA and cannot be reliably accessed via scripts or tools. You must manually download each symbol list in a browser, save it as a plain text file (e.g., `.txt`), and then modify the script to read from these local files using an appropriate separator. Based on typical Stooq symbol list formats, these files are often delimited by tabs (`\\t`) or multiple spaces (not commas), with no header row—e.g., lines like `133A\\tNEXT FUNDS JPX Prime 150 Index Exchange Traded Fund` or with spaces instead of tabs.\n",
    "\n",
    "### Step 1: Manually Download Symbol Lists\n",
    "1. Visit https://stooq.com/db/h/ in your browser to navigate the site structure.\n",
    "2. For each market/asset class in `metadata_dict`, access the symbol list URL (replace `{code}` with the value from `metadata_dict`):\n",
    "   - URL format: `https://stooq.com/db/l/?g={code}`\n",
    "   - Examples:\n",
    "     - JP TSE ETFs (code 34): https://stooq.com/db/l/?g=34\n",
    "     - JP TSE Stocks (code 32): https://stooq.com/db/l/?g=32\n",
    "     - US NASDAQ ETFs (code 69): https://stooq.com/db/l/?g=69\n",
    "     - US NASDAQ Stocks (code 27): https://stooq.com/db/l/?g=27\n",
    "     - US NYSE ETFs (code 70): https://stooq.com/db/l/?g=70\n",
    "     - US NYSE Stocks (code 28): https://stooq.com/db/l/?g=28\n",
    "     - US NYSEMKT Stocks (code 26): https://stooq.com/db/l/?g=26\n",
    "3. If prompted, solve any CAPTCHA.\n",
    "4. The page should display plain text with ticker-name pairs (one per line, delimited by tabs or spaces).\n",
    "5. Select all text (Ctrl+A or Cmd+A), copy it, and paste into a new file.\n",
    "6. Save the file in the appropriate directory with a `.txt` extension:\n",
    "   - Example: `stooq/tickers/jp/tse etfs.txt` (note: use lowercase and spaces as in `asset_class`).\n",
    "7. Repeat for all entries in `metadata_dict`.\n",
    "8. Verify a sample file's content in a text editor (e.g., `head -n 5 stooq/tickers/jp/tse\\ etfs.txt`). It should look like ticker-delimiter-name, without headers. If it's comma-separated (unlikely), note that for Step 2.\n",
    "\n",
    "### Step 2: Modify the Script\n",
    "Replace the original symbol-fetching loop with this updated version. It reads from your manually saved `.txt` files using `sep='\\s+'` (handles tabs or multiple spaces), cleans the data, and saves a comma-separated `.csv` version (which the rest of the script expects in `get_stooq_prices_and_tickers`).\n",
    "\n",
    "```python\n",
    "for (market, asset_class), code in metadata_dict.items():\n",
    "    # Path to your manually downloaded .txt file\n",
    "    path_txt = stooq_path / 'tickers' / market / f'{asset_class}.txt'\n",
    "    \n",
    "    # Read with flexible separator (\\s+ handles tabs or multiple spaces); no header\n",
    "    df = pd.read_csv(path_txt, sep='\\s+', header=None, engine='python')\n",
    "    df.columns = ['ticker', 'name']\n",
    "    df = df.apply(lambda x: x.str.strip())  # Strip any extra whitespace\n",
    "    df = df.drop_duplicates('ticker').dropna()\n",
    "    \n",
    "    print(market, asset_class, f'# tickers: {df.shape[0]:,.0f}')\n",
    "    \n",
    "    # Ensure directory exists\n",
    "    path_txt.parent.mkdir(parents=True, exist_ok=True)\n",
    "    \n",
    "    # Save as .csv (comma-separated) for the rest of the script\n",
    "    path_csv = path_txt.with_suffix('.csv')\n",
    "    df.to_csv(path_csv, index=False)\n",
    "```\n",
    "\n",
    "- **Why this works**:\n",
    "  - `sep='\\s+'`: Uses regex to split on one or more whitespace characters (tabs, spaces). If your files are strictly tab-separated, you can change to `sep='\\t'`. If comma-separated (rare for symbols), use `sep=','`.\n",
    "  - `header=None`: Symbol lists typically have no header row.\n",
    "  - `engine='python'`: Helps with variable delimiters.\n",
    "  - Saves to `.csv`: Matches what `get_stooq_prices_and_tickers` expects (`pd.read_csv(... .csv)`), so no further changes needed there.\n",
    "- If a file uses a different delimiter (e.g., fixed-width or something else), test with `pd.read_fwf(path_txt)` instead, or share a sample line for further tweaks.\n",
    "\n",
    "### Step 3: Run and Verify\n",
    "1. Ensure all `.txt` files are in place (e.g., `stooq/tickers/jp/tse etfs.txt`).\n",
    "2. Rerun the notebook cells, starting from imports.\n",
    "3. The loop should now process your local files without hitting the URL (no more `EmptyDataError`).\n",
    "4. Check output: It will print the number of tickers per asset class (e.g., JP TSE ETFs might have ~100-200 entries).\n",
    "5. After this, the price data processing (e.g., for files like `133a.jp.txt`) should proceed normally, as your example file is properly comma-separated and matches the expected format.\n",
    "6. If errors occur during reading (e.g., mismatched delimiter), inspect the file and adjust `sep`.\n",
    "\n",
    "### Additional Notes\n",
    "- Price data files (like `133a.jp.txt`) are fine—they're comma-separated with a header, as shown, and the script handles them in `get_stooq_prices_and_tickers`.\n",
    "- If Stooq changes formats, re-download symbols periodically.\n",
    "- For large asset classes (e.g., US NYSE Stocks), the symbol list might be long—ensure your text editor handles it.\n",
    "- If you encounter issues with a specific file, run a test in a separate cell: `df = pd.read_csv('stooq/tickers/jp/tse etfs.txt', sep='\\s+', header=None); print(df.head())`. Adjust `sep` as needed."
   ]
  },
  {
   "cell_type": "code",
   "execution_count": 20,
   "metadata": {
    "ExecuteTime": {
     "end_time": "2020-06-19T01:30:28.894603Z",
     "start_time": "2020-06-19T01:30:28.885132Z"
    }
   },
   "outputs": [],
   "source": [
    "metadata_dict = {\n",
    "    ('jp', 'tse etfs'): 34,\n",
    "    ('jp', 'tse stocks'): 32,\n",
    "    ('us', 'nasdaq etfs'): 69,\n",
    "    ('us', 'nasdaq stocks'): 27,\n",
    "    ('us', 'nyse etfs'): 70,\n",
    "    ('us', 'nyse stocks'): 28,\n",
    "    ('us', 'nysemkt stocks'): 26\n",
    "}"
   ]
  },
  {
   "cell_type": "code",
   "execution_count": 21,
   "metadata": {},
   "outputs": [
    {
     "name": "stdout",
     "output_type": "stream",
     "text": [
      "jp tse etfs # tickers: 453\n",
      "jp tse stocks # tickers: 3,953\n",
      "us nasdaq etfs # tickers: 972\n",
      "us nasdaq stocks # tickers: 4,318\n",
      "us nyse etfs # tickers: 2,690\n",
      "us nyse stocks # tickers: 3,558\n",
      "us nysemkt stocks # tickers: 323\n"
     ]
    }
   ],
   "source": [
    "for (market, asset_class), code in metadata_dict.items():\n",
    "    # Path to your manually downloaded .csv file (original remains unchanged)\n",
    "    path_original = stooq_path / 'tickers' / market / f'{asset_class}.csv'\n",
    "    \n",
    "    # Read file line-by-line to handle variable spaces\n",
    "    data = []\n",
    "    with open(path_original, 'r') as file:\n",
    "        for line in file:\n",
    "            # Skip empty lines and header\n",
    "            stripped_line = line.strip()\n",
    "            if not stripped_line or stripped_line.startswith('<TICKER>'):\n",
    "                continue\n",
    "            # Split on the first sequence of spaces (or tab)\n",
    "            parts = stripped_line.split(maxsplit=1)\n",
    "            if len(parts) == 2:  # Ensure we have ticker and name\n",
    "                ticker, name = parts\n",
    "                data.append([ticker.strip('<>'), name.strip('<>')])\n",
    "    \n",
    "    # Create DataFrame\n",
    "    df = pd.DataFrame(data, columns=['ticker', 'name'])\n",
    "    \n",
    "    # Clean up\n",
    "    df = df.apply(lambda x: x.str.strip())\n",
    "    df = df.drop_duplicates('ticker').dropna()\n",
    "    \n",
    "    print(market, asset_class, f'# tickers: {df.shape[0]:,.0f}')\n",
    "    \n",
    "    # Ensure directory exists\n",
    "    path_original.parent.mkdir(parents=True, exist_ok=True)\n",
    "    \n",
    "    # Save processed version to a new file to avoid overwriting original\n",
    "    path_processed = stooq_path / 'tickers' / market / f'{asset_class}_processed.csv'\n",
    "    df.to_csv(path_processed, index=False)"
   ]
  },
  {
   "cell_type": "code",
   "execution_count": 22,
   "metadata": {
    "ExecuteTime": {
     "end_time": "2020-06-19T01:36:26.300430Z",
     "start_time": "2020-06-19T01:36:22.212007Z"
    }
   },
   "outputs": [],
   "source": [
    "# for (market, asset_class), code in metadata_dict.items():\n",
    "#     df = pd.read_csv(f'https://stooq.com/db/l/?g={code}', sep='        ').apply(lambda x: x.str.strip())\n",
    "#     df.columns = ['ticker', 'name']\n",
    "#     df = df.drop_duplicates('ticker').dropna()\n",
    "#     print(market, asset_class, f'# tickers: {df.shape[0]:,.0f}')\n",
    "#     path = stooq_path / 'tickers' / market\n",
    "#     if not path.exists():\n",
    "#         path.mkdir(parents=True)\n",
    "#     df.to_csv(path / f'{asset_class}.csv', index=False)    "
   ]
  },
  {
   "cell_type": "markdown",
   "metadata": {},
   "source": [
    "### Store price data in HDF5 format"
   ]
  },
  {
   "cell_type": "markdown",
   "metadata": {},
   "source": [
    "To speed up loading, we store the price data in HDF format. The function `get_stooq_prices_and_symbols` loads data assuming the directory structure described above and takes the following arguments:\n",
    "- frequency (see Stooq website for options as these may change; default is `daily`\n",
    "- market (default: `us`), and \n",
    "- asset class (default: `nasdaq etfs`.\n",
    "\n",
    "It removes files that do not have data or do not appear in the corresponding list of symbols."
   ]
  },
  {
   "cell_type": "code",
   "execution_count": 23,
   "metadata": {
    "ExecuteTime": {
     "end_time": "2020-06-19T02:28:05.958722Z",
     "start_time": "2020-06-19T02:28:05.940267Z"
    }
   },
   "outputs": [],
   "source": [
    "def get_stooq_prices_and_tickers(frequency='daily',\n",
    "                                 market='us',\n",
    "                                 asset_class='nasdaq etfs'):\n",
    "    prices = []\n",
    "    \n",
    "    # tickers = (pd.read_csv(stooq_path / 'tickers' / market / f'{asset_class}.csv'))\n",
    "    tickers = (pd.read_csv(stooq_path / 'tickers' / market / f'{asset_class}_processed.csv'))\n",
    "\n",
    "    if frequency in ['5 min', 'hourly']:\n",
    "        parse_dates = [['date', 'time']]\n",
    "        date_label = 'date_time'\n",
    "    else:\n",
    "        parse_dates = ['date']\n",
    "        date_label = 'date'\n",
    "    names = ['ticker', 'freq', 'date', 'time', \n",
    "             'open', 'high', 'low', 'close','volume', 'openint']\n",
    "    \n",
    "    usecols = ['ticker', 'open', 'high', 'low', 'close', 'volume'] + parse_dates\n",
    "    path = stooq_path / 'data' / frequency / market / asset_class\n",
    "    print(path.as_posix())\n",
    "    files = path.glob('**/*.txt')\n",
    "    for i, file in enumerate(files, 1):\n",
    "        if i % 500 == 0:\n",
    "            print(i)\n",
    "        if file.stem not in set(tickers.ticker.str.lower()):\n",
    "            print(file.stem, 'not available')\n",
    "            file.unlink()\n",
    "        else:\n",
    "            try:\n",
    "                df = (pd.read_csv(\n",
    "                    file,\n",
    "                    names=names,\n",
    "                    usecols=usecols,\n",
    "                    header=0,\n",
    "                    parse_dates=parse_dates))\n",
    "                prices.append(df)\n",
    "            except pd.errors.EmptyDataError:\n",
    "                print('\\tdata missing', file.stem)\n",
    "                file.unlink()\n",
    "\n",
    "    prices = (pd.concat(prices, ignore_index=True)\n",
    "              .rename(columns=str.lower)\n",
    "              .set_index(['ticker', date_label])\n",
    "              .apply(lambda x: pd.to_numeric(x, errors='coerce')))\n",
    "    return prices, tickers"
   ]
  },
  {
   "cell_type": "markdown",
   "metadata": {},
   "source": [
    "We'll be using US equities and ETFs in [Chapter 9](../09_time_series_models) and and Japanese equities in [Chapter 11](../11_decision_trees_random_forests). The following code collects the price data for the period 2000-2019 and stores it with the corresponding symbols in the global `assets.h5` store:"
   ]
  },
  {
   "cell_type": "code",
   "execution_count": 24,
   "metadata": {
    "ExecuteTime": {
     "end_time": "2020-06-19T02:30:25.079270Z",
     "start_time": "2020-06-19T02:28:06.594886Z"
    },
    "scrolled": false
   },
   "outputs": [
    {
     "name": "stdout",
     "output_type": "stream",
     "text": [
      "\n",
      "tse stocks\n",
      "stooq/data/daily/jp/tse stocks\n",
      "500\n",
      "1000\n",
      "1500\n",
      "2000\n",
      "2500\n",
      "3000\n",
      "3500\n",
      "\n",
      "No. of observations per asset\n",
      "count    3273.000000\n",
      "mean     2827.595784\n",
      "std      1174.797348\n",
      "min         1.000000\n",
      "25%      2179.000000\n",
      "50%      3061.000000\n",
      "75%      3621.000000\n",
      "max      4905.000000\n",
      "dtype: float64\n",
      "<class 'pandas.core.frame.DataFrame'>\n",
      "MultiIndex: 9254721 entries, ('1301.JP', Timestamp('2005-03-22 00:00:00')) to ('9997.JP', Timestamp('2019-12-30 00:00:00'))\n",
      "Data columns (total 5 columns):\n",
      " #   Column  Non-Null Count    Dtype  \n",
      "---  ------  --------------    -----  \n",
      " 0   open    9254721 non-null  float64\n",
      " 1   high    9254721 non-null  float64\n",
      " 2   low     9254721 non-null  float64\n",
      " 3   close   9254721 non-null  float64\n",
      " 4   volume  9254721 non-null  float64\n",
      "dtypes: float64(5)\n",
      "memory usage: 388.7+ MB\n",
      "None\n",
      "<class 'pandas.core.frame.DataFrame'>\n",
      "RangeIndex: 3953 entries, 0 to 3952\n",
      "Data columns (total 2 columns):\n",
      " #   Column  Non-Null Count  Dtype \n",
      "---  ------  --------------  ----- \n",
      " 0   ticker  3953 non-null   object\n",
      " 1   name    3953 non-null   object\n",
      "dtypes: object(2)\n",
      "memory usage: 61.9+ KB\n",
      "None\n",
      "\n",
      "nasdaq etfs\n",
      "stooq/data/daily/us/nasdaq etfs\n",
      "500\n",
      "\n",
      "No. of observations per asset\n",
      "count     327.000000\n",
      "mean     1665.519878\n",
      "std      1125.736952\n",
      "min         2.000000\n",
      "25%       641.500000\n",
      "50%      1514.000000\n",
      "75%      2507.000000\n",
      "max      5031.000000\n",
      "dtype: float64\n",
      "<class 'pandas.core.frame.DataFrame'>\n",
      "MultiIndex: 544625 entries, ('AADR.US', Timestamp('2010-07-21 00:00:00')) to ('YLDE.US', Timestamp('2019-12-27 00:00:00'))\n",
      "Data columns (total 5 columns):\n",
      " #   Column  Non-Null Count   Dtype  \n",
      "---  ------  --------------   -----  \n",
      " 0   open    544625 non-null  float64\n",
      " 1   high    544625 non-null  float64\n",
      " 2   low     544625 non-null  float64\n",
      " 3   close   544625 non-null  float64\n",
      " 4   volume  544625 non-null  float64\n",
      "dtypes: float64(5)\n",
      "memory usage: 23.0+ MB\n",
      "None\n",
      "<class 'pandas.core.frame.DataFrame'>\n",
      "RangeIndex: 972 entries, 0 to 971\n",
      "Data columns (total 2 columns):\n",
      " #   Column  Non-Null Count  Dtype \n",
      "---  ------  --------------  ----- \n",
      " 0   ticker  972 non-null    object\n",
      " 1   name    972 non-null    object\n",
      "dtypes: object(2)\n",
      "memory usage: 15.3+ KB\n",
      "None\n",
      "\n",
      "nasdaq stocks\n",
      "stooq/data/daily/us/nasdaq stocks\n",
      "500\n",
      "1000\n",
      "1500\n",
      "biafw.us not available\n",
      "2000\n",
      "wlgsf.us not available\n",
      "2500\n",
      "3000\n",
      "3500\n",
      "4000\n",
      "\n",
      "No. of observations per asset\n",
      "count    2001.000000\n",
      "mean     2310.950525\n",
      "std      1509.921721\n",
      "min         2.000000\n",
      "25%       790.000000\n",
      "50%      2481.000000\n",
      "75%      3737.000000\n",
      "max      5031.000000\n",
      "dtype: float64\n",
      "<class 'pandas.core.frame.DataFrame'>\n",
      "MultiIndex: 4624212 entries, ('AACG.US', Timestamp('2008-01-28 00:00:00')) to ('ZYXI.US', Timestamp('2019-12-31 00:00:00'))\n",
      "Data columns (total 5 columns):\n",
      " #   Column  Non-Null Count    Dtype  \n",
      "---  ------  --------------    -----  \n",
      " 0   open    4624212 non-null  float64\n",
      " 1   high    4624212 non-null  float64\n",
      " 2   low     4624212 non-null  float64\n",
      " 3   close   4624212 non-null  float64\n",
      " 4   volume  4624212 non-null  float64\n",
      "dtypes: float64(5)\n",
      "memory usage: 194.3+ MB\n",
      "None\n",
      "<class 'pandas.core.frame.DataFrame'>\n",
      "RangeIndex: 4318 entries, 0 to 4317\n",
      "Data columns (total 2 columns):\n",
      " #   Column  Non-Null Count  Dtype \n",
      "---  ------  --------------  ----- \n",
      " 0   ticker  4318 non-null   object\n",
      " 1   name    4318 non-null   object\n",
      "dtypes: object(2)\n",
      "memory usage: 67.6+ KB\n",
      "None\n",
      "\n",
      "nyse etfs\n",
      "stooq/data/daily/us/nyse etfs\n",
      "500\n",
      "1000\n",
      "1500\n",
      "2000\n",
      "2500\n",
      "\n",
      "No. of observations per asset\n",
      "count    1406.000000\n",
      "mean     1836.694879\n",
      "std      1268.541126\n",
      "min         1.000000\n",
      "25%       592.500000\n",
      "50%      1754.500000\n",
      "75%      3079.000000\n",
      "max      3738.000000\n",
      "dtype: float64\n",
      "<class 'pandas.core.frame.DataFrame'>\n",
      "MultiIndex: 2582393 entries, ('AAAU.US', Timestamp('2018-08-15 00:00:00')) to ('ZSL.US', Timestamp('2019-12-31 00:00:00'))\n",
      "Data columns (total 5 columns):\n",
      " #   Column  Non-Null Count    Dtype  \n",
      "---  ------  --------------    -----  \n",
      " 0   open    2582393 non-null  float64\n",
      " 1   high    2582393 non-null  float64\n",
      " 2   low     2582393 non-null  float64\n",
      " 3   close   2582393 non-null  float64\n",
      " 4   volume  2582393 non-null  float64\n",
      "dtypes: float64(5)\n",
      "memory usage: 108.6+ MB\n",
      "None\n",
      "<class 'pandas.core.frame.DataFrame'>\n",
      "RangeIndex: 2690 entries, 0 to 2689\n",
      "Data columns (total 2 columns):\n",
      " #   Column  Non-Null Count  Dtype \n",
      "---  ------  --------------  ----- \n",
      " 0   ticker  2690 non-null   object\n",
      " 1   name    2690 non-null   object\n",
      "dtypes: object(2)\n",
      "memory usage: 42.2+ KB\n",
      "None\n",
      "\n",
      "nyse stocks\n",
      "stooq/data/daily/us/nyse stocks\n",
      "500\n",
      "1000\n",
      "1500\n",
      "2000\n",
      "2500\n",
      "3000\n",
      "3500\n",
      "\n",
      "No. of observations per asset\n",
      "count    2112.000000\n",
      "mean     2773.878788\n",
      "std      1510.144220\n",
      "min         2.000000\n",
      "25%      1403.000000\n",
      "50%      3729.000000\n",
      "75%      3737.000000\n",
      "max      5031.000000\n",
      "dtype: float64\n",
      "<class 'pandas.core.frame.DataFrame'>\n",
      "MultiIndex: 5858432 entries, ('A.US', Timestamp('2000-01-03 00:00:00')) to ('ZWS.US', Timestamp('2019-12-31 00:00:00'))\n",
      "Data columns (total 5 columns):\n",
      " #   Column  Non-Null Count    Dtype  \n",
      "---  ------  --------------    -----  \n",
      " 0   open    5858432 non-null  float64\n",
      " 1   high    5858432 non-null  float64\n",
      " 2   low     5858432 non-null  float64\n",
      " 3   close   5858432 non-null  float64\n",
      " 4   volume  5858432 non-null  float64\n",
      "dtypes: float64(5)\n",
      "memory usage: 246.1+ MB\n",
      "None\n",
      "<class 'pandas.core.frame.DataFrame'>\n",
      "RangeIndex: 3558 entries, 0 to 3557\n",
      "Data columns (total 2 columns):\n",
      " #   Column  Non-Null Count  Dtype \n",
      "---  ------  --------------  ----- \n",
      " 0   ticker  3558 non-null   object\n",
      " 1   name    3558 non-null   object\n",
      "dtypes: object(2)\n",
      "memory usage: 55.7+ KB\n",
      "None\n",
      "\n",
      "nysemkt stocks\n",
      "stooq/data/daily/us/nysemkt stocks\n",
      "\n",
      "No. of observations per asset\n",
      "count     190.000000\n",
      "mean     2728.615789\n",
      "std      1231.916017\n",
      "min         4.000000\n",
      "25%      1695.250000\n",
      "50%      3421.000000\n",
      "75%      3727.750000\n",
      "max      5029.000000\n",
      "dtype: float64\n",
      "<class 'pandas.core.frame.DataFrame'>\n",
      "MultiIndex: 518437 entries, ('ACCS.US', Timestamp('2008-03-10 00:00:00')) to ('ZDGE.US', Timestamp('2019-12-31 00:00:00'))\n",
      "Data columns (total 5 columns):\n",
      " #   Column  Non-Null Count   Dtype  \n",
      "---  ------  --------------   -----  \n",
      " 0   open    518437 non-null  float64\n",
      " 1   high    518437 non-null  float64\n",
      " 2   low     518437 non-null  float64\n",
      " 3   close   518437 non-null  float64\n",
      " 4   volume  518437 non-null  float64\n",
      "dtypes: float64(5)\n",
      "memory usage: 21.9+ MB\n",
      "None\n",
      "<class 'pandas.core.frame.DataFrame'>\n",
      "RangeIndex: 323 entries, 0 to 322\n",
      "Data columns (total 2 columns):\n",
      " #   Column  Non-Null Count  Dtype \n",
      "---  ------  --------------  ----- \n",
      " 0   ticker  323 non-null    object\n",
      " 1   name    323 non-null    object\n",
      "dtypes: object(2)\n",
      "memory usage: 5.2+ KB\n",
      "None\n"
     ]
    }
   ],
   "source": [
    "# load some Japanese and all US assets for 2000-2019\n",
    "markets = {'jp': ['tse stocks'],\n",
    "           'us': ['nasdaq etfs', 'nasdaq stocks', 'nyse etfs', 'nyse stocks', 'nysemkt stocks']\n",
    "          }\n",
    "frequency = 'daily'\n",
    "\n",
    "idx = pd.IndexSlice\n",
    "for market, asset_classes in markets.items():\n",
    "    for asset_class in asset_classes:\n",
    "        print(f'\\n{asset_class}')\n",
    "        prices, tickers = get_stooq_prices_and_tickers(frequency=frequency, \n",
    "                                                       market=market, \n",
    "                                                       asset_class=asset_class)\n",
    "        \n",
    "        prices = prices.sort_index().loc[idx[:, '2000': '2019'], :]\n",
    "        names = prices.index.names\n",
    "        prices = (prices\n",
    "                  .reset_index()\n",
    "                  .drop_duplicates()\n",
    "                  .set_index(names)\n",
    "                  .sort_index())\n",
    "        \n",
    "        print('\\nNo. of observations per asset')\n",
    "        print(prices.groupby('ticker').size().describe())\n",
    "        key = f'stooq/{market}/{asset_class.replace(\" \", \"/\")}/'\n",
    "        \n",
    "        print(prices.info(show_counts=True))\n",
    "        \n",
    "        prices.to_hdf(DATA_STORE, key + 'prices', format='t')\n",
    "        \n",
    "        print(tickers.info())\n",
    "        tickers.to_hdf(DATA_STORE, key + 'tickers', format='t')"
   ]
  }
 ],
 "metadata": {
  "kernelspec": {
   "display_name": "crypto",
   "language": "python",
   "name": "python3"
  },
  "language_info": {
   "codemirror_mode": {
    "name": "ipython",
    "version": 3
   },
   "file_extension": ".py",
   "mimetype": "text/x-python",
   "name": "python",
   "nbconvert_exporter": "python",
   "pygments_lexer": "ipython3",
   "version": "3.12.5"
  },
  "toc": {
   "base_numbering": 1,
   "nav_menu": {},
   "number_sections": true,
   "sideBar": true,
   "skip_h1_title": true,
   "title_cell": "Table of Contents",
   "title_sidebar": "Contents",
   "toc_cell": false,
   "toc_position": {},
   "toc_section_display": true,
   "toc_window_display": true
  }
 },
 "nbformat": 4,
 "nbformat_minor": 4
}
