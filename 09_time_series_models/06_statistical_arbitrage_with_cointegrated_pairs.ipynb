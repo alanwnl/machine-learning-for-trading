{
 "cells": [
  {
   "cell_type": "markdown",
   "metadata": {},
   "source": [
    "# Statistical arbitrage with Cointegration"
   ]
  },
  {
   "cell_type": "markdown",
   "metadata": {},
   "source": [
    "## Pairs Trading & Statistical Arbitrage\n",
    "\n",
    "Statistical arbitrage refers to strategies that employ some statistical model or method to take\n",
    "advantage of what appears to be relative mispricing of assets, while maintaining a level of\n",
    "market neutrality.\n",
    "\n",
    "Pairs trading is a conceptually straightforward strategy that has been employed by algorithmic traders since at least the mid-eighties ([Gatev, Goetzmann, and Rouwenhorst 2006](http://www-stat.wharton.upenn.edu/~steele/Courses/434/434Context/PairsTrading/PairsTradingGGR.pdf)). The goal is to find two assets whose prices have historically moved together, track the spread (the difference between their prices), and, once the spread widens, buy the\n",
    "loser that has dropped below the common trend and short the winner. If the relationship persists, the long and/or the short leg will deliver profits as prices converge and the positions are closed.\n",
    "\n",
    "This approach extends to a multivariate context by forming baskets from multiple securities and trading one asset against a basket of two baskets against each other.\n",
    "\n",
    "## Pairs Trading in Practice\n",
    "\n",
    "In practice, the strategy requires two steps:\n",
    "\n",
    "1. **Formation phase**: Identify securities that have a long-term mean-reverting relationship. Ideally, the spread should have a high variance to allow for frequent profitable trades while reliably reverting to the common trend.\n",
    "2. **Trading phase**: Trigger entry and exit trading rules as price movements cause thespread to diverge and converge.\n",
    "\n",
    "Several approaches to the formation and trading phases have emerged from increasingly active research in this area, across multiple asset classes, over the last several years. The book outlines the key differences between them; the notebook dives into an example application."
   ]
  },
  {
   "cell_type": "markdown",
   "metadata": {},
   "source": [
    "## Imports & Settings"
   ]
  },
  {
   "cell_type": "code",
   "execution_count": 81,
   "metadata": {
    "ExecuteTime": {
     "end_time": "2020-06-19T02:42:47.349889Z",
     "start_time": "2020-06-19T02:42:47.347632Z"
    }
   },
   "outputs": [],
   "source": [
    "import warnings\n",
    "warnings.filterwarnings('ignore')"
   ]
  },
  {
   "cell_type": "code",
   "execution_count": 82,
   "metadata": {
    "ExecuteTime": {
     "end_time": "2020-06-19T02:42:47.908593Z",
     "start_time": "2020-06-19T02:42:47.351191Z"
    }
   },
   "outputs": [],
   "source": [
    "from collections import Counter\n",
    "\n",
    "from time import time\n",
    "from pathlib import Path\n",
    "\n",
    "import numpy as np\n",
    "import pandas as pd\n",
    "\n",
    "from pykalman import KalmanFilter\n",
    "from statsmodels.tsa.stattools import coint\n",
    "from statsmodels.tsa.vector_ar.vecm import coint_johansen\n",
    "from statsmodels.tsa.api import VAR\n",
    "\n",
    "import matplotlib.pyplot as plt\n",
    "import seaborn as sns"
   ]
  },
  {
   "cell_type": "code",
   "execution_count": 83,
   "metadata": {
    "ExecuteTime": {
     "end_time": "2020-06-19T02:42:47.912091Z",
     "start_time": "2020-06-19T02:42:47.909755Z"
    }
   },
   "outputs": [],
   "source": [
    "idx = pd.IndexSlice\n",
    "sns.set_style('whitegrid')"
   ]
  },
  {
   "cell_type": "code",
   "execution_count": 84,
   "metadata": {
    "ExecuteTime": {
     "end_time": "2020-06-19T02:42:47.933578Z",
     "start_time": "2020-06-19T02:42:47.927007Z"
    }
   },
   "outputs": [],
   "source": [
    "def format_time(t):\n",
    "    m_, s = divmod(t, 60)\n",
    "    h, m = divmod(m_, 60)\n",
    "    return f'{h:>02.0f}:{m:>02.0f}:{s:>02.0f}'"
   ]
  },
  {
   "cell_type": "markdown",
   "metadata": {},
   "source": [
    "### Johansen Test Critical Values"
   ]
  },
  {
   "cell_type": "code",
   "execution_count": 85,
   "metadata": {
    "ExecuteTime": {
     "end_time": "2020-06-19T02:42:47.943279Z",
     "start_time": "2020-06-19T02:42:47.934611Z"
    }
   },
   "outputs": [],
   "source": [
    "critical_values = {0: {.9: 13.4294, .95: 15.4943, .99: 19.9349},\n",
    "                   1: {.9: 2.7055, .95: 3.8415, .99: 6.6349}}"
   ]
  },
  {
   "cell_type": "code",
   "execution_count": 86,
   "metadata": {
    "ExecuteTime": {
     "end_time": "2020-06-19T02:42:47.951303Z",
     "start_time": "2020-06-19T02:42:47.944195Z"
    }
   },
   "outputs": [],
   "source": [
    "trace0_cv = critical_values[0][.95] # critical value for 0 cointegration relationships\n",
    "trace1_cv = critical_values[1][.95] # critical value for 1 cointegration relationship"
   ]
  },
  {
   "cell_type": "markdown",
   "metadata": {},
   "source": [
    "## Load Data"
   ]
  },
  {
   "cell_type": "code",
   "execution_count": 87,
   "metadata": {
    "ExecuteTime": {
     "end_time": "2020-06-19T13:03:36.116641Z",
     "start_time": "2020-06-19T13:03:36.109897Z"
    }
   },
   "outputs": [],
   "source": [
    "DATA_PATH = Path('..', 'data') \n",
    "STORE = DATA_PATH / 'assets.h5'"
   ]
  },
  {
   "cell_type": "markdown",
   "metadata": {},
   "source": [
    "### Get backtest prices"
   ]
  },
  {
   "cell_type": "markdown",
   "metadata": {},
   "source": [
    "Combine OHLCV prices for relevant stock and ETF tickers."
   ]
  },
  {
   "cell_type": "code",
   "execution_count": 88,
   "metadata": {
    "ExecuteTime": {
     "end_time": "2020-06-19T13:09:37.773341Z",
     "start_time": "2020-06-19T13:09:37.761245Z"
    }
   },
   "outputs": [],
   "source": [
    "def get_backtest_prices():\n",
    "    with pd.HDFStore('data.h5') as store:\n",
    "        tickers = store['tickers']\n",
    "\n",
    "    with pd.HDFStore(STORE) as store:\n",
    "        prices = (pd.concat([\n",
    "            store['stooq/us/nyse/stocks/prices'],\n",
    "            store['stooq/us/nyse/etfs/prices'],\n",
    "            store['stooq/us/nasdaq/etfs/prices'],\n",
    "            store['stooq/us/nasdaq/stocks/prices']])\n",
    "                  .sort_index()\n",
    "                  .loc[idx[tickers.index, '2016':'2019'], :])\n",
    "    print(prices.info(show_counts=True))\n",
    "    prices.to_hdf('backtest.h5', 'prices')\n",
    "    tickers.to_hdf('backtest.h5', 'tickers')"
   ]
  },
  {
   "cell_type": "code",
   "execution_count": 89,
   "metadata": {
    "ExecuteTime": {
     "end_time": "2020-06-19T13:10:04.571934Z",
     "start_time": "2020-06-19T13:09:38.060713Z"
    }
   },
   "outputs": [
    {
     "name": "stdout",
     "output_type": "stream",
     "text": [
      "<class 'pandas.core.frame.DataFrame'>\n",
      "MultiIndex: 305824 entries, ('AA.US', Timestamp('2016-01-04 00:00:00')) to ('WYNN.US', Timestamp('2019-12-31 00:00:00'))\n",
      "Data columns (total 5 columns):\n",
      " #   Column  Non-Null Count   Dtype  \n",
      "---  ------  --------------   -----  \n",
      " 0   open    305824 non-null  float64\n",
      " 1   high    305824 non-null  float64\n",
      " 2   low     305824 non-null  float64\n",
      " 3   close   305824 non-null  float64\n",
      " 4   volume  305824 non-null  float64\n",
      "dtypes: float64(5)\n",
      "memory usage: 13.2+ MB\n",
      "None\n"
     ]
    }
   ],
   "source": [
    "get_backtest_prices()"
   ]
  },
  {
   "cell_type": "markdown",
   "metadata": {},
   "source": [
    "### Load Stock Prices"
   ]
  },
  {
   "cell_type": "code",
   "execution_count": 90,
   "metadata": {
    "ExecuteTime": {
     "end_time": "2020-06-19T02:42:48.043300Z",
     "start_time": "2020-06-19T02:42:47.984127Z"
    }
   },
   "outputs": [
    {
     "name": "stdout",
     "output_type": "stream",
     "text": [
      "<class 'pandas.core.frame.DataFrame'>\n",
      "DatetimeIndex: 1258 entries, 2015-01-02 to 2019-12-31\n",
      "Columns: 172 entries, AAPL.US to AEP.US\n",
      "dtypes: float64(172)\n",
      "memory usage: 1.7 MB\n"
     ]
    },
    {
     "data": {
      "text/html": [
       "<div>\n",
       "<style scoped>\n",
       "    .dataframe tbody tr th:only-of-type {\n",
       "        vertical-align: middle;\n",
       "    }\n",
       "\n",
       "    .dataframe tbody tr th {\n",
       "        vertical-align: top;\n",
       "    }\n",
       "\n",
       "    .dataframe thead th {\n",
       "        text-align: right;\n",
       "    }\n",
       "</style>\n",
       "<table border=\"1\" class=\"dataframe\">\n",
       "  <thead>\n",
       "    <tr style=\"text-align: right;\">\n",
       "      <th>ticker</th>\n",
       "      <th>AAPL.US</th>\n",
       "      <th>AMZN.US</th>\n",
       "      <th>MSFT.US</th>\n",
       "      <th>BAC.US</th>\n",
       "      <th>GOOGL.US</th>\n",
       "      <th>NFLX.US</th>\n",
       "      <th>C.US</th>\n",
       "      <th>JPM.US</th>\n",
       "      <th>XOM.US</th>\n",
       "      <th>INTC.US</th>\n",
       "      <th>...</th>\n",
       "      <th>CLF.US</th>\n",
       "      <th>FITB.US</th>\n",
       "      <th>GEN.US</th>\n",
       "      <th>GAP.US</th>\n",
       "      <th>ADSK.US</th>\n",
       "      <th>FSLR.US</th>\n",
       "      <th>ADI.US</th>\n",
       "      <th>PCG.US</th>\n",
       "      <th>NVS.US</th>\n",
       "      <th>AEP.US</th>\n",
       "    </tr>\n",
       "    <tr>\n",
       "      <th>date</th>\n",
       "      <th></th>\n",
       "      <th></th>\n",
       "      <th></th>\n",
       "      <th></th>\n",
       "      <th></th>\n",
       "      <th></th>\n",
       "      <th></th>\n",
       "      <th></th>\n",
       "      <th></th>\n",
       "      <th></th>\n",
       "      <th></th>\n",
       "      <th></th>\n",
       "      <th></th>\n",
       "      <th></th>\n",
       "      <th></th>\n",
       "      <th></th>\n",
       "      <th></th>\n",
       "      <th></th>\n",
       "      <th></th>\n",
       "      <th></th>\n",
       "      <th></th>\n",
       "    </tr>\n",
       "  </thead>\n",
       "  <tbody>\n",
       "    <tr>\n",
       "      <th>2015-01-02</th>\n",
       "      <td>24.3203</td>\n",
       "      <td>15.4260</td>\n",
       "      <td>40.1536</td>\n",
       "      <td>15.3668</td>\n",
       "      <td>26.3819</td>\n",
       "      <td>49.849</td>\n",
       "      <td>45.0718</td>\n",
       "      <td>50.3059</td>\n",
       "      <td>63.7264</td>\n",
       "      <td>28.9303</td>\n",
       "      <td>...</td>\n",
       "      <td>6.6967</td>\n",
       "      <td>14.5194</td>\n",
       "      <td>10.27600</td>\n",
       "      <td>31.2373</td>\n",
       "      <td>59.53</td>\n",
       "      <td>44.545</td>\n",
       "      <td>46.7245</td>\n",
       "      <td>48.772</td>\n",
       "      <td>73.049</td>\n",
       "      <td>46.3700</td>\n",
       "    </tr>\n",
       "    <tr>\n",
       "      <th>2015-01-05</th>\n",
       "      <td>23.6361</td>\n",
       "      <td>15.1095</td>\n",
       "      <td>39.7826</td>\n",
       "      <td>14.9238</td>\n",
       "      <td>25.8791</td>\n",
       "      <td>47.311</td>\n",
       "      <td>43.6485</td>\n",
       "      <td>48.7429</td>\n",
       "      <td>61.9827</td>\n",
       "      <td>28.6040</td>\n",
       "      <td>...</td>\n",
       "      <td>6.2108</td>\n",
       "      <td>14.0833</td>\n",
       "      <td>10.13220</td>\n",
       "      <td>31.4391</td>\n",
       "      <td>58.66</td>\n",
       "      <td>41.830</td>\n",
       "      <td>45.8705</td>\n",
       "      <td>49.594</td>\n",
       "      <td>73.210</td>\n",
       "      <td>45.6898</td>\n",
       "    </tr>\n",
       "    <tr>\n",
       "      <th>2015-01-06</th>\n",
       "      <td>23.6381</td>\n",
       "      <td>14.7645</td>\n",
       "      <td>39.1972</td>\n",
       "      <td>14.4711</td>\n",
       "      <td>25.2406</td>\n",
       "      <td>46.501</td>\n",
       "      <td>42.1145</td>\n",
       "      <td>47.4804</td>\n",
       "      <td>61.6540</td>\n",
       "      <td>28.0687</td>\n",
       "      <td>...</td>\n",
       "      <td>6.0109</td>\n",
       "      <td>13.5169</td>\n",
       "      <td>9.97376</td>\n",
       "      <td>31.0230</td>\n",
       "      <td>57.50</td>\n",
       "      <td>40.860</td>\n",
       "      <td>44.7955</td>\n",
       "      <td>49.519</td>\n",
       "      <td>72.591</td>\n",
       "      <td>45.9386</td>\n",
       "    </tr>\n",
       "    <tr>\n",
       "      <th>2015-01-07</th>\n",
       "      <td>23.9734</td>\n",
       "      <td>14.9210</td>\n",
       "      <td>39.6975</td>\n",
       "      <td>14.5438</td>\n",
       "      <td>25.1663</td>\n",
       "      <td>46.743</td>\n",
       "      <td>42.5031</td>\n",
       "      <td>47.5512</td>\n",
       "      <td>62.2793</td>\n",
       "      <td>28.6587</td>\n",
       "      <td>...</td>\n",
       "      <td>6.5157</td>\n",
       "      <td>13.6660</td>\n",
       "      <td>10.06520</td>\n",
       "      <td>32.5231</td>\n",
       "      <td>57.38</td>\n",
       "      <td>41.750</td>\n",
       "      <td>45.2680</td>\n",
       "      <td>49.913</td>\n",
       "      <td>72.907</td>\n",
       "      <td>46.5922</td>\n",
       "    </tr>\n",
       "    <tr>\n",
       "      <th>2015-01-08</th>\n",
       "      <td>24.8927</td>\n",
       "      <td>15.0230</td>\n",
       "      <td>40.8676</td>\n",
       "      <td>14.8413</td>\n",
       "      <td>25.2540</td>\n",
       "      <td>47.779</td>\n",
       "      <td>43.1443</td>\n",
       "      <td>48.6122</td>\n",
       "      <td>63.3131</td>\n",
       "      <td>29.1950</td>\n",
       "      <td>...</td>\n",
       "      <td>6.9825</td>\n",
       "      <td>13.9755</td>\n",
       "      <td>10.24930</td>\n",
       "      <td>32.1495</td>\n",
       "      <td>58.80</td>\n",
       "      <td>43.630</td>\n",
       "      <td>46.0677</td>\n",
       "      <td>50.543</td>\n",
       "      <td>75.442</td>\n",
       "      <td>46.9913</td>\n",
       "    </tr>\n",
       "    <tr>\n",
       "      <th>...</th>\n",
       "      <td>...</td>\n",
       "      <td>...</td>\n",
       "      <td>...</td>\n",
       "      <td>...</td>\n",
       "      <td>...</td>\n",
       "      <td>...</td>\n",
       "      <td>...</td>\n",
       "      <td>...</td>\n",
       "      <td>...</td>\n",
       "      <td>...</td>\n",
       "      <td>...</td>\n",
       "      <td>...</td>\n",
       "      <td>...</td>\n",
       "      <td>...</td>\n",
       "      <td>...</td>\n",
       "      <td>...</td>\n",
       "      <td>...</td>\n",
       "      <td>...</td>\n",
       "      <td>...</td>\n",
       "      <td>...</td>\n",
       "      <td>...</td>\n",
       "    </tr>\n",
       "    <tr>\n",
       "      <th>2019-12-24</th>\n",
       "      <td>68.8225</td>\n",
       "      <td>89.4605</td>\n",
       "      <td>150.5140</td>\n",
       "      <td>32.8869</td>\n",
       "      <td>66.9786</td>\n",
       "      <td>333.200</td>\n",
       "      <td>70.4716</td>\n",
       "      <td>125.5370</td>\n",
       "      <td>58.7539</td>\n",
       "      <td>54.3557</td>\n",
       "      <td>...</td>\n",
       "      <td>8.2083</td>\n",
       "      <td>25.3039</td>\n",
       "      <td>13.91340</td>\n",
       "      <td>15.6452</td>\n",
       "      <td>183.91</td>\n",
       "      <td>57.980</td>\n",
       "      <td>113.2370</td>\n",
       "      <td>10.950</td>\n",
       "      <td>87.976</td>\n",
       "      <td>84.8095</td>\n",
       "    </tr>\n",
       "    <tr>\n",
       "      <th>2019-12-26</th>\n",
       "      <td>70.1874</td>\n",
       "      <td>93.4385</td>\n",
       "      <td>151.7760</td>\n",
       "      <td>33.1679</td>\n",
       "      <td>67.8774</td>\n",
       "      <td>332.630</td>\n",
       "      <td>71.5816</td>\n",
       "      <td>126.8730</td>\n",
       "      <td>58.8474</td>\n",
       "      <td>54.7318</td>\n",
       "      <td>...</td>\n",
       "      <td>8.1692</td>\n",
       "      <td>25.4341</td>\n",
       "      <td>13.78850</td>\n",
       "      <td>15.9020</td>\n",
       "      <td>184.24</td>\n",
       "      <td>58.660</td>\n",
       "      <td>113.2470</td>\n",
       "      <td>10.860</td>\n",
       "      <td>87.966</td>\n",
       "      <td>84.8459</td>\n",
       "    </tr>\n",
       "    <tr>\n",
       "      <th>2019-12-27</th>\n",
       "      <td>70.1597</td>\n",
       "      <td>93.4900</td>\n",
       "      <td>152.0480</td>\n",
       "      <td>33.0077</td>\n",
       "      <td>67.4874</td>\n",
       "      <td>329.090</td>\n",
       "      <td>71.4387</td>\n",
       "      <td>126.9610</td>\n",
       "      <td>58.6451</td>\n",
       "      <td>54.9702</td>\n",
       "      <td>...</td>\n",
       "      <td>8.0324</td>\n",
       "      <td>25.2543</td>\n",
       "      <td>13.87010</td>\n",
       "      <td>15.8131</td>\n",
       "      <td>185.38</td>\n",
       "      <td>56.410</td>\n",
       "      <td>112.9800</td>\n",
       "      <td>10.440</td>\n",
       "      <td>88.486</td>\n",
       "      <td>85.1279</td>\n",
       "    </tr>\n",
       "    <tr>\n",
       "      <th>2019-12-30</th>\n",
       "      <td>70.5778</td>\n",
       "      <td>92.3445</td>\n",
       "      <td>150.7200</td>\n",
       "      <td>32.8212</td>\n",
       "      <td>66.7435</td>\n",
       "      <td>323.310</td>\n",
       "      <td>71.2947</td>\n",
       "      <td>126.4890</td>\n",
       "      <td>58.3018</td>\n",
       "      <td>54.5501</td>\n",
       "      <td>...</td>\n",
       "      <td>8.1399</td>\n",
       "      <td>25.1636</td>\n",
       "      <td>13.80520</td>\n",
       "      <td>15.8045</td>\n",
       "      <td>183.30</td>\n",
       "      <td>56.260</td>\n",
       "      <td>112.4090</td>\n",
       "      <td>10.800</td>\n",
       "      <td>87.725</td>\n",
       "      <td>84.9815</td>\n",
       "    </tr>\n",
       "    <tr>\n",
       "      <th>2019-12-31</th>\n",
       "      <td>71.0911</td>\n",
       "      <td>92.3920</td>\n",
       "      <td>150.8290</td>\n",
       "      <td>32.8869</td>\n",
       "      <td>66.7276</td>\n",
       "      <td>323.570</td>\n",
       "      <td>71.6364</td>\n",
       "      <td>127.2170</td>\n",
       "      <td>58.5536</td>\n",
       "      <td>54.7601</td>\n",
       "      <td>...</td>\n",
       "      <td>8.2083</td>\n",
       "      <td>25.3208</td>\n",
       "      <td>13.82690</td>\n",
       "      <td>15.6810</td>\n",
       "      <td>183.46</td>\n",
       "      <td>55.960</td>\n",
       "      <td>112.3890</td>\n",
       "      <td>10.870</td>\n",
       "      <td>87.855</td>\n",
       "      <td>85.4150</td>\n",
       "    </tr>\n",
       "  </tbody>\n",
       "</table>\n",
       "<p>1258 rows × 172 columns</p>\n",
       "</div>"
      ],
      "text/plain": [
       "ticker      AAPL.US  AMZN.US   MSFT.US   BAC.US  GOOGL.US  NFLX.US     C.US  \\\n",
       "date                                                                          \n",
       "2015-01-02  24.3203  15.4260   40.1536  15.3668   26.3819   49.849  45.0718   \n",
       "2015-01-05  23.6361  15.1095   39.7826  14.9238   25.8791   47.311  43.6485   \n",
       "2015-01-06  23.6381  14.7645   39.1972  14.4711   25.2406   46.501  42.1145   \n",
       "2015-01-07  23.9734  14.9210   39.6975  14.5438   25.1663   46.743  42.5031   \n",
       "2015-01-08  24.8927  15.0230   40.8676  14.8413   25.2540   47.779  43.1443   \n",
       "...             ...      ...       ...      ...       ...      ...      ...   \n",
       "2019-12-24  68.8225  89.4605  150.5140  32.8869   66.9786  333.200  70.4716   \n",
       "2019-12-26  70.1874  93.4385  151.7760  33.1679   67.8774  332.630  71.5816   \n",
       "2019-12-27  70.1597  93.4900  152.0480  33.0077   67.4874  329.090  71.4387   \n",
       "2019-12-30  70.5778  92.3445  150.7200  32.8212   66.7435  323.310  71.2947   \n",
       "2019-12-31  71.0911  92.3920  150.8290  32.8869   66.7276  323.570  71.6364   \n",
       "\n",
       "ticker        JPM.US   XOM.US  INTC.US  ...  CLF.US  FITB.US    GEN.US  \\\n",
       "date                                    ...                              \n",
       "2015-01-02   50.3059  63.7264  28.9303  ...  6.6967  14.5194  10.27600   \n",
       "2015-01-05   48.7429  61.9827  28.6040  ...  6.2108  14.0833  10.13220   \n",
       "2015-01-06   47.4804  61.6540  28.0687  ...  6.0109  13.5169   9.97376   \n",
       "2015-01-07   47.5512  62.2793  28.6587  ...  6.5157  13.6660  10.06520   \n",
       "2015-01-08   48.6122  63.3131  29.1950  ...  6.9825  13.9755  10.24930   \n",
       "...              ...      ...      ...  ...     ...      ...       ...   \n",
       "2019-12-24  125.5370  58.7539  54.3557  ...  8.2083  25.3039  13.91340   \n",
       "2019-12-26  126.8730  58.8474  54.7318  ...  8.1692  25.4341  13.78850   \n",
       "2019-12-27  126.9610  58.6451  54.9702  ...  8.0324  25.2543  13.87010   \n",
       "2019-12-30  126.4890  58.3018  54.5501  ...  8.1399  25.1636  13.80520   \n",
       "2019-12-31  127.2170  58.5536  54.7601  ...  8.2083  25.3208  13.82690   \n",
       "\n",
       "ticker       GAP.US  ADSK.US  FSLR.US    ADI.US  PCG.US  NVS.US   AEP.US  \n",
       "date                                                                      \n",
       "2015-01-02  31.2373    59.53   44.545   46.7245  48.772  73.049  46.3700  \n",
       "2015-01-05  31.4391    58.66   41.830   45.8705  49.594  73.210  45.6898  \n",
       "2015-01-06  31.0230    57.50   40.860   44.7955  49.519  72.591  45.9386  \n",
       "2015-01-07  32.5231    57.38   41.750   45.2680  49.913  72.907  46.5922  \n",
       "2015-01-08  32.1495    58.80   43.630   46.0677  50.543  75.442  46.9913  \n",
       "...             ...      ...      ...       ...     ...     ...      ...  \n",
       "2019-12-24  15.6452   183.91   57.980  113.2370  10.950  87.976  84.8095  \n",
       "2019-12-26  15.9020   184.24   58.660  113.2470  10.860  87.966  84.8459  \n",
       "2019-12-27  15.8131   185.38   56.410  112.9800  10.440  88.486  85.1279  \n",
       "2019-12-30  15.8045   183.30   56.260  112.4090  10.800  87.725  84.9815  \n",
       "2019-12-31  15.6810   183.46   55.960  112.3890  10.870  87.855  85.4150  \n",
       "\n",
       "[1258 rows x 172 columns]"
      ]
     },
     "execution_count": 90,
     "metadata": {},
     "output_type": "execute_result"
    }
   ],
   "source": [
    "# see notebook 05_cointagration_tests\n",
    "stocks = pd.read_hdf('data.h5', 'stocks/close').loc['2015':]\n",
    "stocks.info()\n",
    "stocks"
   ]
  },
  {
   "cell_type": "markdown",
   "metadata": {},
   "source": [
    "### Load ETF Data"
   ]
  },
  {
   "cell_type": "code",
   "execution_count": 91,
   "metadata": {
    "ExecuteTime": {
     "end_time": "2020-06-19T02:42:48.064535Z",
     "start_time": "2020-06-19T02:42:48.044660Z"
    }
   },
   "outputs": [
    {
     "name": "stdout",
     "output_type": "stream",
     "text": [
      "<class 'pandas.core.frame.DataFrame'>\n",
      "DatetimeIndex: 1258 entries, 2015-01-02 to 2019-12-31\n",
      "Columns: 132 entries, SPY.US to VNM.US\n",
      "dtypes: float64(132)\n",
      "memory usage: 1.3 MB\n"
     ]
    },
    {
     "data": {
      "text/html": [
       "<div>\n",
       "<style scoped>\n",
       "    .dataframe tbody tr th:only-of-type {\n",
       "        vertical-align: middle;\n",
       "    }\n",
       "\n",
       "    .dataframe tbody tr th {\n",
       "        vertical-align: top;\n",
       "    }\n",
       "\n",
       "    .dataframe thead th {\n",
       "        text-align: right;\n",
       "    }\n",
       "</style>\n",
       "<table border=\"1\" class=\"dataframe\">\n",
       "  <thead>\n",
       "    <tr style=\"text-align: right;\">\n",
       "      <th>ticker</th>\n",
       "      <th>SPY.US</th>\n",
       "      <th>EEM.US</th>\n",
       "      <th>GLD.US</th>\n",
       "      <th>EFA.US</th>\n",
       "      <th>XLF.US</th>\n",
       "      <th>XLE.US</th>\n",
       "      <th>TLT.US</th>\n",
       "      <th>GDX.US</th>\n",
       "      <th>EWZ.US</th>\n",
       "      <th>HYG.US</th>\n",
       "      <th>...</th>\n",
       "      <th>EPU.US</th>\n",
       "      <th>WIP.US</th>\n",
       "      <th>PJP.US</th>\n",
       "      <th>INDY.US</th>\n",
       "      <th>XPH.US</th>\n",
       "      <th>STPZ.US</th>\n",
       "      <th>BRF.US</th>\n",
       "      <th>IDX.US</th>\n",
       "      <th>EWN.US</th>\n",
       "      <th>VNM.US</th>\n",
       "    </tr>\n",
       "    <tr>\n",
       "      <th>date</th>\n",
       "      <th></th>\n",
       "      <th></th>\n",
       "      <th></th>\n",
       "      <th></th>\n",
       "      <th></th>\n",
       "      <th></th>\n",
       "      <th></th>\n",
       "      <th></th>\n",
       "      <th></th>\n",
       "      <th></th>\n",
       "      <th></th>\n",
       "      <th></th>\n",
       "      <th></th>\n",
       "      <th></th>\n",
       "      <th></th>\n",
       "      <th></th>\n",
       "      <th></th>\n",
       "      <th></th>\n",
       "      <th></th>\n",
       "      <th></th>\n",
       "      <th></th>\n",
       "    </tr>\n",
       "  </thead>\n",
       "  <tbody>\n",
       "    <tr>\n",
       "      <th>2015-01-02</th>\n",
       "      <td>172.069</td>\n",
       "      <td>31.2787</td>\n",
       "      <td>114.08</td>\n",
       "      <td>49.2607</td>\n",
       "      <td>17.2861</td>\n",
       "      <td>58.0695</td>\n",
       "      <td>97.6041</td>\n",
       "      <td>17.6428</td>\n",
       "      <td>28.5620</td>\n",
       "      <td>65.7660</td>\n",
       "      <td>...</td>\n",
       "      <td>26.3338</td>\n",
       "      <td>48.3205</td>\n",
       "      <td>59.5551</td>\n",
       "      <td>27.644</td>\n",
       "      <td>47.7751</td>\n",
       "      <td>46.5885</td>\n",
       "      <td>16.212</td>\n",
       "      <td>21.057</td>\n",
       "      <td>20.6083</td>\n",
       "      <td>17.332</td>\n",
       "    </tr>\n",
       "    <tr>\n",
       "      <th>2015-01-05</th>\n",
       "      <td>168.957</td>\n",
       "      <td>30.7209</td>\n",
       "      <td>115.80</td>\n",
       "      <td>48.0975</td>\n",
       "      <td>16.9218</td>\n",
       "      <td>55.6700</td>\n",
       "      <td>99.0879</td>\n",
       "      <td>18.1069</td>\n",
       "      <td>27.5829</td>\n",
       "      <td>65.1567</td>\n",
       "      <td>...</td>\n",
       "      <td>25.9352</td>\n",
       "      <td>48.2820</td>\n",
       "      <td>59.1721</td>\n",
       "      <td>27.327</td>\n",
       "      <td>47.4247</td>\n",
       "      <td>46.5290</td>\n",
       "      <td>15.602</td>\n",
       "      <td>20.633</td>\n",
       "      <td>19.9071</td>\n",
       "      <td>17.004</td>\n",
       "    </tr>\n",
       "    <tr>\n",
       "      <th>2015-01-06</th>\n",
       "      <td>167.378</td>\n",
       "      <td>30.5919</td>\n",
       "      <td>117.12</td>\n",
       "      <td>47.5535</td>\n",
       "      <td>16.6656</td>\n",
       "      <td>54.8522</td>\n",
       "      <td>100.9170</td>\n",
       "      <td>19.0656</td>\n",
       "      <td>28.0758</td>\n",
       "      <td>64.9076</td>\n",
       "      <td>...</td>\n",
       "      <td>26.1610</td>\n",
       "      <td>48.1745</td>\n",
       "      <td>58.8240</td>\n",
       "      <td>26.463</td>\n",
       "      <td>46.9928</td>\n",
       "      <td>46.4249</td>\n",
       "      <td>15.451</td>\n",
       "      <td>20.633</td>\n",
       "      <td>19.6988</td>\n",
       "      <td>17.242</td>\n",
       "    </tr>\n",
       "    <tr>\n",
       "      <th>2015-01-07</th>\n",
       "      <td>169.435</td>\n",
       "      <td>31.2549</td>\n",
       "      <td>116.43</td>\n",
       "      <td>48.0818</td>\n",
       "      <td>16.8398</td>\n",
       "      <td>54.9686</td>\n",
       "      <td>100.6960</td>\n",
       "      <td>18.7126</td>\n",
       "      <td>28.8371</td>\n",
       "      <td>65.3095</td>\n",
       "      <td>...</td>\n",
       "      <td>26.0954</td>\n",
       "      <td>47.9929</td>\n",
       "      <td>60.1818</td>\n",
       "      <td>26.888</td>\n",
       "      <td>48.1821</td>\n",
       "      <td>46.4834</td>\n",
       "      <td>15.720</td>\n",
       "      <td>20.977</td>\n",
       "      <td>19.8706</td>\n",
       "      <td>17.195</td>\n",
       "    </tr>\n",
       "    <tr>\n",
       "      <th>2015-01-08</th>\n",
       "      <td>172.469</td>\n",
       "      <td>31.7878</td>\n",
       "      <td>115.94</td>\n",
       "      <td>48.7324</td>\n",
       "      <td>17.0901</td>\n",
       "      <td>56.2021</td>\n",
       "      <td>99.3622</td>\n",
       "      <td>18.4333</td>\n",
       "      <td>29.2975</td>\n",
       "      <td>65.8027</td>\n",
       "      <td>...</td>\n",
       "      <td>26.3936</td>\n",
       "      <td>48.0728</td>\n",
       "      <td>61.4590</td>\n",
       "      <td>27.718</td>\n",
       "      <td>49.2462</td>\n",
       "      <td>46.5637</td>\n",
       "      <td>15.943</td>\n",
       "      <td>21.074</td>\n",
       "      <td>20.1767</td>\n",
       "      <td>17.213</td>\n",
       "    </tr>\n",
       "    <tr>\n",
       "      <th>...</th>\n",
       "      <td>...</td>\n",
       "      <td>...</td>\n",
       "      <td>...</td>\n",
       "      <td>...</td>\n",
       "      <td>...</td>\n",
       "      <td>...</td>\n",
       "      <td>...</td>\n",
       "      <td>...</td>\n",
       "      <td>...</td>\n",
       "      <td>...</td>\n",
       "      <td>...</td>\n",
       "      <td>...</td>\n",
       "      <td>...</td>\n",
       "      <td>...</td>\n",
       "      <td>...</td>\n",
       "      <td>...</td>\n",
       "      <td>...</td>\n",
       "      <td>...</td>\n",
       "      <td>...</td>\n",
       "      <td>...</td>\n",
       "      <td>...</td>\n",
       "    </tr>\n",
       "    <tr>\n",
       "      <th>2019-12-24</th>\n",
       "      <td>296.904</td>\n",
       "      <td>39.9678</td>\n",
       "      <td>141.27</td>\n",
       "      <td>65.1116</td>\n",
       "      <td>28.9749</td>\n",
       "      <td>52.2111</td>\n",
       "      <td>118.6900</td>\n",
       "      <td>27.5556</td>\n",
       "      <td>42.7073</td>\n",
       "      <td>83.1442</td>\n",
       "      <td>...</td>\n",
       "      <td>33.4480</td>\n",
       "      <td>52.1692</td>\n",
       "      <td>64.0911</td>\n",
       "      <td>36.100</td>\n",
       "      <td>45.3280</td>\n",
       "      <td>50.2998</td>\n",
       "      <td>25.342</td>\n",
       "      <td>22.084</td>\n",
       "      <td>32.4870</td>\n",
       "      <td>15.688</td>\n",
       "    </tr>\n",
       "    <tr>\n",
       "      <th>2019-12-26</th>\n",
       "      <td>298.482</td>\n",
       "      <td>40.2535</td>\n",
       "      <td>142.38</td>\n",
       "      <td>65.3943</td>\n",
       "      <td>29.1333</td>\n",
       "      <td>52.1945</td>\n",
       "      <td>118.9800</td>\n",
       "      <td>27.9588</td>\n",
       "      <td>43.6511</td>\n",
       "      <td>83.2684</td>\n",
       "      <td>...</td>\n",
       "      <td>33.8494</td>\n",
       "      <td>52.3300</td>\n",
       "      <td>63.6822</td>\n",
       "      <td>35.914</td>\n",
       "      <td>45.1433</td>\n",
       "      <td>50.3583</td>\n",
       "      <td>25.867</td>\n",
       "      <td>22.172</td>\n",
       "      <td>32.6914</td>\n",
       "      <td>15.708</td>\n",
       "    </tr>\n",
       "    <tr>\n",
       "      <th>2019-12-27</th>\n",
       "      <td>298.405</td>\n",
       "      <td>40.4156</td>\n",
       "      <td>142.33</td>\n",
       "      <td>65.5068</td>\n",
       "      <td>29.0591</td>\n",
       "      <td>51.9753</td>\n",
       "      <td>119.1090</td>\n",
       "      <td>27.7572</td>\n",
       "      <td>43.3034</td>\n",
       "      <td>83.2316</td>\n",
       "      <td>...</td>\n",
       "      <td>33.7954</td>\n",
       "      <td>52.5876</td>\n",
       "      <td>63.3112</td>\n",
       "      <td>35.942</td>\n",
       "      <td>44.6361</td>\n",
       "      <td>50.3583</td>\n",
       "      <td>26.039</td>\n",
       "      <td>22.129</td>\n",
       "      <td>32.7585</td>\n",
       "      <td>15.708</td>\n",
       "    </tr>\n",
       "    <tr>\n",
       "      <th>2019-12-30</th>\n",
       "      <td>296.759</td>\n",
       "      <td>40.1466</td>\n",
       "      <td>142.63</td>\n",
       "      <td>65.0167</td>\n",
       "      <td>28.9749</td>\n",
       "      <td>51.8110</td>\n",
       "      <td>118.6800</td>\n",
       "      <td>28.3540</td>\n",
       "      <td>43.2939</td>\n",
       "      <td>83.1730</td>\n",
       "      <td>...</td>\n",
       "      <td>33.8407</td>\n",
       "      <td>52.5116</td>\n",
       "      <td>62.8228</td>\n",
       "      <td>35.989</td>\n",
       "      <td>44.0930</td>\n",
       "      <td>50.4158</td>\n",
       "      <td>26.115</td>\n",
       "      <td>21.909</td>\n",
       "      <td>32.6519</td>\n",
       "      <td>15.767</td>\n",
       "    </tr>\n",
       "    <tr>\n",
       "      <th>2019-12-31</th>\n",
       "      <td>297.478</td>\n",
       "      <td>40.2361</td>\n",
       "      <td>142.90</td>\n",
       "      <td>65.3180</td>\n",
       "      <td>29.0681</td>\n",
       "      <td>52.1045</td>\n",
       "      <td>117.5120</td>\n",
       "      <td>28.1515</td>\n",
       "      <td>43.5231</td>\n",
       "      <td>83.2494</td>\n",
       "      <td>...</td>\n",
       "      <td>33.8687</td>\n",
       "      <td>52.5807</td>\n",
       "      <td>63.1351</td>\n",
       "      <td>36.008</td>\n",
       "      <td>44.4911</td>\n",
       "      <td>50.3871</td>\n",
       "      <td>26.182</td>\n",
       "      <td>22.016</td>\n",
       "      <td>32.7872</td>\n",
       "      <td>15.847</td>\n",
       "    </tr>\n",
       "  </tbody>\n",
       "</table>\n",
       "<p>1258 rows × 132 columns</p>\n",
       "</div>"
      ],
      "text/plain": [
       "ticker       SPY.US   EEM.US  GLD.US   EFA.US   XLF.US   XLE.US    TLT.US  \\\n",
       "date                                                                        \n",
       "2015-01-02  172.069  31.2787  114.08  49.2607  17.2861  58.0695   97.6041   \n",
       "2015-01-05  168.957  30.7209  115.80  48.0975  16.9218  55.6700   99.0879   \n",
       "2015-01-06  167.378  30.5919  117.12  47.5535  16.6656  54.8522  100.9170   \n",
       "2015-01-07  169.435  31.2549  116.43  48.0818  16.8398  54.9686  100.6960   \n",
       "2015-01-08  172.469  31.7878  115.94  48.7324  17.0901  56.2021   99.3622   \n",
       "...             ...      ...     ...      ...      ...      ...       ...   \n",
       "2019-12-24  296.904  39.9678  141.27  65.1116  28.9749  52.2111  118.6900   \n",
       "2019-12-26  298.482  40.2535  142.38  65.3943  29.1333  52.1945  118.9800   \n",
       "2019-12-27  298.405  40.4156  142.33  65.5068  29.0591  51.9753  119.1090   \n",
       "2019-12-30  296.759  40.1466  142.63  65.0167  28.9749  51.8110  118.6800   \n",
       "2019-12-31  297.478  40.2361  142.90  65.3180  29.0681  52.1045  117.5120   \n",
       "\n",
       "ticker       GDX.US   EWZ.US   HYG.US  ...   EPU.US   WIP.US   PJP.US  \\\n",
       "date                                   ...                              \n",
       "2015-01-02  17.6428  28.5620  65.7660  ...  26.3338  48.3205  59.5551   \n",
       "2015-01-05  18.1069  27.5829  65.1567  ...  25.9352  48.2820  59.1721   \n",
       "2015-01-06  19.0656  28.0758  64.9076  ...  26.1610  48.1745  58.8240   \n",
       "2015-01-07  18.7126  28.8371  65.3095  ...  26.0954  47.9929  60.1818   \n",
       "2015-01-08  18.4333  29.2975  65.8027  ...  26.3936  48.0728  61.4590   \n",
       "...             ...      ...      ...  ...      ...      ...      ...   \n",
       "2019-12-24  27.5556  42.7073  83.1442  ...  33.4480  52.1692  64.0911   \n",
       "2019-12-26  27.9588  43.6511  83.2684  ...  33.8494  52.3300  63.6822   \n",
       "2019-12-27  27.7572  43.3034  83.2316  ...  33.7954  52.5876  63.3112   \n",
       "2019-12-30  28.3540  43.2939  83.1730  ...  33.8407  52.5116  62.8228   \n",
       "2019-12-31  28.1515  43.5231  83.2494  ...  33.8687  52.5807  63.1351   \n",
       "\n",
       "ticker      INDY.US   XPH.US  STPZ.US  BRF.US  IDX.US   EWN.US  VNM.US  \n",
       "date                                                                    \n",
       "2015-01-02   27.644  47.7751  46.5885  16.212  21.057  20.6083  17.332  \n",
       "2015-01-05   27.327  47.4247  46.5290  15.602  20.633  19.9071  17.004  \n",
       "2015-01-06   26.463  46.9928  46.4249  15.451  20.633  19.6988  17.242  \n",
       "2015-01-07   26.888  48.1821  46.4834  15.720  20.977  19.8706  17.195  \n",
       "2015-01-08   27.718  49.2462  46.5637  15.943  21.074  20.1767  17.213  \n",
       "...             ...      ...      ...     ...     ...      ...     ...  \n",
       "2019-12-24   36.100  45.3280  50.2998  25.342  22.084  32.4870  15.688  \n",
       "2019-12-26   35.914  45.1433  50.3583  25.867  22.172  32.6914  15.708  \n",
       "2019-12-27   35.942  44.6361  50.3583  26.039  22.129  32.7585  15.708  \n",
       "2019-12-30   35.989  44.0930  50.4158  26.115  21.909  32.6519  15.767  \n",
       "2019-12-31   36.008  44.4911  50.3871  26.182  22.016  32.7872  15.847  \n",
       "\n",
       "[1258 rows x 132 columns]"
      ]
     },
     "execution_count": 91,
     "metadata": {},
     "output_type": "execute_result"
    }
   ],
   "source": [
    "# see notebook 05_cointagration_tests\n",
    "etfs = pd.read_hdf('data.h5', 'etfs/close').loc['2015':]\n",
    "etfs.info()\n",
    "etfs"
   ]
  },
  {
   "cell_type": "markdown",
   "metadata": {},
   "source": [
    "### Load Ticker Dictionary"
   ]
  },
  {
   "cell_type": "code",
   "execution_count": 92,
   "metadata": {
    "ExecuteTime": {
     "end_time": "2020-06-19T02:42:48.072961Z",
     "start_time": "2020-06-19T02:42:48.066585Z"
    }
   },
   "outputs": [],
   "source": [
    "names = pd.read_hdf('data.h5', 'tickers').to_dict()"
   ]
  },
  {
   "cell_type": "code",
   "execution_count": 93,
   "metadata": {
    "ExecuteTime": {
     "end_time": "2020-06-19T02:42:48.083843Z",
     "start_time": "2020-06-19T02:42:48.074540Z"
    }
   },
   "outputs": [
    {
     "data": {
      "text/plain": [
       "np.int64(304)"
      ]
     },
     "execution_count": 93,
     "metadata": {},
     "output_type": "execute_result"
    }
   ],
   "source": [
    "pd.Series(names).count()"
   ]
  },
  {
   "cell_type": "markdown",
   "metadata": {},
   "source": [
    "## Precompute Cointegration"
   ]
  },
  {
   "cell_type": "code",
   "execution_count": 94,
   "metadata": {
    "ExecuteTime": {
     "end_time": "2020-06-19T02:42:48.095421Z",
     "start_time": "2020-06-19T02:42:48.085219Z"
    }
   },
   "outputs": [],
   "source": [
    "def test_cointegration(etfs, stocks, test_end, lookback=2):\n",
    "    start = time()\n",
    "    results = []\n",
    "    test_start = test_end - pd.DateOffset(years=lookback) + pd.DateOffset(days=1)\n",
    "    etf_tickers = etfs.columns.tolist()\n",
    "    etf_data = etfs.loc[str(test_start):str(test_end)]\n",
    "\n",
    "    stock_tickers = stocks.columns.tolist()\n",
    "    stock_data = stocks.loc[str(test_start):str(test_end)]\n",
    "    n = len(etf_tickers) * len(stock_tickers)\n",
    "    j = 0\n",
    "    for i, s1 in enumerate(etf_tickers, 1):\n",
    "        for s2 in stock_tickers:\n",
    "            j += 1\n",
    "            if j % 1000 == 0:\n",
    "                print(f'\\t{j:5,.0f} ({j/n:3.1%}) | {time() - start:.2f}')\n",
    "            df = etf_data.loc[:, [s1]].dropna().join(stock_data.loc[:, [s2]].dropna(), how='inner')\n",
    "            with warnings.catch_warnings():\n",
    "                warnings.simplefilter('ignore')\n",
    "                var = VAR(df)\n",
    "                lags = var.select_order()\n",
    "                result = [test_end, s1, s2]\n",
    "                order = lags.selected_orders['aic']\n",
    "                result += [coint(df[s1], df[s2], trend='c')[1], coint(df[s2], df[s1], trend='c')[1]]\n",
    "\n",
    "            cj = coint_johansen(df, det_order=0, k_ar_diff=order)\n",
    "            result += (list(cj.lr1) + list(cj.lr2) + list(cj.evec[:, cj.ind[0]]))\n",
    "            results.append(result)\n",
    "    return results"
   ]
  },
  {
   "cell_type": "markdown",
   "metadata": {},
   "source": [
    "### Define Test Periods"
   ]
  },
  {
   "cell_type": "code",
   "execution_count": 95,
   "metadata": {
    "ExecuteTime": {
     "end_time": "2020-06-19T02:42:48.110785Z",
     "start_time": "2020-06-19T02:42:48.096915Z"
    }
   },
   "outputs": [
    {
     "data": {
      "text/plain": [
       "DatetimeIndex(['2016-12-31', '2017-03-31', '2017-06-30', '2017-09-30',\n",
       "               '2017-12-31', '2018-03-31', '2018-06-30', '2018-09-30',\n",
       "               '2018-12-31', '2019-03-31', '2019-06-30'],\n",
       "              dtype='datetime64[ns]', name='date', freq='QE-DEC')"
      ]
     },
     "execution_count": 95,
     "metadata": {},
     "output_type": "execute_result"
    }
   ],
   "source": [
    "dates = stocks.loc['2016-12':'2019-6'].resample('Q').last().index\n",
    "dates"
   ]
  },
  {
   "cell_type": "markdown",
   "metadata": {},
   "source": [
    "### Run Tests"
   ]
  },
  {
   "cell_type": "code",
   "execution_count": 96,
   "metadata": {
    "ExecuteTime": {
     "end_time": "2020-06-19T06:01:29.759471Z",
     "start_time": "2020-06-19T02:42:48.111942Z"
    },
    "scrolled": false
   },
   "outputs": [],
   "source": [
    "# NON PARALLEL VERSION\n",
    "# test_results = []\n",
    "# columns = ['test_end', 's1', 's2', 'eg1', 'eg2',\n",
    "#            'trace0', 'trace1', 'eig0', 'eig1', 'w1', 'w2']\n",
    "\n",
    "# for test_end in dates:\n",
    "#     print(test_end)\n",
    "#     result = test_cointegration(etfs, stocks, test_end=test_end)\n",
    "#     test_results.append(pd.DataFrame(result, columns=columns))\n",
    "\n",
    "# pd.concat(test_results).to_hdf('backtest.h5', 'cointegration_test')"
   ]
  },
  {
   "cell_type": "markdown",
   "metadata": {},
   "source": [
    "It is possible to parallelize the loop over `dates` using `joblib.Parallel` and `delayed`, as the computations for each `test_end` appear to be independent. This can provide a speedup if you have multiple CPU cores available, though the benefit may be limited if the number of `dates` is small (e.g., ~10-11 in your example) relative to the overhead of parallelization. The heavy lifting is inside `test_cointegration` (the nested loops over tickers), but since your question focuses on the outer loop, here's how to modify it.\n",
    "\n",
    "### Key Notes:\n",
    "- `n_jobs=-1` uses all available CPU cores. You can set it to a specific number (e.g., `n_jobs=4`) if you want to limit it.\n",
    "- `verbose=10` will print progress information from joblib (e.g., which jobs are running). Adjust or remove if not needed. The `print(test_end)` in your original loop won't execute sequentially in parallel, but the verbose output can serve a similar purpose.\n",
    "- The inner `print` statements in `test_cointegration` (e.g., every 1000 iterations) may appear interleaved or out of order in the console due to parallel execution, but this won't affect the results.\n",
    "- Ensure your environment supports multiprocessing (e.g., no issues with shared resources like the `etfs` and `stocks` DataFrames, which are read-only here).\n",
    "- If the speedup isn't sufficient, consider parallelizing the inner nested loops in `test_cointegration` instead (e.g., over pairs of tickers), as that's likely where most time is spent. That could be done similarly with `Parallel` but would require refactoring to generate the list of (s1, s2) pairs upfront.\n",
    "\n",
    "\n",
    "11m45s"
   ]
  },
  {
   "cell_type": "code",
   "execution_count": 97,
   "metadata": {},
   "outputs": [],
   "source": [
    "# # PARALLEL VERSION\n",
    "# from joblib import Parallel, delayed\n",
    "\n",
    "# test_results = []\n",
    "# columns = ['test_end', 's1', 's2', 'eg1', 'eg2',\n",
    "#            'trace0', 'trace1', 'eig0', 'eig1', 'w1', 'w2']\n",
    "\n",
    "# # Parallelize the loop over dates\n",
    "# results = Parallel(n_jobs=-1, verbose=10)(\n",
    "#     delayed(test_cointegration)(etfs, stocks, test_end=test_end) for test_end in dates\n",
    "# )\n",
    "\n",
    "# # Convert each result to a DataFrame\n",
    "# test_dfs = [pd.DataFrame(result, columns=columns) for result in results]\n",
    "\n",
    "# # Concatenate and save\n",
    "# pd.concat(test_dfs).to_hdf('backtest.h5', 'cointegration_test')"
   ]
  },
  {
   "cell_type": "markdown",
   "metadata": {},
   "source": [
    "#### Reload  Test Results"
   ]
  },
  {
   "cell_type": "code",
   "execution_count": null,
   "metadata": {
    "ExecuteTime": {
     "end_time": "2020-06-19T06:01:29.819729Z",
     "start_time": "2020-06-19T06:01:29.760347Z"
    }
   },
   "outputs": [
    {
     "name": "stdout",
     "output_type": "stream",
     "text": [
      "<class 'pandas.core.frame.DataFrame'>\n",
      "Index: 249744 entries, 0 to 22703\n",
      "Data columns (total 11 columns):\n",
      " #   Column    Non-Null Count   Dtype         \n",
      "---  ------    --------------   -----         \n",
      " 0   test_end  249744 non-null  datetime64[ns]\n",
      " 1   s1        249744 non-null  object        \n",
      " 2   s2        249744 non-null  object        \n",
      " 3   eg1       249744 non-null  float64       \n",
      " 4   eg2       249744 non-null  float64       \n",
      " 5   trace0    249744 non-null  float64       \n",
      " 6   trace1    249744 non-null  float64       \n",
      " 7   eig0      249744 non-null  float64       \n",
      " 8   eig1      249744 non-null  float64       \n",
      " 9   w1        249744 non-null  float64       \n",
      " 10  w2        249744 non-null  float64       \n",
      "dtypes: datetime64[ns](1), float64(8), object(2)\n",
      "memory usage: 22.9+ MB\n"
     ]
    }
   ],
   "source": [
    "test_results = pd.read_hdf('backtest.h5', 'cointegration_test')\n",
    "test_results.info()\n",
    "test_results"
   ]
  },
  {
   "cell_type": "markdown",
   "metadata": {},
   "source": [
    "## Identify Cointegrated Pairs"
   ]
  },
  {
   "cell_type": "markdown",
   "metadata": {},
   "source": [
    "### Significant Johansen Trace Statistic"
   ]
  },
  {
   "cell_type": "code",
   "execution_count": 99,
   "metadata": {},
   "outputs": [],
   "source": [
    "# test_results['joh_sig'] = ((test_results.trace0 > trace0_cv) &\n",
    "#                            (test_results.trace1 < trace1_cv))"
   ]
  },
  {
   "cell_type": "code",
   "execution_count": 100,
   "metadata": {
    "ExecuteTime": {
     "end_time": "2020-06-19T06:01:29.824433Z",
     "start_time": "2020-06-19T06:01:29.820808Z"
    }
   },
   "outputs": [],
   "source": [
    "test_results['joh_sig'] = ((test_results.trace0 > trace0_cv) &\n",
    "                           (test_results.trace1 > trace1_cv))"
   ]
  },
  {
   "cell_type": "code",
   "execution_count": 101,
   "metadata": {
    "ExecuteTime": {
     "end_time": "2020-06-19T06:01:29.834934Z",
     "start_time": "2020-06-19T06:01:29.825442Z"
    }
   },
   "outputs": [
    {
     "data": {
      "text/plain": [
       "joh_sig\n",
       "False    0.949132\n",
       "True     0.050868\n",
       "Name: proportion, dtype: float64"
      ]
     },
     "execution_count": 101,
     "metadata": {},
     "output_type": "execute_result"
    }
   ],
   "source": [
    "test_results.joh_sig.value_counts(normalize=True)"
   ]
  },
  {
   "cell_type": "markdown",
   "metadata": {},
   "source": [
    "### Significant Engle Granger Test"
   ]
  },
  {
   "cell_type": "code",
   "execution_count": 102,
   "metadata": {
    "ExecuteTime": {
     "end_time": "2020-06-19T06:01:29.846685Z",
     "start_time": "2020-06-19T06:01:29.835871Z"
    }
   },
   "outputs": [],
   "source": [
    "test_results['eg'] = test_results[['eg1', 'eg2']].min(axis=1)\n",
    "test_results['s1_dep'] = test_results.eg1 < test_results.eg2\n",
    "test_results['eg_sig'] = (test_results.eg < .05)"
   ]
  },
  {
   "cell_type": "code",
   "execution_count": 103,
   "metadata": {
    "ExecuteTime": {
     "end_time": "2020-06-19T06:01:29.853515Z",
     "start_time": "2020-06-19T06:01:29.847666Z"
    }
   },
   "outputs": [
    {
     "data": {
      "text/plain": [
       "eg_sig\n",
       "False    0.91255\n",
       "True     0.08745\n",
       "Name: proportion, dtype: float64"
      ]
     },
     "execution_count": 103,
     "metadata": {},
     "output_type": "execute_result"
    }
   ],
   "source": [
    "test_results.eg_sig.value_counts(normalize=True)"
   ]
  },
  {
   "cell_type": "markdown",
   "metadata": {},
   "source": [
    "### Comparison Engle-Granger vs Johansen"
   ]
  },
  {
   "cell_type": "code",
   "execution_count": 104,
   "metadata": {
    "ExecuteTime": {
     "end_time": "2020-06-19T06:01:29.860981Z",
     "start_time": "2020-06-19T06:01:29.854361Z"
    }
   },
   "outputs": [
    {
     "data": {
      "text/plain": [
       "coint\n",
       "False    0.987595\n",
       "True     0.012405\n",
       "Name: proportion, dtype: float64"
      ]
     },
     "execution_count": 104,
     "metadata": {},
     "output_type": "execute_result"
    }
   ],
   "source": [
    "test_results['coint'] = (test_results.eg_sig & test_results.joh_sig)\n",
    "test_results.coint.value_counts(normalize=True)"
   ]
  },
  {
   "cell_type": "code",
   "execution_count": 105,
   "metadata": {
    "ExecuteTime": {
     "end_time": "2020-06-19T06:01:29.899199Z",
     "start_time": "2020-06-19T06:01:29.861982Z"
    }
   },
   "outputs": [
    {
     "name": "stdout",
     "output_type": "stream",
     "text": [
      "<class 'pandas.core.frame.DataFrame'>\n",
      "Index: 249744 entries, 0 to 22703\n",
      "Data columns (total 10 columns):\n",
      " #   Column    Non-Null Count   Dtype         \n",
      "---  ------    --------------   -----         \n",
      " 0   test_end  249744 non-null  datetime64[ns]\n",
      " 1   s1        249744 non-null  object        \n",
      " 2   s2        249744 non-null  object        \n",
      " 3   w1        249744 non-null  float64       \n",
      " 4   w2        249744 non-null  float64       \n",
      " 5   joh_sig   249744 non-null  bool          \n",
      " 6   eg        249744 non-null  float64       \n",
      " 7   s1_dep    249744 non-null  bool          \n",
      " 8   eg_sig    249744 non-null  bool          \n",
      " 9   coint     249744 non-null  bool          \n",
      "dtypes: bool(4), datetime64[ns](1), float64(3), object(2)\n",
      "memory usage: 14.3+ MB\n"
     ]
    }
   ],
   "source": [
    "test_results = test_results.drop(['eg1', 'eg2', 'trace0', 'trace1', 'eig0', 'eig1'], axis=1)\n",
    "test_results.info()"
   ]
  },
  {
   "cell_type": "code",
   "execution_count": 106,
   "metadata": {},
   "outputs": [
    {
     "data": {
      "text/html": [
       "<div>\n",
       "<style scoped>\n",
       "    .dataframe tbody tr th:only-of-type {\n",
       "        vertical-align: middle;\n",
       "    }\n",
       "\n",
       "    .dataframe tbody tr th {\n",
       "        vertical-align: top;\n",
       "    }\n",
       "\n",
       "    .dataframe thead th {\n",
       "        text-align: right;\n",
       "    }\n",
       "</style>\n",
       "<table border=\"1\" class=\"dataframe\">\n",
       "  <thead>\n",
       "    <tr style=\"text-align: right;\">\n",
       "      <th></th>\n",
       "      <th>test_end</th>\n",
       "      <th>s1</th>\n",
       "      <th>s2</th>\n",
       "      <th>w1</th>\n",
       "      <th>w2</th>\n",
       "      <th>joh_sig</th>\n",
       "      <th>eg</th>\n",
       "      <th>s1_dep</th>\n",
       "      <th>eg_sig</th>\n",
       "      <th>coint</th>\n",
       "    </tr>\n",
       "  </thead>\n",
       "  <tbody>\n",
       "    <tr>\n",
       "      <th>0</th>\n",
       "      <td>2016-12-31</td>\n",
       "      <td>SPY.US</td>\n",
       "      <td>AAPL.US</td>\n",
       "      <td>0.060598</td>\n",
       "      <td>0.336213</td>\n",
       "      <td>False</td>\n",
       "      <td>0.660334</td>\n",
       "      <td>False</td>\n",
       "      <td>False</td>\n",
       "      <td>False</td>\n",
       "    </tr>\n",
       "    <tr>\n",
       "      <th>1</th>\n",
       "      <td>2016-12-31</td>\n",
       "      <td>SPY.US</td>\n",
       "      <td>AMZN.US</td>\n",
       "      <td>0.142613</td>\n",
       "      <td>-0.151897</td>\n",
       "      <td>False</td>\n",
       "      <td>0.476889</td>\n",
       "      <td>True</td>\n",
       "      <td>False</td>\n",
       "      <td>False</td>\n",
       "    </tr>\n",
       "    <tr>\n",
       "      <th>2</th>\n",
       "      <td>2016-12-31</td>\n",
       "      <td>SPY.US</td>\n",
       "      <td>MSFT.US</td>\n",
       "      <td>0.163787</td>\n",
       "      <td>-0.136412</td>\n",
       "      <td>False</td>\n",
       "      <td>0.513778</td>\n",
       "      <td>True</td>\n",
       "      <td>False</td>\n",
       "      <td>False</td>\n",
       "    </tr>\n",
       "    <tr>\n",
       "      <th>3</th>\n",
       "      <td>2016-12-31</td>\n",
       "      <td>SPY.US</td>\n",
       "      <td>BAC.US</td>\n",
       "      <td>0.136688</td>\n",
       "      <td>-0.057910</td>\n",
       "      <td>False</td>\n",
       "      <td>0.477606</td>\n",
       "      <td>True</td>\n",
       "      <td>False</td>\n",
       "      <td>False</td>\n",
       "    </tr>\n",
       "    <tr>\n",
       "      <th>4</th>\n",
       "      <td>2016-12-31</td>\n",
       "      <td>SPY.US</td>\n",
       "      <td>GOOGL.US</td>\n",
       "      <td>0.082204</td>\n",
       "      <td>0.102017</td>\n",
       "      <td>False</td>\n",
       "      <td>0.700180</td>\n",
       "      <td>False</td>\n",
       "      <td>False</td>\n",
       "      <td>False</td>\n",
       "    </tr>\n",
       "    <tr>\n",
       "      <th>...</th>\n",
       "      <td>...</td>\n",
       "      <td>...</td>\n",
       "      <td>...</td>\n",
       "      <td>...</td>\n",
       "      <td>...</td>\n",
       "      <td>...</td>\n",
       "      <td>...</td>\n",
       "      <td>...</td>\n",
       "      <td>...</td>\n",
       "      <td>...</td>\n",
       "    </tr>\n",
       "    <tr>\n",
       "      <th>22699</th>\n",
       "      <td>2019-06-30</td>\n",
       "      <td>VNM.US</td>\n",
       "      <td>FSLR.US</td>\n",
       "      <td>1.226689</td>\n",
       "      <td>-0.176223</td>\n",
       "      <td>False</td>\n",
       "      <td>0.010013</td>\n",
       "      <td>True</td>\n",
       "      <td>True</td>\n",
       "      <td>False</td>\n",
       "    </tr>\n",
       "    <tr>\n",
       "      <th>22700</th>\n",
       "      <td>2019-06-30</td>\n",
       "      <td>VNM.US</td>\n",
       "      <td>ADI.US</td>\n",
       "      <td>0.624485</td>\n",
       "      <td>0.032279</td>\n",
       "      <td>False</td>\n",
       "      <td>0.762450</td>\n",
       "      <td>True</td>\n",
       "      <td>False</td>\n",
       "      <td>False</td>\n",
       "    </tr>\n",
       "    <tr>\n",
       "      <th>22701</th>\n",
       "      <td>2019-06-30</td>\n",
       "      <td>VNM.US</td>\n",
       "      <td>PCG.US</td>\n",
       "      <td>0.727903</td>\n",
       "      <td>-0.001373</td>\n",
       "      <td>False</td>\n",
       "      <td>0.691749</td>\n",
       "      <td>True</td>\n",
       "      <td>False</td>\n",
       "      <td>False</td>\n",
       "    </tr>\n",
       "    <tr>\n",
       "      <th>22702</th>\n",
       "      <td>2019-06-30</td>\n",
       "      <td>VNM.US</td>\n",
       "      <td>NVS.US</td>\n",
       "      <td>0.512736</td>\n",
       "      <td>0.167578</td>\n",
       "      <td>False</td>\n",
       "      <td>0.600209</td>\n",
       "      <td>True</td>\n",
       "      <td>False</td>\n",
       "      <td>False</td>\n",
       "    </tr>\n",
       "    <tr>\n",
       "      <th>22703</th>\n",
       "      <td>2019-06-30</td>\n",
       "      <td>VNM.US</td>\n",
       "      <td>AEP.US</td>\n",
       "      <td>0.732180</td>\n",
       "      <td>0.017278</td>\n",
       "      <td>False</td>\n",
       "      <td>0.564625</td>\n",
       "      <td>True</td>\n",
       "      <td>False</td>\n",
       "      <td>False</td>\n",
       "    </tr>\n",
       "  </tbody>\n",
       "</table>\n",
       "<p>249744 rows × 10 columns</p>\n",
       "</div>"
      ],
      "text/plain": [
       "        test_end      s1        s2        w1        w2  joh_sig        eg  \\\n",
       "0     2016-12-31  SPY.US   AAPL.US  0.060598  0.336213    False  0.660334   \n",
       "1     2016-12-31  SPY.US   AMZN.US  0.142613 -0.151897    False  0.476889   \n",
       "2     2016-12-31  SPY.US   MSFT.US  0.163787 -0.136412    False  0.513778   \n",
       "3     2016-12-31  SPY.US    BAC.US  0.136688 -0.057910    False  0.477606   \n",
       "4     2016-12-31  SPY.US  GOOGL.US  0.082204  0.102017    False  0.700180   \n",
       "...          ...     ...       ...       ...       ...      ...       ...   \n",
       "22699 2019-06-30  VNM.US   FSLR.US  1.226689 -0.176223    False  0.010013   \n",
       "22700 2019-06-30  VNM.US    ADI.US  0.624485  0.032279    False  0.762450   \n",
       "22701 2019-06-30  VNM.US    PCG.US  0.727903 -0.001373    False  0.691749   \n",
       "22702 2019-06-30  VNM.US    NVS.US  0.512736  0.167578    False  0.600209   \n",
       "22703 2019-06-30  VNM.US    AEP.US  0.732180  0.017278    False  0.564625   \n",
       "\n",
       "       s1_dep  eg_sig  coint  \n",
       "0       False   False  False  \n",
       "1        True   False  False  \n",
       "2        True   False  False  \n",
       "3        True   False  False  \n",
       "4       False   False  False  \n",
       "...       ...     ...    ...  \n",
       "22699    True    True  False  \n",
       "22700    True   False  False  \n",
       "22701    True   False  False  \n",
       "22702    True   False  False  \n",
       "22703    True   False  False  \n",
       "\n",
       "[249744 rows x 10 columns]"
      ]
     },
     "execution_count": 106,
     "metadata": {},
     "output_type": "execute_result"
    }
   ],
   "source": [
    "test_results"
   ]
  },
  {
   "cell_type": "markdown",
   "metadata": {},
   "source": [
    "### Comparison"
   ]
  },
  {
   "cell_type": "code",
   "execution_count": 107,
   "metadata": {
    "ExecuteTime": {
     "end_time": "2020-06-19T06:01:30.054274Z",
     "start_time": "2020-06-19T06:01:29.900025Z"
    }
   },
   "outputs": [
    {
     "data": {
      "image/png": "[encoded data removed]",
      "text/plain": [
       "<Figure size 640x480 with 1 Axes>"
      ]
     },
     "metadata": {},
     "output_type": "display_data"
    }
   ],
   "source": [
    "ax = test_results.groupby('test_end').coint.mean().to_frame('# Pairs').plot()\n",
    "ax.axhline(.05, lw=1, ls='--', c='k');"
   ]
  },
  {
   "cell_type": "markdown",
   "metadata": {},
   "source": [
    "### Select Candidate Pairs"
   ]
  },
  {
   "cell_type": "code",
   "execution_count": 26,
   "metadata": {
    "ExecuteTime": {
     "end_time": "2020-06-19T06:01:30.058145Z",
     "start_time": "2020-06-19T06:01:30.055126Z"
    }
   },
   "outputs": [],
   "source": [
    "def select_candidate_pairs(data):\n",
    "    candidates = data[data.joh_sig | data.eg_sig]\n",
    "    candidates['y'] = candidates.apply(lambda x: x.s1 if x.s1_dep else x.s2, axis=1)\n",
    "    candidates['x'] = candidates.apply(lambda x: x.s2 if x.s1_dep else x.s1, axis=1)\n",
    "    return candidates.drop(['s1_dep', 's1', 's2'], axis=1)"
   ]
  },
  {
   "cell_type": "code",
   "execution_count": 27,
   "metadata": {
    "ExecuteTime": {
     "end_time": "2020-06-19T06:01:31.623786Z",
     "start_time": "2020-06-19T06:01:30.059031Z"
    }
   },
   "outputs": [],
   "source": [
    "candidates = select_candidate_pairs(test_results)"
   ]
  },
  {
   "cell_type": "code",
   "execution_count": 28,
   "metadata": {
    "ExecuteTime": {
     "end_time": "2020-06-19T06:01:31.640534Z",
     "start_time": "2020-06-19T06:01:31.624849Z"
    }
   },
   "outputs": [],
   "source": [
    "candidates.to_hdf('backtest.h5', 'candidates')"
   ]
  },
  {
   "cell_type": "code",
   "execution_count": 63,
   "metadata": {
    "ExecuteTime": {
     "end_time": "2020-06-19T06:01:31.664395Z",
     "start_time": "2020-06-19T06:01:31.641471Z"
    }
   },
   "outputs": [
    {
     "name": "stdout",
     "output_type": "stream",
     "text": [
      "<class 'pandas.core.frame.DataFrame'>\n",
      "Index: 29399 entries, 6 to 22699\n",
      "Data columns (total 9 columns):\n",
      " #   Column    Non-Null Count  Dtype         \n",
      "---  ------    --------------  -----         \n",
      " 0   test_end  29399 non-null  datetime64[ns]\n",
      " 1   w1        29399 non-null  float64       \n",
      " 2   w2        29399 non-null  float64       \n",
      " 3   joh_sig   29399 non-null  bool          \n",
      " 4   eg        29399 non-null  float64       \n",
      " 5   eg_sig    29399 non-null  bool          \n",
      " 6   coint     29399 non-null  bool          \n",
      " 7   y         29399 non-null  object        \n",
      " 8   x         29399 non-null  object        \n",
      "dtypes: bool(3), datetime64[ns](1), float64(3), object(2)\n",
      "memory usage: 1.7+ MB\n"
     ]
    },
    {
     "data": {
      "text/html": [
       "<div>\n",
       "<style scoped>\n",
       "    .dataframe tbody tr th:only-of-type {\n",
       "        vertical-align: middle;\n",
       "    }\n",
       "\n",
       "    .dataframe tbody tr th {\n",
       "        vertical-align: top;\n",
       "    }\n",
       "\n",
       "    .dataframe thead th {\n",
       "        text-align: right;\n",
       "    }\n",
       "</style>\n",
       "<table border=\"1\" class=\"dataframe\">\n",
       "  <thead>\n",
       "    <tr style=\"text-align: right;\">\n",
       "      <th></th>\n",
       "      <th>test_end</th>\n",
       "      <th>w1</th>\n",
       "      <th>w2</th>\n",
       "      <th>joh_sig</th>\n",
       "      <th>eg</th>\n",
       "      <th>eg_sig</th>\n",
       "      <th>coint</th>\n",
       "      <th>y</th>\n",
       "      <th>x</th>\n",
       "    </tr>\n",
       "  </thead>\n",
       "  <tbody>\n",
       "    <tr>\n",
       "      <th>6</th>\n",
       "      <td>2016-12-31</td>\n",
       "      <td>0.112295</td>\n",
       "      <td>0.052680</td>\n",
       "      <td>True</td>\n",
       "      <td>0.744821</td>\n",
       "      <td>False</td>\n",
       "      <td>False</td>\n",
       "      <td>SPY.US</td>\n",
       "      <td>C.US</td>\n",
       "    </tr>\n",
       "    <tr>\n",
       "      <th>12</th>\n",
       "      <td>2016-12-31</td>\n",
       "      <td>0.142082</td>\n",
       "      <td>-0.325900</td>\n",
       "      <td>False</td>\n",
       "      <td>0.044346</td>\n",
       "      <td>True</td>\n",
       "      <td>False</td>\n",
       "      <td>SPY.US</td>\n",
       "      <td>NVDA.US</td>\n",
       "    </tr>\n",
       "    <tr>\n",
       "      <th>15</th>\n",
       "      <td>2016-12-31</td>\n",
       "      <td>0.308580</td>\n",
       "      <td>-1.448434</td>\n",
       "      <td>True</td>\n",
       "      <td>0.015434</td>\n",
       "      <td>True</td>\n",
       "      <td>True</td>\n",
       "      <td>CSCO.US</td>\n",
       "      <td>SPY.US</td>\n",
       "    </tr>\n",
       "    <tr>\n",
       "      <th>21</th>\n",
       "      <td>2016-12-31</td>\n",
       "      <td>0.117961</td>\n",
       "      <td>0.007331</td>\n",
       "      <td>True</td>\n",
       "      <td>0.639055</td>\n",
       "      <td>False</td>\n",
       "      <td>False</td>\n",
       "      <td>SPY.US</td>\n",
       "      <td>GS.US</td>\n",
       "    </tr>\n",
       "    <tr>\n",
       "      <th>35</th>\n",
       "      <td>2016-12-31</td>\n",
       "      <td>0.221539</td>\n",
       "      <td>-0.529602</td>\n",
       "      <td>True</td>\n",
       "      <td>0.012558</td>\n",
       "      <td>True</td>\n",
       "      <td>True</td>\n",
       "      <td>SPY.US</td>\n",
       "      <td>AMD.US</td>\n",
       "    </tr>\n",
       "    <tr>\n",
       "      <th>...</th>\n",
       "      <td>...</td>\n",
       "      <td>...</td>\n",
       "      <td>...</td>\n",
       "      <td>...</td>\n",
       "      <td>...</td>\n",
       "      <td>...</td>\n",
       "      <td>...</td>\n",
       "      <td>...</td>\n",
       "      <td>...</td>\n",
       "    </tr>\n",
       "    <tr>\n",
       "      <th>22630</th>\n",
       "      <td>2019-06-30</td>\n",
       "      <td>0.724119</td>\n",
       "      <td>0.022012</td>\n",
       "      <td>True</td>\n",
       "      <td>0.242477</td>\n",
       "      <td>False</td>\n",
       "      <td>False</td>\n",
       "      <td>VNM.US</td>\n",
       "      <td>REGN.US</td>\n",
       "    </tr>\n",
       "    <tr>\n",
       "      <th>22664</th>\n",
       "      <td>2019-06-30</td>\n",
       "      <td>0.730042</td>\n",
       "      <td>0.106124</td>\n",
       "      <td>True</td>\n",
       "      <td>0.036398</td>\n",
       "      <td>True</td>\n",
       "      <td>True</td>\n",
       "      <td>EXPE.US</td>\n",
       "      <td>VNM.US</td>\n",
       "    </tr>\n",
       "    <tr>\n",
       "      <th>22681</th>\n",
       "      <td>2019-06-30</td>\n",
       "      <td>0.819393</td>\n",
       "      <td>-0.548634</td>\n",
       "      <td>True</td>\n",
       "      <td>0.032795</td>\n",
       "      <td>True</td>\n",
       "      <td>True</td>\n",
       "      <td>TFC.US</td>\n",
       "      <td>VNM.US</td>\n",
       "    </tr>\n",
       "    <tr>\n",
       "      <th>22695</th>\n",
       "      <td>2019-06-30</td>\n",
       "      <td>1.162844</td>\n",
       "      <td>-0.904759</td>\n",
       "      <td>True</td>\n",
       "      <td>0.027240</td>\n",
       "      <td>True</td>\n",
       "      <td>True</td>\n",
       "      <td>FITB.US</td>\n",
       "      <td>VNM.US</td>\n",
       "    </tr>\n",
       "    <tr>\n",
       "      <th>22699</th>\n",
       "      <td>2019-06-30</td>\n",
       "      <td>1.226689</td>\n",
       "      <td>-0.176223</td>\n",
       "      <td>False</td>\n",
       "      <td>0.010013</td>\n",
       "      <td>True</td>\n",
       "      <td>False</td>\n",
       "      <td>VNM.US</td>\n",
       "      <td>FSLR.US</td>\n",
       "    </tr>\n",
       "  </tbody>\n",
       "</table>\n",
       "<p>29399 rows × 9 columns</p>\n",
       "</div>"
      ],
      "text/plain": [
       "        test_end        w1        w2  joh_sig        eg  eg_sig  coint  \\\n",
       "6     2016-12-31  0.112295  0.052680     True  0.744821   False  False   \n",
       "12    2016-12-31  0.142082 -0.325900    False  0.044346    True  False   \n",
       "15    2016-12-31  0.308580 -1.448434     True  0.015434    True   True   \n",
       "21    2016-12-31  0.117961  0.007331     True  0.639055   False  False   \n",
       "35    2016-12-31  0.221539 -0.529602     True  0.012558    True   True   \n",
       "...          ...       ...       ...      ...       ...     ...    ...   \n",
       "22630 2019-06-30  0.724119  0.022012     True  0.242477   False  False   \n",
       "22664 2019-06-30  0.730042  0.106124     True  0.036398    True   True   \n",
       "22681 2019-06-30  0.819393 -0.548634     True  0.032795    True   True   \n",
       "22695 2019-06-30  1.162844 -0.904759     True  0.027240    True   True   \n",
       "22699 2019-06-30  1.226689 -0.176223    False  0.010013    True  False   \n",
       "\n",
       "             y        x  \n",
       "6       SPY.US     C.US  \n",
       "12      SPY.US  NVDA.US  \n",
       "15     CSCO.US   SPY.US  \n",
       "21      SPY.US    GS.US  \n",
       "35      SPY.US   AMD.US  \n",
       "...        ...      ...  \n",
       "22630   VNM.US  REGN.US  \n",
       "22664  EXPE.US   VNM.US  \n",
       "22681   TFC.US   VNM.US  \n",
       "22695  FITB.US   VNM.US  \n",
       "22699   VNM.US  FSLR.US  \n",
       "\n",
       "[29399 rows x 9 columns]"
      ]
     },
     "execution_count": 63,
     "metadata": {},
     "output_type": "execute_result"
    }
   ],
   "source": [
    "candidates = pd.read_hdf('backtest.h5', 'candidates')\n",
    "candidates.info()\n",
    "candidates"
   ]
  },
  {
   "cell_type": "markdown",
   "metadata": {},
   "source": [
    "#### # Candidates over Time"
   ]
  },
  {
   "cell_type": "code",
   "execution_count": 30,
   "metadata": {
    "ExecuteTime": {
     "end_time": "2020-06-19T06:01:31.795571Z",
     "start_time": "2020-06-19T06:01:31.665218Z"
    }
   },
   "outputs": [
    {
     "data": {
      "text/plain": [
       "<Axes: xlabel='test_end'>"
      ]
     },
     "execution_count": 30,
     "metadata": {},
     "output_type": "execute_result"
    },
    {
     "data": {
      "image/png": "[encoded data removed]",
      "text/plain": [
       "<Figure size 800x500 with 1 Axes>"
      ]
     },
     "metadata": {},
     "output_type": "display_data"
    }
   ],
   "source": [
    "candidates.groupby('test_end').size().plot(figsize=(8, 5))"
   ]
  },
  {
   "cell_type": "markdown",
   "metadata": {},
   "source": [
    "#### Most Common Pairs "
   ]
  },
  {
   "cell_type": "code",
   "execution_count": 31,
   "metadata": {
    "ExecuteTime": {
     "end_time": "2020-06-19T06:01:31.804899Z",
     "start_time": "2020-06-19T06:01:31.796947Z"
    }
   },
   "outputs": [
    {
     "name": "stdout",
     "output_type": "stream",
     "text": [
      "<class 'pandas.io.pytables.HDFStore'>\n",
      "File path: data.h5\n",
      "/etfs/close              frame        (shape->[2516,132])\n",
      "/stocks/close            frame        (shape->[2516,172])\n",
      "/tickers                 series       (shape->[1])       \n"
     ]
    }
   ],
   "source": [
    "with pd.HDFStore('data.h5') as store:\n",
    "    print(store.info())\n",
    "    tickers = store['tickers']"
   ]
  },
  {
   "cell_type": "code",
   "execution_count": 32,
   "metadata": {
    "ExecuteTime": {
     "end_time": "2020-06-19T06:01:31.824963Z",
     "start_time": "2020-06-19T06:01:31.805700Z"
    }
   },
   "outputs": [
    {
     "name": "stdout",
     "output_type": "stream",
     "text": [
      "<class 'pandas.io.pytables.HDFStore'>\n",
      "File path: backtest.h5\n",
      "/candidates                    frame        (shape->[29399,9])  \n",
      "/cointegration_test            frame        (shape->[249744,11])\n",
      "/half_lives                    frame        (shape->[31446,4])  \n",
      "/pair_data                     frame        (shape->[3951625,7])\n",
      "/pair_trades                   frame        (shape->[126006,6]) \n",
      "/prices                        frame        (shape->[305824,5]) \n",
      "/tickers                       series       (shape->[1])        \n"
     ]
    }
   ],
   "source": [
    "with pd.HDFStore('backtest.h5') as store:\n",
    "    print(store.info())"
   ]
  },
  {
   "cell_type": "code",
   "execution_count": 33,
   "metadata": {
    "ExecuteTime": {
     "end_time": "2020-06-19T06:01:31.861630Z",
     "start_time": "2020-06-19T06:01:31.825814Z"
    }
   },
   "outputs": [],
   "source": [
    "counter = Counter()\n",
    "for s1, s2 in zip(candidates[candidates.joh_sig & candidates.eg_sig].y, \n",
    "                  candidates[candidates.joh_sig & candidates.eg_sig].x):\n",
    "    if s1 > s2:\n",
    "        counter[(s2, s1)] += 1\n",
    "    else: \n",
    "        counter[(s1, s2)] += 1"
   ]
  },
  {
   "cell_type": "code",
   "execution_count": 34,
   "metadata": {
    "ExecuteTime": {
     "end_time": "2020-06-19T06:01:31.876602Z",
     "start_time": "2020-06-19T06:01:31.864124Z"
    }
   },
   "outputs": [
    {
     "data": {
      "text/html": [
       "<div>\n",
       "<style scoped>\n",
       "    .dataframe tbody tr th:only-of-type {\n",
       "        vertical-align: middle;\n",
       "    }\n",
       "\n",
       "    .dataframe tbody tr th {\n",
       "        vertical-align: top;\n",
       "    }\n",
       "\n",
       "    .dataframe thead th {\n",
       "        text-align: right;\n",
       "    }\n",
       "</style>\n",
       "<table border=\"1\" class=\"dataframe\">\n",
       "  <thead>\n",
       "    <tr style=\"text-align: right;\">\n",
       "      <th></th>\n",
       "      <th>s1</th>\n",
       "      <th>s2</th>\n",
       "    </tr>\n",
       "  </thead>\n",
       "  <tbody>\n",
       "    <tr>\n",
       "      <th>0</th>\n",
       "      <td>LMT.US</td>\n",
       "      <td>THD.US</td>\n",
       "    </tr>\n",
       "    <tr>\n",
       "      <th>1</th>\n",
       "      <td>TIP.US</td>\n",
       "      <td>WBA.US</td>\n",
       "    </tr>\n",
       "    <tr>\n",
       "      <th>2</th>\n",
       "      <td>CSX.US</td>\n",
       "      <td>HEDJ.US</td>\n",
       "    </tr>\n",
       "    <tr>\n",
       "      <th>3</th>\n",
       "      <td>AGQ.US</td>\n",
       "      <td>DAL.US</td>\n",
       "    </tr>\n",
       "    <tr>\n",
       "      <th>4</th>\n",
       "      <td>EPP.US</td>\n",
       "      <td>HPQ.US</td>\n",
       "    </tr>\n",
       "    <tr>\n",
       "      <th>5</th>\n",
       "      <td>EWD.US</td>\n",
       "      <td>SWKS.US</td>\n",
       "    </tr>\n",
       "    <tr>\n",
       "      <th>6</th>\n",
       "      <td>EPU.US</td>\n",
       "      <td>WBA.US</td>\n",
       "    </tr>\n",
       "    <tr>\n",
       "      <th>7</th>\n",
       "      <td>EWA.US</td>\n",
       "      <td>HPQ.US</td>\n",
       "    </tr>\n",
       "    <tr>\n",
       "      <th>8</th>\n",
       "      <td>BBY.US</td>\n",
       "      <td>TECL.US</td>\n",
       "    </tr>\n",
       "    <tr>\n",
       "      <th>9</th>\n",
       "      <td>EWJ.US</td>\n",
       "      <td>STT.US</td>\n",
       "    </tr>\n",
       "  </tbody>\n",
       "</table>\n",
       "</div>"
      ],
      "text/plain": [
       "       s1       s2\n",
       "0  LMT.US   THD.US\n",
       "1  TIP.US   WBA.US\n",
       "2  CSX.US  HEDJ.US\n",
       "3  AGQ.US   DAL.US\n",
       "4  EPP.US   HPQ.US\n",
       "5  EWD.US  SWKS.US\n",
       "6  EPU.US   WBA.US\n",
       "7  EWA.US   HPQ.US\n",
       "8  BBY.US  TECL.US\n",
       "9  EWJ.US   STT.US"
      ]
     },
     "execution_count": 34,
     "metadata": {},
     "output_type": "execute_result"
    }
   ],
   "source": [
    "most_common_pairs = pd.DataFrame(counter.most_common(10))\n",
    "most_common_pairs = pd.DataFrame(most_common_pairs[0].values.tolist(), columns=['s1', 's2'])\n",
    "most_common_pairs"
   ]
  },
  {
   "cell_type": "code",
   "execution_count": 35,
   "metadata": {
    "ExecuteTime": {
     "end_time": "2020-06-19T13:10:24.702579Z",
     "start_time": "2020-06-19T13:10:24.618722Z"
    }
   },
   "outputs": [],
   "source": [
    "with pd.HDFStore('backtest.h5') as store:\n",
    "    prices = store['prices'].close.unstack('ticker').ffill(limit=5)\n",
    "    tickers = store['tickers'].to_dict()"
   ]
  },
  {
   "cell_type": "code",
   "execution_count": 36,
   "metadata": {
    "ExecuteTime": {
     "end_time": "2020-06-19T13:10:24.901984Z",
     "start_time": "2020-06-19T13:10:24.785861Z"
    },
    "scrolled": true
   },
   "outputs": [
    {
     "data": {
      "text/html": [
       "<div>\n",
       "<style scoped>\n",
       "    .dataframe tbody tr th:only-of-type {\n",
       "        vertical-align: middle;\n",
       "    }\n",
       "\n",
       "    .dataframe tbody tr th {\n",
       "        vertical-align: top;\n",
       "    }\n",
       "\n",
       "    .dataframe thead th {\n",
       "        text-align: right;\n",
       "    }\n",
       "</style>\n",
       "<table border=\"1\" class=\"dataframe\">\n",
       "  <thead>\n",
       "    <tr style=\"text-align: right;\">\n",
       "      <th></th>\n",
       "      <th>s1</th>\n",
       "      <th>s2</th>\n",
       "      <th>n</th>\n",
       "      <th>name1</th>\n",
       "      <th>name2</th>\n",
       "    </tr>\n",
       "  </thead>\n",
       "  <tbody>\n",
       "    <tr>\n",
       "      <th>2393</th>\n",
       "      <td>LMT.US</td>\n",
       "      <td>THD.US</td>\n",
       "      <td>8</td>\n",
       "      <td>LOCKHEED MARTIN CORP</td>\n",
       "      <td>ISHARES MSCI THAILAND ETF</td>\n",
       "    </tr>\n",
       "    <tr>\n",
       "      <th>313</th>\n",
       "      <td>TIP.US</td>\n",
       "      <td>WBA.US</td>\n",
       "      <td>7</td>\n",
       "      <td>ISHARES TIPS BOND ETF</td>\n",
       "      <td>WALGREENS BOOTS ALLIANCE INC</td>\n",
       "    </tr>\n",
       "    <tr>\n",
       "      <th>455</th>\n",
       "      <td>CSX.US</td>\n",
       "      <td>HEDJ.US</td>\n",
       "      <td>6</td>\n",
       "      <td>CSX CORP</td>\n",
       "      <td>WISDOMTREE EUROPE HEDGED EQUITY</td>\n",
       "    </tr>\n",
       "    <tr>\n",
       "      <th>507</th>\n",
       "      <td>AGQ.US</td>\n",
       "      <td>DAL.US</td>\n",
       "      <td>6</td>\n",
       "      <td>PROSHARES ULTRA SILVER</td>\n",
       "      <td>DELTA AIR LINES INC</td>\n",
       "    </tr>\n",
       "    <tr>\n",
       "      <th>575</th>\n",
       "      <td>EPP.US</td>\n",
       "      <td>HPQ.US</td>\n",
       "      <td>6</td>\n",
       "      <td>ISHARES MSCI PACIFIC EX</td>\n",
       "      <td>HP INC</td>\n",
       "    </tr>\n",
       "    <tr>\n",
       "      <th>1009</th>\n",
       "      <td>EWD.US</td>\n",
       "      <td>SWKS.US</td>\n",
       "      <td>6</td>\n",
       "      <td>ISHARES MSCI SWEDEN ETF</td>\n",
       "      <td>SKYWORKS SOLUTIONS INC</td>\n",
       "    </tr>\n",
       "    <tr>\n",
       "      <th>1167</th>\n",
       "      <td>EPU.US</td>\n",
       "      <td>WBA.US</td>\n",
       "      <td>6</td>\n",
       "      <td>ISHARES MSCI PERU AND GLOBAL EXPOSURE</td>\n",
       "      <td>WALGREENS BOOTS ALLIANCE INC</td>\n",
       "    </tr>\n",
       "    <tr>\n",
       "      <th>1349</th>\n",
       "      <td>EWA.US</td>\n",
       "      <td>HPQ.US</td>\n",
       "      <td>6</td>\n",
       "      <td>ISHARES MSCI AUSTRALIA ETF</td>\n",
       "      <td>HP INC</td>\n",
       "    </tr>\n",
       "    <tr>\n",
       "      <th>3039</th>\n",
       "      <td>BBY.US</td>\n",
       "      <td>TECL.US</td>\n",
       "      <td>6</td>\n",
       "      <td>BEST BUY CO INC</td>\n",
       "      <td>DIREXION DAILY</td>\n",
       "    </tr>\n",
       "    <tr>\n",
       "      <th>126</th>\n",
       "      <td>EWJ.US</td>\n",
       "      <td>STT.US</td>\n",
       "      <td>5</td>\n",
       "      <td>ISHARES MSCI JAPAN ETF</td>\n",
       "      <td>STATE STREET CORP</td>\n",
       "    </tr>\n",
       "  </tbody>\n",
       "</table>\n",
       "</div>"
      ],
      "text/plain": [
       "          s1       s2  n                                  name1  \\\n",
       "2393  LMT.US   THD.US  8                   LOCKHEED MARTIN CORP   \n",
       "313   TIP.US   WBA.US  7                  ISHARES TIPS BOND ETF   \n",
       "455   CSX.US  HEDJ.US  6                               CSX CORP   \n",
       "507   AGQ.US   DAL.US  6                 PROSHARES ULTRA SILVER   \n",
       "575   EPP.US   HPQ.US  6                ISHARES MSCI PACIFIC EX   \n",
       "1009  EWD.US  SWKS.US  6                ISHARES MSCI SWEDEN ETF   \n",
       "1167  EPU.US   WBA.US  6  ISHARES MSCI PERU AND GLOBAL EXPOSURE   \n",
       "1349  EWA.US   HPQ.US  6             ISHARES MSCI AUSTRALIA ETF   \n",
       "3039  BBY.US  TECL.US  6                        BEST BUY CO INC   \n",
       "126   EWJ.US   STT.US  5                 ISHARES MSCI JAPAN ETF   \n",
       "\n",
       "                                name2  \n",
       "2393        ISHARES MSCI THAILAND ETF  \n",
       "313      WALGREENS BOOTS ALLIANCE INC  \n",
       "455   WISDOMTREE EUROPE HEDGED EQUITY  \n",
       "507               DELTA AIR LINES INC  \n",
       "575                            HP INC  \n",
       "1009           SKYWORKS SOLUTIONS INC  \n",
       "1167     WALGREENS BOOTS ALLIANCE INC  \n",
       "1349                           HP INC  \n",
       "3039                   DIREXION DAILY  \n",
       "126                 STATE STREET CORP  "
      ]
     },
     "execution_count": 36,
     "metadata": {},
     "output_type": "execute_result"
    }
   ],
   "source": [
    "cnt = pd.Series(counter).reset_index()\n",
    "cnt.columns = ['s1', 's2', 'n']\n",
    "cnt['name1'] = cnt.s1.map(tickers)\n",
    "cnt['name2'] = cnt.s2.map(tickers)\n",
    "cnt.nlargest(10, columns='n')"
   ]
  },
  {
   "cell_type": "code",
   "execution_count": 61,
   "metadata": {
    "ExecuteTime": {
     "end_time": "2020-06-19T13:10:53.610381Z",
     "start_time": "2020-06-19T13:10:52.681128Z"
    }
   },
   "outputs": [
    {
     "data": {
      "image/png": "[encoded data removed]",
      "text/plain": [
       "<Figure size 1400x500 with 4 Axes>"
      ]
     },
     "metadata": {},
     "output_type": "display_data"
    }
   ],
   "source": [
    "fig, axes = plt.subplots(ncols=2, figsize=(14, 5))\n",
    "for i in [0, 1]:\n",
    "    s1, s2 = most_common_pairs.at[i, 's1'], most_common_pairs.at[i, 's2']\n",
    "    prices.loc[:, [s1, s2]].rename(columns=tickers).plot(secondary_y=tickers[s2],\n",
    "                                                         ax=axes[i],\n",
    "                                                         rot=0)\n",
    "    axes[i].grid(False)\n",
    "    axes[i].set_xlabel('')\n",
    "\n",
    "sns.despine()\n",
    "fig.tight_layout()"
   ]
  },
  {
   "cell_type": "markdown",
   "metadata": {},
   "source": [
    "## Get Entry and Exit Dates "
   ]
  },
  {
   "cell_type": "markdown",
   "metadata": {},
   "source": [
    "### Smooth prices using Kalman filter"
   ]
  },
  {
   "cell_type": "code",
   "execution_count": 38,
   "metadata": {
    "ExecuteTime": {
     "end_time": "2020-06-19T13:11:14.858886Z",
     "start_time": "2020-06-19T13:11:14.854069Z"
    }
   },
   "outputs": [],
   "source": [
    "def KFSmoother(prices):\n",
    "    \"\"\"Estimate rolling mean\"\"\"\n",
    "    \n",
    "    kf = KalmanFilter(transition_matrices=np.eye(1),\n",
    "                      observation_matrices=np.eye(1),\n",
    "                      initial_state_mean=0,\n",
    "                      initial_state_covariance=1,\n",
    "                      observation_covariance=1,\n",
    "                      transition_covariance=.05)\n",
    "\n",
    "    state_means, _ = kf.filter(prices.values)\n",
    "    return pd.Series(state_means.flatten(),\n",
    "                     index=prices.index)"
   ]
  },
  {
   "cell_type": "code",
   "execution_count": 39,
   "metadata": {
    "ExecuteTime": {
     "end_time": "2020-06-19T13:12:00.810776Z",
     "start_time": "2020-06-19T13:11:14.860508Z"
    }
   },
   "outputs": [],
   "source": [
    "smoothed_prices = prices.apply(KFSmoother)\n",
    "smoothed_prices.to_hdf('tmp.h5', 'smoothed')"
   ]
  },
  {
   "cell_type": "code",
   "execution_count": 40,
   "metadata": {
    "ExecuteTime": {
     "end_time": "2020-06-19T13:12:00.820497Z",
     "start_time": "2020-06-19T13:12:00.812004Z"
    }
   },
   "outputs": [],
   "source": [
    "smoothed_prices = pd.read_hdf('tmp.h5', 'smoothed')"
   ]
  },
  {
   "cell_type": "markdown",
   "metadata": {},
   "source": [
    "### Compute rolling hedge ratio using Kalman Filter"
   ]
  },
  {
   "cell_type": "code",
   "execution_count": 41,
   "metadata": {
    "ExecuteTime": {
     "end_time": "2020-06-19T13:12:00.829378Z",
     "start_time": "2020-06-19T13:12:00.821806Z"
    }
   },
   "outputs": [],
   "source": [
    "def KFHedgeRatio(x, y):\n",
    "    \"\"\"Estimate Hedge Ratio\"\"\"\n",
    "    delta = 1e-3\n",
    "    trans_cov = delta / (1 - delta) * np.eye(2)\n",
    "    obs_mat = np.expand_dims(np.vstack([[x], [np.ones(len(x))]]).T, axis=1)\n",
    "\n",
    "    kf = KalmanFilter(n_dim_obs=1, n_dim_state=2,\n",
    "                      initial_state_mean=[0, 0],\n",
    "                      initial_state_covariance=np.ones((2, 2)),\n",
    "                      transition_matrices=np.eye(2),\n",
    "                      observation_matrices=obs_mat,\n",
    "                      observation_covariance=2,\n",
    "                      transition_covariance=trans_cov)\n",
    "\n",
    "    state_means, _ = kf.filter(y.values)\n",
    "    return -state_means"
   ]
  },
  {
   "cell_type": "markdown",
   "metadata": {},
   "source": [
    "### Estimate mean reversion half life"
   ]
  },
  {
   "cell_type": "code",
   "execution_count": 42,
   "metadata": {
    "ExecuteTime": {
     "end_time": "2020-06-19T13:12:00.840770Z",
     "start_time": "2020-06-19T13:12:00.830166Z"
    }
   },
   "outputs": [],
   "source": [
    "def estimate_half_life(spread):\n",
    "    X = spread.shift().iloc[1:].to_frame().assign(const=1)\n",
    "    y = spread.diff().iloc[1:]\n",
    "    beta = (np.linalg.inv(X.T @ X) @ X.T @ y).iloc[0]\n",
    "    halflife = int(round(-np.log(2) / beta, 0))\n",
    "    return max(halflife, 1)"
   ]
  },
  {
   "cell_type": "markdown",
   "metadata": {},
   "source": [
    "### Compute Spread & Bollinger Bands"
   ]
  },
  {
   "cell_type": "code",
   "execution_count": 43,
   "metadata": {
    "ExecuteTime": {
     "end_time": "2020-06-19T13:12:00.854200Z",
     "start_time": "2020-06-19T13:12:00.841765Z"
    }
   },
   "outputs": [],
   "source": [
    "def get_spread(candidates, prices):\n",
    "    pairs = []\n",
    "    half_lives = []\n",
    "\n",
    "    periods = pd.DatetimeIndex(sorted(candidates.test_end.unique()))\n",
    "    start = time()\n",
    "    for p, test_end in enumerate(periods, 1):\n",
    "        start_iteration = time()\n",
    "\n",
    "        period_candidates = candidates.loc[candidates.test_end == test_end, ['y', 'x']]\n",
    "        trading_start = test_end + pd.DateOffset(days=1)\n",
    "        t = trading_start - pd.DateOffset(years=2)\n",
    "        T = trading_start + pd.DateOffset(months=6) - pd.DateOffset(days=1)\n",
    "        max_window = len(prices.loc[t: test_end].index)\n",
    "        print(test_end.date(), len(period_candidates))\n",
    "        for i, (y, x) in enumerate(zip(period_candidates.y, period_candidates.x), 1):\n",
    "            if i % 1000 == 0:\n",
    "                msg = f'{i:5.0f} | {time() - start_iteration:7.1f} | {time() - start:10.1f}'\n",
    "                print(msg)\n",
    "            pair = prices.loc[t: T, [y, x]]\n",
    "            pair['hedge_ratio'] = KFHedgeRatio(y=KFSmoother(prices.loc[t: T, y]),\n",
    "                                               x=KFSmoother(prices.loc[t: T, x]))[:, 0]\n",
    "            pair['spread'] = pair[y].add(pair[x].mul(pair.hedge_ratio))\n",
    "            half_life = estimate_half_life(pair.spread.loc[t: test_end])                \n",
    "\n",
    "            spread = pair.spread.rolling(window=min(2 * half_life, max_window))\n",
    "            pair['z_score'] = pair.spread.sub(spread.mean()).div(spread.std())\n",
    "            pairs.append(pair.loc[trading_start: T].assign(s1=y, s2=x, period=p, pair=i).drop([x, y], axis=1))\n",
    "\n",
    "            half_lives.append([test_end, y, x, half_life])\n",
    "    return pairs, half_lives"
   ]
  },
  {
   "cell_type": "code",
   "execution_count": 44,
   "metadata": {
    "ExecuteTime": {
     "end_time": "2020-06-19T13:12:00.897593Z",
     "start_time": "2020-06-19T13:12:00.856141Z"
    }
   },
   "outputs": [
    {
     "name": "stdout",
     "output_type": "stream",
     "text": [
      "<class 'pandas.core.frame.DataFrame'>\n",
      "Index: 29399 entries, 6 to 22699\n",
      "Data columns (total 9 columns):\n",
      " #   Column    Non-Null Count  Dtype         \n",
      "---  ------    --------------  -----         \n",
      " 0   test_end  29399 non-null  datetime64[ns]\n",
      " 1   w1        29399 non-null  float64       \n",
      " 2   w2        29399 non-null  float64       \n",
      " 3   joh_sig   29399 non-null  bool          \n",
      " 4   eg        29399 non-null  float64       \n",
      " 5   eg_sig    29399 non-null  bool          \n",
      " 6   coint     29399 non-null  bool          \n",
      " 7   y         29399 non-null  object        \n",
      " 8   x         29399 non-null  object        \n",
      "dtypes: bool(3), datetime64[ns](1), float64(3), object(2)\n",
      "memory usage: 1.7+ MB\n"
     ]
    }
   ],
   "source": [
    "candidates = pd.read_hdf('backtest.h5', 'candidates')\n",
    "candidates.info()"
   ]
  },
  {
   "cell_type": "markdown",
   "metadata": {},
   "source": [
    "48m 20.0s"
   ]
  },
  {
   "cell_type": "code",
   "execution_count": 45,
   "metadata": {
    "ExecuteTime": {
     "end_time": "2020-06-19T16:18:38.419560Z",
     "start_time": "2020-06-19T13:12:00.898765Z"
    },
    "scrolled": false
   },
   "outputs": [],
   "source": [
    "# pairs, half_lives = get_spread(candidates, smoothed_prices)"
   ]
  },
  {
   "cell_type": "markdown",
   "metadata": {},
   "source": [
    "5m 4.0s"
   ]
  },
  {
   "cell_type": "code",
   "execution_count": 46,
   "metadata": {},
   "outputs": [
    {
     "name": "stdout",
     "output_type": "stream",
     "text": [
      "2016-12-31 3219\n"
     ]
    },
    {
     "name": "stderr",
     "output_type": "stream",
     "text": [
      "[Parallel(n_jobs=-1)]: Using backend LokyBackend with 16 concurrent workers.\n",
      "[Parallel(n_jobs=-1)]: Done   9 tasks      | elapsed:    1.1s\n",
      "[Parallel(n_jobs=-1)]: Done  18 tasks      | elapsed:    1.2s\n",
      "[Parallel(n_jobs=-1)]: Done  29 tasks      | elapsed:    1.2s\n",
      "[Parallel(n_jobs=-1)]: Done  40 tasks      | elapsed:    1.3s\n",
      "[Parallel(n_jobs=-1)]: Batch computation too fast (0.1994049275202473s.) Setting batch_size=2.\n",
      "[Parallel(n_jobs=-1)]: Done  53 tasks      | elapsed:    1.4s\n",
      "[Parallel(n_jobs=-1)]: Done  66 tasks      | elapsed:    1.5s\n",
      "[Parallel(n_jobs=-1)]: Done  82 tasks      | elapsed:    1.6s\n",
      "[Parallel(n_jobs=-1)]: Done 112 tasks      | elapsed:    1.7s\n",
      "[Parallel(n_jobs=-1)]: Done 146 tasks      | elapsed:    1.9s\n",
      "[Parallel(n_jobs=-1)]: Done 180 tasks      | elapsed:    2.1s\n",
      "[Parallel(n_jobs=-1)]: Done 218 tasks      | elapsed:    2.3s\n",
      "[Parallel(n_jobs=-1)]: Done 256 tasks      | elapsed:    2.5s\n",
      "[Parallel(n_jobs=-1)]: Done 298 tasks      | elapsed:    2.6s\n",
      "[Parallel(n_jobs=-1)]: Done 340 tasks      | elapsed:    2.9s\n",
      "[Parallel(n_jobs=-1)]: Done 386 tasks      | elapsed:    3.1s\n",
      "[Parallel(n_jobs=-1)]: Done 432 tasks      | elapsed:    3.3s\n",
      "[Parallel(n_jobs=-1)]: Done 482 tasks      | elapsed:    3.6s\n",
      "[Parallel(n_jobs=-1)]: Done 532 tasks      | elapsed:    3.8s\n",
      "[Parallel(n_jobs=-1)]: Done 586 tasks      | elapsed:    4.1s\n",
      "[Parallel(n_jobs=-1)]: Done 640 tasks      | elapsed:    4.4s\n",
      "[Parallel(n_jobs=-1)]: Done 698 tasks      | elapsed:    4.7s\n",
      "[Parallel(n_jobs=-1)]: Done 756 tasks      | elapsed:    5.0s\n",
      "[Parallel(n_jobs=-1)]: Done 818 tasks      | elapsed:    5.3s\n",
      "[Parallel(n_jobs=-1)]: Done 880 tasks      | elapsed:    5.6s\n",
      "[Parallel(n_jobs=-1)]: Done 946 tasks      | elapsed:    5.9s\n",
      "[Parallel(n_jobs=-1)]: Done 1012 tasks      | elapsed:    6.3s\n",
      "[Parallel(n_jobs=-1)]: Done 1082 tasks      | elapsed:    6.7s\n",
      "[Parallel(n_jobs=-1)]: Done 1152 tasks      | elapsed:    7.0s\n",
      "[Parallel(n_jobs=-1)]: Done 1226 tasks      | elapsed:    7.4s\n",
      "[Parallel(n_jobs=-1)]: Done 1300 tasks      | elapsed:    7.8s\n",
      "[Parallel(n_jobs=-1)]: Done 1378 tasks      | elapsed:    8.2s\n",
      "[Parallel(n_jobs=-1)]: Done 1456 tasks      | elapsed:    8.6s\n",
      "[Parallel(n_jobs=-1)]: Done 1538 tasks      | elapsed:    9.1s\n",
      "[Parallel(n_jobs=-1)]: Done 1620 tasks      | elapsed:    9.5s\n",
      "[Parallel(n_jobs=-1)]: Done 1706 tasks      | elapsed:    9.9s\n",
      "[Parallel(n_jobs=-1)]: Done 1792 tasks      | elapsed:   10.4s\n",
      "[Parallel(n_jobs=-1)]: Done 1882 tasks      | elapsed:   10.9s\n",
      "[Parallel(n_jobs=-1)]: Done 1972 tasks      | elapsed:   11.4s\n",
      "[Parallel(n_jobs=-1)]: Done 2066 tasks      | elapsed:   11.9s\n",
      "[Parallel(n_jobs=-1)]: Done 2160 tasks      | elapsed:   12.4s\n",
      "[Parallel(n_jobs=-1)]: Done 2258 tasks      | elapsed:   13.0s\n",
      "[Parallel(n_jobs=-1)]: Done 2356 tasks      | elapsed:   13.5s\n",
      "[Parallel(n_jobs=-1)]: Done 2458 tasks      | elapsed:   14.2s\n",
      "[Parallel(n_jobs=-1)]: Done 2560 tasks      | elapsed:   14.8s\n",
      "[Parallel(n_jobs=-1)]: Done 2666 tasks      | elapsed:   15.4s\n",
      "[Parallel(n_jobs=-1)]: Done 2772 tasks      | elapsed:   16.0s\n",
      "[Parallel(n_jobs=-1)]: Done 2882 tasks      | elapsed:   16.7s\n",
      "[Parallel(n_jobs=-1)]: Done 2992 tasks      | elapsed:   17.4s\n",
      "[Parallel(n_jobs=-1)]: Done 3106 tasks      | elapsed:   18.1s\n",
      "[Parallel(n_jobs=-1)]: Done 3188 out of 3219 | elapsed:   18.7s remaining:    0.2s\n",
      "[Parallel(n_jobs=-1)]: Done 3219 out of 3219 | elapsed:   18.8s finished\n"
     ]
    },
    {
     "name": "stdout",
     "output_type": "stream",
     "text": [
      "2017-03-31 1924\n"
     ]
    },
    {
     "name": "stderr",
     "output_type": "stream",
     "text": [
      "[Parallel(n_jobs=-1)]: Using backend LokyBackend with 16 concurrent workers.\n",
      "[Parallel(n_jobs=-1)]: Batch computation too fast (0.09949517250061035s.) Setting batch_size=2.\n",
      "[Parallel(n_jobs=-1)]: Done   9 tasks      | elapsed:    0.1s\n",
      "[Parallel(n_jobs=-1)]: Done  18 tasks      | elapsed:    0.2s\n",
      "[Parallel(n_jobs=-1)]: Done  29 tasks      | elapsed:    0.2s\n",
      "[Parallel(n_jobs=-1)]: Done  48 tasks      | elapsed:    0.4s\n",
      "[Parallel(n_jobs=-1)]: Done  74 tasks      | elapsed:    0.6s\n",
      "[Parallel(n_jobs=-1)]: Done 100 tasks      | elapsed:    0.8s\n",
      "[Parallel(n_jobs=-1)]: Done 130 tasks      | elapsed:    1.0s\n",
      "[Parallel(n_jobs=-1)]: Done 160 tasks      | elapsed:    1.2s\n",
      "[Parallel(n_jobs=-1)]: Done 194 tasks      | elapsed:    1.4s\n",
      "[Parallel(n_jobs=-1)]: Done 228 tasks      | elapsed:    1.7s\n",
      "[Parallel(n_jobs=-1)]: Done 266 tasks      | elapsed:    1.9s\n",
      "[Parallel(n_jobs=-1)]: Done 304 tasks      | elapsed:    2.2s\n",
      "[Parallel(n_jobs=-1)]: Done 346 tasks      | elapsed:    2.4s\n",
      "[Parallel(n_jobs=-1)]: Done 388 tasks      | elapsed:    2.8s\n",
      "[Parallel(n_jobs=-1)]: Done 434 tasks      | elapsed:    3.1s\n",
      "[Parallel(n_jobs=-1)]: Done 480 tasks      | elapsed:    3.4s\n",
      "[Parallel(n_jobs=-1)]: Done 530 tasks      | elapsed:    3.7s\n",
      "[Parallel(n_jobs=-1)]: Done 580 tasks      | elapsed:    4.1s\n",
      "[Parallel(n_jobs=-1)]: Done 634 tasks      | elapsed:    4.4s\n",
      "[Parallel(n_jobs=-1)]: Done 688 tasks      | elapsed:    4.8s\n",
      "[Parallel(n_jobs=-1)]: Done 746 tasks      | elapsed:    5.2s\n",
      "[Parallel(n_jobs=-1)]: Done 804 tasks      | elapsed:    5.6s\n",
      "[Parallel(n_jobs=-1)]: Done 866 tasks      | elapsed:    6.0s\n",
      "[Parallel(n_jobs=-1)]: Done 928 tasks      | elapsed:    6.4s\n",
      "[Parallel(n_jobs=-1)]: Done 994 tasks      | elapsed:    6.9s\n",
      "[Parallel(n_jobs=-1)]: Done 1060 tasks      | elapsed:    7.4s\n",
      "[Parallel(n_jobs=-1)]: Done 1130 tasks      | elapsed:    7.9s\n",
      "[Parallel(n_jobs=-1)]: Done 1200 tasks      | elapsed:    8.3s\n",
      "[Parallel(n_jobs=-1)]: Done 1274 tasks      | elapsed:    8.8s\n",
      "[Parallel(n_jobs=-1)]: Done 1348 tasks      | elapsed:    9.4s\n",
      "[Parallel(n_jobs=-1)]: Done 1426 tasks      | elapsed:   10.0s\n",
      "[Parallel(n_jobs=-1)]: Done 1504 tasks      | elapsed:   10.5s\n",
      "[Parallel(n_jobs=-1)]: Done 1586 tasks      | elapsed:   11.1s\n",
      "[Parallel(n_jobs=-1)]: Done 1668 tasks      | elapsed:   11.7s\n",
      "[Parallel(n_jobs=-1)]: Done 1754 tasks      | elapsed:   12.3s\n",
      "[Parallel(n_jobs=-1)]: Done 1840 tasks      | elapsed:   12.9s\n",
      "[Parallel(n_jobs=-1)]: Done 1924 out of 1924 | elapsed:   13.5s finished\n",
      "[Parallel(n_jobs=-1)]: Using backend LokyBackend with 16 concurrent workers.\n"
     ]
    },
    {
     "name": "stdout",
     "output_type": "stream",
     "text": [
      "2017-06-30 3984\n"
     ]
    },
    {
     "name": "stderr",
     "output_type": "stream",
     "text": [
      "[Parallel(n_jobs=-1)]: Batch computation too fast (0.11612892150878906s.) Setting batch_size=2.\n",
      "[Parallel(n_jobs=-1)]: Done   9 tasks      | elapsed:    0.1s\n",
      "[Parallel(n_jobs=-1)]: Done  18 tasks      | elapsed:    0.2s\n",
      "[Parallel(n_jobs=-1)]: Done  29 tasks      | elapsed:    0.3s\n",
      "[Parallel(n_jobs=-1)]: Done  48 tasks      | elapsed:    0.5s\n",
      "[Parallel(n_jobs=-1)]: Done  74 tasks      | elapsed:    0.8s\n",
      "[Parallel(n_jobs=-1)]: Done 100 tasks      | elapsed:    1.0s\n",
      "[Parallel(n_jobs=-1)]: Done 130 tasks      | elapsed:    1.2s\n",
      "[Parallel(n_jobs=-1)]: Done 160 tasks      | elapsed:    1.4s\n",
      "[Parallel(n_jobs=-1)]: Done 194 tasks      | elapsed:    1.7s\n",
      "[Parallel(n_jobs=-1)]: Done 228 tasks      | elapsed:    2.0s\n",
      "[Parallel(n_jobs=-1)]: Done 266 tasks      | elapsed:    2.3s\n",
      "[Parallel(n_jobs=-1)]: Done 304 tasks      | elapsed:    2.7s\n",
      "[Parallel(n_jobs=-1)]: Done 346 tasks      | elapsed:    3.0s\n",
      "[Parallel(n_jobs=-1)]: Done 388 tasks      | elapsed:    3.4s\n",
      "[Parallel(n_jobs=-1)]: Done 434 tasks      | elapsed:    3.9s\n",
      "[Parallel(n_jobs=-1)]: Done 480 tasks      | elapsed:    4.2s\n",
      "[Parallel(n_jobs=-1)]: Done 530 tasks      | elapsed:    4.7s\n",
      "[Parallel(n_jobs=-1)]: Done 580 tasks      | elapsed:    5.1s\n",
      "[Parallel(n_jobs=-1)]: Done 634 tasks      | elapsed:    5.5s\n",
      "[Parallel(n_jobs=-1)]: Done 688 tasks      | elapsed:    6.0s\n",
      "[Parallel(n_jobs=-1)]: Done 746 tasks      | elapsed:    6.4s\n",
      "[Parallel(n_jobs=-1)]: Done 804 tasks      | elapsed:    6.9s\n",
      "[Parallel(n_jobs=-1)]: Done 866 tasks      | elapsed:    7.4s\n",
      "[Parallel(n_jobs=-1)]: Done 928 tasks      | elapsed:    7.9s\n",
      "[Parallel(n_jobs=-1)]: Done 994 tasks      | elapsed:    8.5s\n",
      "[Parallel(n_jobs=-1)]: Done 1060 tasks      | elapsed:    9.0s\n",
      "[Parallel(n_jobs=-1)]: Done 1130 tasks      | elapsed:    9.6s\n",
      "[Parallel(n_jobs=-1)]: Done 1200 tasks      | elapsed:   10.2s\n",
      "[Parallel(n_jobs=-1)]: Done 1274 tasks      | elapsed:   10.8s\n",
      "[Parallel(n_jobs=-1)]: Done 1348 tasks      | elapsed:   11.4s\n",
      "[Parallel(n_jobs=-1)]: Done 1426 tasks      | elapsed:   12.0s\n",
      "[Parallel(n_jobs=-1)]: Done 1504 tasks      | elapsed:   12.7s\n",
      "[Parallel(n_jobs=-1)]: Done 1586 tasks      | elapsed:   13.4s\n",
      "[Parallel(n_jobs=-1)]: Done 1668 tasks      | elapsed:   14.1s\n",
      "[Parallel(n_jobs=-1)]: Done 1754 tasks      | elapsed:   14.8s\n",
      "[Parallel(n_jobs=-1)]: Done 1840 tasks      | elapsed:   15.5s\n",
      "[Parallel(n_jobs=-1)]: Done 1930 tasks      | elapsed:   16.3s\n",
      "[Parallel(n_jobs=-1)]: Done 2020 tasks      | elapsed:   16.9s\n",
      "[Parallel(n_jobs=-1)]: Done 2114 tasks      | elapsed:   17.8s\n",
      "[Parallel(n_jobs=-1)]: Done 2208 tasks      | elapsed:   18.6s\n",
      "[Parallel(n_jobs=-1)]: Done 2306 tasks      | elapsed:   19.4s\n",
      "[Parallel(n_jobs=-1)]: Done 2404 tasks      | elapsed:   20.2s\n",
      "[Parallel(n_jobs=-1)]: Done 2506 tasks      | elapsed:   21.2s\n",
      "[Parallel(n_jobs=-1)]: Done 2608 tasks      | elapsed:   22.0s\n",
      "[Parallel(n_jobs=-1)]: Done 2714 tasks      | elapsed:   22.9s\n",
      "[Parallel(n_jobs=-1)]: Done 2820 tasks      | elapsed:   23.8s\n",
      "[Parallel(n_jobs=-1)]: Done 2930 tasks      | elapsed:   24.7s\n",
      "[Parallel(n_jobs=-1)]: Done 3040 tasks      | elapsed:   25.6s\n",
      "[Parallel(n_jobs=-1)]: Done 3154 tasks      | elapsed:   26.6s\n",
      "[Parallel(n_jobs=-1)]: Done 3268 tasks      | elapsed:   27.5s\n",
      "[Parallel(n_jobs=-1)]: Done 3386 tasks      | elapsed:   28.5s\n",
      "[Parallel(n_jobs=-1)]: Done 3504 tasks      | elapsed:   29.5s\n",
      "[Parallel(n_jobs=-1)]: Done 3626 tasks      | elapsed:   30.6s\n",
      "[Parallel(n_jobs=-1)]: Done 3748 tasks      | elapsed:   31.6s\n",
      "[Parallel(n_jobs=-1)]: Done 3874 tasks      | elapsed:   32.7s\n",
      "[Parallel(n_jobs=-1)]: Done 3984 out of 3984 | elapsed:   33.6s finished\n",
      "[Parallel(n_jobs=-1)]: Using backend LokyBackend with 16 concurrent workers.\n"
     ]
    },
    {
     "name": "stdout",
     "output_type": "stream",
     "text": [
      "2017-09-30 2009\n"
     ]
    },
    {
     "name": "stderr",
     "output_type": "stream",
     "text": [
      "[Parallel(n_jobs=-1)]: Batch computation too fast (0.12341713905334473s.) Setting batch_size=2.\n",
      "[Parallel(n_jobs=-1)]: Done   9 tasks      | elapsed:    0.2s\n",
      "[Parallel(n_jobs=-1)]: Done  18 tasks      | elapsed:    0.3s\n",
      "[Parallel(n_jobs=-1)]: Done  29 tasks      | elapsed:    0.4s\n",
      "[Parallel(n_jobs=-1)]: Done  48 tasks      | elapsed:    0.6s\n",
      "[Parallel(n_jobs=-1)]: Done  74 tasks      | elapsed:    0.8s\n",
      "[Parallel(n_jobs=-1)]: Done 100 tasks      | elapsed:    1.1s\n",
      "[Parallel(n_jobs=-1)]: Done 130 tasks      | elapsed:    1.3s\n",
      "[Parallel(n_jobs=-1)]: Done 160 tasks      | elapsed:    1.7s\n",
      "[Parallel(n_jobs=-1)]: Done 194 tasks      | elapsed:    2.0s\n",
      "[Parallel(n_jobs=-1)]: Done 228 tasks      | elapsed:    2.3s\n",
      "[Parallel(n_jobs=-1)]: Done 266 tasks      | elapsed:    2.6s\n",
      "[Parallel(n_jobs=-1)]: Done 304 tasks      | elapsed:    3.0s\n",
      "[Parallel(n_jobs=-1)]: Done 346 tasks      | elapsed:    3.4s\n",
      "[Parallel(n_jobs=-1)]: Done 388 tasks      | elapsed:    3.8s\n",
      "[Parallel(n_jobs=-1)]: Done 434 tasks      | elapsed:    4.2s\n",
      "[Parallel(n_jobs=-1)]: Done 480 tasks      | elapsed:    4.7s\n",
      "[Parallel(n_jobs=-1)]: Done 530 tasks      | elapsed:    5.1s\n",
      "[Parallel(n_jobs=-1)]: Done 580 tasks      | elapsed:    5.6s\n",
      "[Parallel(n_jobs=-1)]: Done 634 tasks      | elapsed:    6.2s\n",
      "[Parallel(n_jobs=-1)]: Done 688 tasks      | elapsed:    6.7s\n",
      "[Parallel(n_jobs=-1)]: Done 746 tasks      | elapsed:    7.2s\n",
      "[Parallel(n_jobs=-1)]: Done 804 tasks      | elapsed:    7.8s\n",
      "[Parallel(n_jobs=-1)]: Done 866 tasks      | elapsed:    8.4s\n",
      "[Parallel(n_jobs=-1)]: Done 928 tasks      | elapsed:    8.9s\n",
      "[Parallel(n_jobs=-1)]: Done 994 tasks      | elapsed:    9.6s\n",
      "[Parallel(n_jobs=-1)]: Done 1060 tasks      | elapsed:   10.2s\n",
      "[Parallel(n_jobs=-1)]: Done 1130 tasks      | elapsed:   10.8s\n",
      "[Parallel(n_jobs=-1)]: Done 1200 tasks      | elapsed:   11.5s\n",
      "[Parallel(n_jobs=-1)]: Done 1274 tasks      | elapsed:   12.2s\n",
      "[Parallel(n_jobs=-1)]: Done 1348 tasks      | elapsed:   12.9s\n",
      "[Parallel(n_jobs=-1)]: Done 1426 tasks      | elapsed:   13.6s\n",
      "[Parallel(n_jobs=-1)]: Done 1504 tasks      | elapsed:   14.3s\n",
      "[Parallel(n_jobs=-1)]: Done 1586 tasks      | elapsed:   15.1s\n",
      "[Parallel(n_jobs=-1)]: Done 1668 tasks      | elapsed:   15.9s\n",
      "[Parallel(n_jobs=-1)]: Done 1754 tasks      | elapsed:   16.8s\n",
      "[Parallel(n_jobs=-1)]: Done 1840 tasks      | elapsed:   17.5s\n",
      "[Parallel(n_jobs=-1)]: Done 1930 tasks      | elapsed:   18.4s\n",
      "[Parallel(n_jobs=-1)]: Done 1978 out of 2009 | elapsed:   18.8s remaining:    0.3s\n",
      "[Parallel(n_jobs=-1)]: Done 2009 out of 2009 | elapsed:   19.0s finished\n",
      "[Parallel(n_jobs=-1)]: Using backend LokyBackend with 16 concurrent workers.\n"
     ]
    },
    {
     "name": "stdout",
     "output_type": "stream",
     "text": [
      "2017-12-31 2878\n"
     ]
    },
    {
     "name": "stderr",
     "output_type": "stream",
     "text": [
      "[Parallel(n_jobs=-1)]: Batch computation too fast (0.14033293724060059s.) Setting batch_size=2.\n",
      "[Parallel(n_jobs=-1)]: Done   9 tasks      | elapsed:    0.2s\n",
      "[Parallel(n_jobs=-1)]: Done  18 tasks      | elapsed:    0.3s\n",
      "[Parallel(n_jobs=-1)]: Done  29 tasks      | elapsed:    0.4s\n",
      "[Parallel(n_jobs=-1)]: Done  48 tasks      | elapsed:    0.7s\n",
      "[Parallel(n_jobs=-1)]: Done  74 tasks      | elapsed:    0.9s\n",
      "[Parallel(n_jobs=-1)]: Done 100 tasks      | elapsed:    1.3s\n",
      "[Parallel(n_jobs=-1)]: Done 130 tasks      | elapsed:    1.6s\n",
      "[Parallel(n_jobs=-1)]: Done 160 tasks      | elapsed:    2.0s\n",
      "[Parallel(n_jobs=-1)]: Done 194 tasks      | elapsed:    2.4s\n",
      "[Parallel(n_jobs=-1)]: Done 228 tasks      | elapsed:    2.7s\n",
      "[Parallel(n_jobs=-1)]: Done 266 tasks      | elapsed:    3.2s\n",
      "[Parallel(n_jobs=-1)]: Done 304 tasks      | elapsed:    3.6s\n",
      "[Parallel(n_jobs=-1)]: Done 346 tasks      | elapsed:    3.9s\n",
      "[Parallel(n_jobs=-1)]: Done 388 tasks      | elapsed:    4.5s\n",
      "[Parallel(n_jobs=-1)]: Done 434 tasks      | elapsed:    5.0s\n",
      "[Parallel(n_jobs=-1)]: Done 480 tasks      | elapsed:    5.4s\n",
      "[Parallel(n_jobs=-1)]: Done 530 tasks      | elapsed:    6.0s\n",
      "[Parallel(n_jobs=-1)]: Done 580 tasks      | elapsed:    6.5s\n",
      "[Parallel(n_jobs=-1)]: Done 634 tasks      | elapsed:    7.1s\n",
      "[Parallel(n_jobs=-1)]: Done 688 tasks      | elapsed:    7.7s\n",
      "[Parallel(n_jobs=-1)]: Done 746 tasks      | elapsed:    8.3s\n",
      "[Parallel(n_jobs=-1)]: Done 804 tasks      | elapsed:    8.9s\n",
      "[Parallel(n_jobs=-1)]: Done 866 tasks      | elapsed:    9.6s\n",
      "[Parallel(n_jobs=-1)]: Done 928 tasks      | elapsed:   10.2s\n",
      "[Parallel(n_jobs=-1)]: Done 994 tasks      | elapsed:   11.0s\n",
      "[Parallel(n_jobs=-1)]: Done 1060 tasks      | elapsed:   11.7s\n",
      "[Parallel(n_jobs=-1)]: Done 1130 tasks      | elapsed:   12.4s\n",
      "[Parallel(n_jobs=-1)]: Done 1200 tasks      | elapsed:   13.2s\n",
      "[Parallel(n_jobs=-1)]: Done 1274 tasks      | elapsed:   14.0s\n",
      "[Parallel(n_jobs=-1)]: Done 1348 tasks      | elapsed:   14.8s\n",
      "[Parallel(n_jobs=-1)]: Done 1426 tasks      | elapsed:   15.7s\n",
      "[Parallel(n_jobs=-1)]: Done 1504 tasks      | elapsed:   16.5s\n",
      "[Parallel(n_jobs=-1)]: Done 1586 tasks      | elapsed:   17.5s\n",
      "[Parallel(n_jobs=-1)]: Done 1668 tasks      | elapsed:   18.3s\n",
      "[Parallel(n_jobs=-1)]: Done 1754 tasks      | elapsed:   19.2s\n",
      "[Parallel(n_jobs=-1)]: Done 1840 tasks      | elapsed:   20.1s\n",
      "[Parallel(n_jobs=-1)]: Done 1930 tasks      | elapsed:   21.0s\n",
      "[Parallel(n_jobs=-1)]: Done 2020 tasks      | elapsed:   22.0s\n",
      "[Parallel(n_jobs=-1)]: Done 2114 tasks      | elapsed:   22.9s\n",
      "[Parallel(n_jobs=-1)]: Done 2208 tasks      | elapsed:   23.9s\n",
      "[Parallel(n_jobs=-1)]: Done 2306 tasks      | elapsed:   24.9s\n",
      "[Parallel(n_jobs=-1)]: Done 2404 tasks      | elapsed:   25.9s\n",
      "[Parallel(n_jobs=-1)]: Done 2506 tasks      | elapsed:   27.0s\n",
      "[Parallel(n_jobs=-1)]: Done 2608 tasks      | elapsed:   28.1s\n",
      "[Parallel(n_jobs=-1)]: Done 2714 tasks      | elapsed:   29.2s\n",
      "[Parallel(n_jobs=-1)]: Done 2820 tasks      | elapsed:   30.4s\n",
      "[Parallel(n_jobs=-1)]: Done 2847 out of 2878 | elapsed:   30.6s remaining:    0.3s\n",
      "[Parallel(n_jobs=-1)]: Done 2878 out of 2878 | elapsed:   30.9s finished\n",
      "[Parallel(n_jobs=-1)]: Using backend LokyBackend with 16 concurrent workers.\n"
     ]
    },
    {
     "name": "stdout",
     "output_type": "stream",
     "text": [
      "2018-03-31 3471\n"
     ]
    },
    {
     "name": "stderr",
     "output_type": "stream",
     "text": [
      "[Parallel(n_jobs=-1)]: Batch computation too fast (0.13082599639892578s.) Setting batch_size=2.\n",
      "[Parallel(n_jobs=-1)]: Done   9 tasks      | elapsed:    0.2s\n",
      "[Parallel(n_jobs=-1)]: Done  18 tasks      | elapsed:    0.3s\n",
      "[Parallel(n_jobs=-1)]: Done  29 tasks      | elapsed:    0.5s\n",
      "[Parallel(n_jobs=-1)]: Done  48 tasks      | elapsed:    0.8s\n",
      "[Parallel(n_jobs=-1)]: Done  74 tasks      | elapsed:    1.1s\n",
      "[Parallel(n_jobs=-1)]: Done 100 tasks      | elapsed:    1.3s\n",
      "[Parallel(n_jobs=-1)]: Done 130 tasks      | elapsed:    1.7s\n",
      "[Parallel(n_jobs=-1)]: Done 160 tasks      | elapsed:    2.1s\n",
      "[Parallel(n_jobs=-1)]: Done 194 tasks      | elapsed:    2.5s\n",
      "[Parallel(n_jobs=-1)]: Done 228 tasks      | elapsed:    2.9s\n",
      "[Parallel(n_jobs=-1)]: Done 266 tasks      | elapsed:    3.3s\n",
      "[Parallel(n_jobs=-1)]: Done 304 tasks      | elapsed:    3.8s\n",
      "[Parallel(n_jobs=-1)]: Done 346 tasks      | elapsed:    4.1s\n",
      "[Parallel(n_jobs=-1)]: Done 388 tasks      | elapsed:    4.7s\n",
      "[Parallel(n_jobs=-1)]: Done 434 tasks      | elapsed:    5.1s\n",
      "[Parallel(n_jobs=-1)]: Done 480 tasks      | elapsed:    5.6s\n",
      "[Parallel(n_jobs=-1)]: Done 530 tasks      | elapsed:    6.1s\n",
      "[Parallel(n_jobs=-1)]: Done 580 tasks      | elapsed:    6.6s\n",
      "[Parallel(n_jobs=-1)]: Done 634 tasks      | elapsed:    7.2s\n",
      "[Parallel(n_jobs=-1)]: Done 688 tasks      | elapsed:    7.7s\n",
      "[Parallel(n_jobs=-1)]: Done 746 tasks      | elapsed:    8.4s\n",
      "[Parallel(n_jobs=-1)]: Done 804 tasks      | elapsed:    9.1s\n",
      "[Parallel(n_jobs=-1)]: Done 866 tasks      | elapsed:    9.9s\n",
      "[Parallel(n_jobs=-1)]: Done 928 tasks      | elapsed:   10.7s\n",
      "[Parallel(n_jobs=-1)]: Done 994 tasks      | elapsed:   11.5s\n",
      "[Parallel(n_jobs=-1)]: Done 1060 tasks      | elapsed:   12.3s\n",
      "[Parallel(n_jobs=-1)]: Done 1130 tasks      | elapsed:   13.0s\n",
      "[Parallel(n_jobs=-1)]: Done 1200 tasks      | elapsed:   13.7s\n",
      "[Parallel(n_jobs=-1)]: Done 1274 tasks      | elapsed:   14.5s\n",
      "[Parallel(n_jobs=-1)]: Done 1348 tasks      | elapsed:   15.3s\n",
      "[Parallel(n_jobs=-1)]: Done 1426 tasks      | elapsed:   16.1s\n",
      "[Parallel(n_jobs=-1)]: Done 1504 tasks      | elapsed:   16.9s\n",
      "[Parallel(n_jobs=-1)]: Done 1586 tasks      | elapsed:   17.9s\n",
      "[Parallel(n_jobs=-1)]: Done 1668 tasks      | elapsed:   18.8s\n",
      "[Parallel(n_jobs=-1)]: Done 1754 tasks      | elapsed:   19.7s\n",
      "[Parallel(n_jobs=-1)]: Done 1840 tasks      | elapsed:   20.6s\n",
      "[Parallel(n_jobs=-1)]: Done 1930 tasks      | elapsed:   21.5s\n",
      "[Parallel(n_jobs=-1)]: Done 2020 tasks      | elapsed:   22.6s\n",
      "[Parallel(n_jobs=-1)]: Done 2114 tasks      | elapsed:   23.7s\n",
      "[Parallel(n_jobs=-1)]: Done 2208 tasks      | elapsed:   24.7s\n",
      "[Parallel(n_jobs=-1)]: Done 2306 tasks      | elapsed:   25.7s\n",
      "[Parallel(n_jobs=-1)]: Done 2404 tasks      | elapsed:   26.9s\n",
      "[Parallel(n_jobs=-1)]: Done 2506 tasks      | elapsed:   28.0s\n",
      "[Parallel(n_jobs=-1)]: Done 2608 tasks      | elapsed:   29.1s\n",
      "[Parallel(n_jobs=-1)]: Done 2714 tasks      | elapsed:   30.3s\n",
      "[Parallel(n_jobs=-1)]: Done 2820 tasks      | elapsed:   31.5s\n",
      "[Parallel(n_jobs=-1)]: Done 2930 tasks      | elapsed:   32.7s\n",
      "[Parallel(n_jobs=-1)]: Done 3040 tasks      | elapsed:   33.9s\n",
      "[Parallel(n_jobs=-1)]: Done 3154 tasks      | elapsed:   35.3s\n",
      "[Parallel(n_jobs=-1)]: Done 3268 tasks      | elapsed:   36.6s\n",
      "[Parallel(n_jobs=-1)]: Done 3386 tasks      | elapsed:   37.9s\n",
      "[Parallel(n_jobs=-1)]: Done 3440 out of 3471 | elapsed:   38.5s remaining:    0.3s\n",
      "[Parallel(n_jobs=-1)]: Done 3471 out of 3471 | elapsed:   38.7s finished\n",
      "[Parallel(n_jobs=-1)]: Using backend LokyBackend with 16 concurrent workers.\n"
     ]
    },
    {
     "name": "stdout",
     "output_type": "stream",
     "text": [
      "2018-06-30 2343\n"
     ]
    },
    {
     "name": "stderr",
     "output_type": "stream",
     "text": [
      "[Parallel(n_jobs=-1)]: Batch computation too fast (0.1466350555419922s.) Setting batch_size=2.\n",
      "[Parallel(n_jobs=-1)]: Done   9 tasks      | elapsed:    0.2s\n",
      "[Parallel(n_jobs=-1)]: Done  18 tasks      | elapsed:    0.3s\n",
      "[Parallel(n_jobs=-1)]: Done  29 tasks      | elapsed:    0.5s\n",
      "[Parallel(n_jobs=-1)]: Done  48 tasks      | elapsed:    0.8s\n",
      "[Parallel(n_jobs=-1)]: Done  74 tasks      | elapsed:    1.0s\n",
      "[Parallel(n_jobs=-1)]: Done 100 tasks      | elapsed:    1.3s\n",
      "[Parallel(n_jobs=-1)]: Done 130 tasks      | elapsed:    1.7s\n",
      "[Parallel(n_jobs=-1)]: Done 160 tasks      | elapsed:    2.0s\n",
      "[Parallel(n_jobs=-1)]: Done 194 tasks      | elapsed:    2.5s\n",
      "[Parallel(n_jobs=-1)]: Done 228 tasks      | elapsed:    2.8s\n",
      "[Parallel(n_jobs=-1)]: Done 266 tasks      | elapsed:    3.3s\n",
      "[Parallel(n_jobs=-1)]: Done 304 tasks      | elapsed:    3.7s\n",
      "[Parallel(n_jobs=-1)]: Done 346 tasks      | elapsed:    4.1s\n",
      "[Parallel(n_jobs=-1)]: Done 388 tasks      | elapsed:    4.6s\n",
      "[Parallel(n_jobs=-1)]: Done 434 tasks      | elapsed:    5.1s\n",
      "[Parallel(n_jobs=-1)]: Done 480 tasks      | elapsed:    5.6s\n",
      "[Parallel(n_jobs=-1)]: Done 530 tasks      | elapsed:    6.2s\n",
      "[Parallel(n_jobs=-1)]: Done 580 tasks      | elapsed:    6.8s\n",
      "[Parallel(n_jobs=-1)]: Done 634 tasks      | elapsed:    7.4s\n",
      "[Parallel(n_jobs=-1)]: Done 688 tasks      | elapsed:    8.0s\n",
      "[Parallel(n_jobs=-1)]: Done 746 tasks      | elapsed:    8.6s\n",
      "[Parallel(n_jobs=-1)]: Done 804 tasks      | elapsed:    9.3s\n",
      "[Parallel(n_jobs=-1)]: Done 866 tasks      | elapsed:   10.0s\n",
      "[Parallel(n_jobs=-1)]: Done 928 tasks      | elapsed:   10.7s\n",
      "[Parallel(n_jobs=-1)]: Done 994 tasks      | elapsed:   11.4s\n",
      "[Parallel(n_jobs=-1)]: Done 1060 tasks      | elapsed:   12.2s\n",
      "[Parallel(n_jobs=-1)]: Done 1130 tasks      | elapsed:   12.9s\n",
      "[Parallel(n_jobs=-1)]: Done 1200 tasks      | elapsed:   13.7s\n",
      "[Parallel(n_jobs=-1)]: Done 1274 tasks      | elapsed:   14.4s\n",
      "[Parallel(n_jobs=-1)]: Done 1348 tasks      | elapsed:   15.3s\n",
      "[Parallel(n_jobs=-1)]: Done 1426 tasks      | elapsed:   16.1s\n",
      "[Parallel(n_jobs=-1)]: Done 1504 tasks      | elapsed:   17.0s\n",
      "[Parallel(n_jobs=-1)]: Done 1586 tasks      | elapsed:   17.9s\n",
      "[Parallel(n_jobs=-1)]: Done 1668 tasks      | elapsed:   18.8s\n",
      "[Parallel(n_jobs=-1)]: Done 1754 tasks      | elapsed:   19.8s\n",
      "[Parallel(n_jobs=-1)]: Done 1840 tasks      | elapsed:   20.7s\n",
      "[Parallel(n_jobs=-1)]: Done 1930 tasks      | elapsed:   21.8s\n",
      "[Parallel(n_jobs=-1)]: Done 2020 tasks      | elapsed:   22.8s\n",
      "[Parallel(n_jobs=-1)]: Done 2114 tasks      | elapsed:   23.8s\n",
      "[Parallel(n_jobs=-1)]: Done 2208 tasks      | elapsed:   24.9s\n",
      "[Parallel(n_jobs=-1)]: Done 2312 out of 2343 | elapsed:   26.1s remaining:    0.3s\n",
      "[Parallel(n_jobs=-1)]: Done 2343 out of 2343 | elapsed:   26.4s finished\n",
      "[Parallel(n_jobs=-1)]: Using backend LokyBackend with 16 concurrent workers.\n"
     ]
    },
    {
     "name": "stdout",
     "output_type": "stream",
     "text": [
      "2018-09-30 2868\n"
     ]
    },
    {
     "name": "stderr",
     "output_type": "stream",
     "text": [
      "[Parallel(n_jobs=-1)]: Batch computation too fast (0.13256192207336426s.) Setting batch_size=2.\n",
      "[Parallel(n_jobs=-1)]: Done   9 tasks      | elapsed:    0.2s\n",
      "[Parallel(n_jobs=-1)]: Done  18 tasks      | elapsed:    0.3s\n",
      "[Parallel(n_jobs=-1)]: Done  29 tasks      | elapsed:    0.4s\n",
      "[Parallel(n_jobs=-1)]: Done  48 tasks      | elapsed:    0.8s\n",
      "[Parallel(n_jobs=-1)]: Done  74 tasks      | elapsed:    1.0s\n",
      "[Parallel(n_jobs=-1)]: Done 100 tasks      | elapsed:    1.3s\n",
      "[Parallel(n_jobs=-1)]: Done 130 tasks      | elapsed:    1.6s\n",
      "[Parallel(n_jobs=-1)]: Done 160 tasks      | elapsed:    2.0s\n",
      "[Parallel(n_jobs=-1)]: Done 194 tasks      | elapsed:    2.4s\n",
      "[Parallel(n_jobs=-1)]: Done 228 tasks      | elapsed:    2.8s\n",
      "[Parallel(n_jobs=-1)]: Done 266 tasks      | elapsed:    3.2s\n",
      "[Parallel(n_jobs=-1)]: Done 304 tasks      | elapsed:    3.6s\n",
      "[Parallel(n_jobs=-1)]: Done 346 tasks      | elapsed:    4.2s\n",
      "[Parallel(n_jobs=-1)]: Done 388 tasks      | elapsed:    4.6s\n",
      "[Parallel(n_jobs=-1)]: Done 434 tasks      | elapsed:    5.1s\n",
      "[Parallel(n_jobs=-1)]: Done 480 tasks      | elapsed:    5.6s\n",
      "[Parallel(n_jobs=-1)]: Done 530 tasks      | elapsed:    6.3s\n",
      "[Parallel(n_jobs=-1)]: Done 580 tasks      | elapsed:    6.8s\n",
      "[Parallel(n_jobs=-1)]: Done 634 tasks      | elapsed:    7.4s\n",
      "[Parallel(n_jobs=-1)]: Done 688 tasks      | elapsed:    8.0s\n",
      "[Parallel(n_jobs=-1)]: Done 746 tasks      | elapsed:    8.7s\n",
      "[Parallel(n_jobs=-1)]: Done 804 tasks      | elapsed:    9.4s\n",
      "[Parallel(n_jobs=-1)]: Done 866 tasks      | elapsed:   10.1s\n",
      "[Parallel(n_jobs=-1)]: Done 928 tasks      | elapsed:   10.8s\n",
      "[Parallel(n_jobs=-1)]: Done 994 tasks      | elapsed:   11.5s\n",
      "[Parallel(n_jobs=-1)]: Done 1060 tasks      | elapsed:   12.3s\n",
      "[Parallel(n_jobs=-1)]: Done 1130 tasks      | elapsed:   13.2s\n",
      "[Parallel(n_jobs=-1)]: Done 1200 tasks      | elapsed:   14.1s\n",
      "[Parallel(n_jobs=-1)]: Done 1274 tasks      | elapsed:   15.0s\n",
      "[Parallel(n_jobs=-1)]: Done 1348 tasks      | elapsed:   15.8s\n",
      "[Parallel(n_jobs=-1)]: Done 1426 tasks      | elapsed:   16.7s\n",
      "[Parallel(n_jobs=-1)]: Done 1504 tasks      | elapsed:   17.5s\n",
      "[Parallel(n_jobs=-1)]: Done 1586 tasks      | elapsed:   18.4s\n",
      "[Parallel(n_jobs=-1)]: Done 1668 tasks      | elapsed:   19.3s\n",
      "[Parallel(n_jobs=-1)]: Done 1754 tasks      | elapsed:   20.2s\n",
      "[Parallel(n_jobs=-1)]: Done 1840 tasks      | elapsed:   21.2s\n",
      "[Parallel(n_jobs=-1)]: Done 1930 tasks      | elapsed:   22.3s\n",
      "[Parallel(n_jobs=-1)]: Done 2020 tasks      | elapsed:   23.2s\n",
      "[Parallel(n_jobs=-1)]: Done 2114 tasks      | elapsed:   24.3s\n",
      "[Parallel(n_jobs=-1)]: Done 2208 tasks      | elapsed:   25.4s\n",
      "[Parallel(n_jobs=-1)]: Done 2306 tasks      | elapsed:   26.6s\n",
      "[Parallel(n_jobs=-1)]: Done 2404 tasks      | elapsed:   27.6s\n",
      "[Parallel(n_jobs=-1)]: Done 2506 tasks      | elapsed:   28.7s\n",
      "[Parallel(n_jobs=-1)]: Done 2608 tasks      | elapsed:   29.9s\n",
      "[Parallel(n_jobs=-1)]: Done 2714 tasks      | elapsed:   31.1s\n",
      "[Parallel(n_jobs=-1)]: Done 2820 tasks      | elapsed:   32.2s\n",
      "[Parallel(n_jobs=-1)]: Done 2837 out of 2868 | elapsed:   32.4s remaining:    0.4s\n",
      "[Parallel(n_jobs=-1)]: Done 2868 out of 2868 | elapsed:   32.7s finished\n",
      "[Parallel(n_jobs=-1)]: Using backend LokyBackend with 16 concurrent workers.\n"
     ]
    },
    {
     "name": "stdout",
     "output_type": "stream",
     "text": [
      "2018-12-31 2336\n"
     ]
    },
    {
     "name": "stderr",
     "output_type": "stream",
     "text": [
      "[Parallel(n_jobs=-1)]: Batch computation too fast (0.15865206718444824s.) Setting batch_size=2.\n",
      "[Parallel(n_jobs=-1)]: Done   9 tasks      | elapsed:    0.2s\n",
      "[Parallel(n_jobs=-1)]: Done  18 tasks      | elapsed:    0.3s\n",
      "[Parallel(n_jobs=-1)]: Done  29 tasks      | elapsed:    0.4s\n",
      "[Parallel(n_jobs=-1)]: Done  48 tasks      | elapsed:    0.7s\n",
      "[Parallel(n_jobs=-1)]: Done  74 tasks      | elapsed:    0.9s\n",
      "[Parallel(n_jobs=-1)]: Done 100 tasks      | elapsed:    1.2s\n",
      "[Parallel(n_jobs=-1)]: Done 130 tasks      | elapsed:    1.6s\n",
      "[Parallel(n_jobs=-1)]: Done 160 tasks      | elapsed:    1.9s\n",
      "[Parallel(n_jobs=-1)]: Done 194 tasks      | elapsed:    2.3s\n",
      "[Parallel(n_jobs=-1)]: Done 228 tasks      | elapsed:    2.7s\n",
      "[Parallel(n_jobs=-1)]: Done 266 tasks      | elapsed:    3.1s\n",
      "[Parallel(n_jobs=-1)]: Done 304 tasks      | elapsed:    3.5s\n",
      "[Parallel(n_jobs=-1)]: Done 346 tasks      | elapsed:    4.0s\n",
      "[Parallel(n_jobs=-1)]: Done 388 tasks      | elapsed:    4.4s\n",
      "[Parallel(n_jobs=-1)]: Done 434 tasks      | elapsed:    4.8s\n",
      "[Parallel(n_jobs=-1)]: Done 480 tasks      | elapsed:    5.4s\n",
      "[Parallel(n_jobs=-1)]: Done 530 tasks      | elapsed:    6.0s\n",
      "[Parallel(n_jobs=-1)]: Done 580 tasks      | elapsed:    6.5s\n",
      "[Parallel(n_jobs=-1)]: Done 634 tasks      | elapsed:    7.1s\n",
      "[Parallel(n_jobs=-1)]: Done 688 tasks      | elapsed:    7.7s\n",
      "[Parallel(n_jobs=-1)]: Done 746 tasks      | elapsed:    8.4s\n",
      "[Parallel(n_jobs=-1)]: Done 804 tasks      | elapsed:    9.0s\n",
      "[Parallel(n_jobs=-1)]: Done 866 tasks      | elapsed:    9.8s\n",
      "[Parallel(n_jobs=-1)]: Done 928 tasks      | elapsed:   10.5s\n",
      "[Parallel(n_jobs=-1)]: Done 994 tasks      | elapsed:   11.3s\n",
      "[Parallel(n_jobs=-1)]: Done 1060 tasks      | elapsed:   12.0s\n",
      "[Parallel(n_jobs=-1)]: Done 1130 tasks      | elapsed:   12.9s\n",
      "[Parallel(n_jobs=-1)]: Done 1200 tasks      | elapsed:   13.7s\n",
      "[Parallel(n_jobs=-1)]: Done 1274 tasks      | elapsed:   14.6s\n",
      "[Parallel(n_jobs=-1)]: Done 1348 tasks      | elapsed:   15.4s\n",
      "[Parallel(n_jobs=-1)]: Done 1426 tasks      | elapsed:   16.3s\n",
      "[Parallel(n_jobs=-1)]: Done 1504 tasks      | elapsed:   17.3s\n",
      "[Parallel(n_jobs=-1)]: Done 1586 tasks      | elapsed:   18.2s\n",
      "[Parallel(n_jobs=-1)]: Done 1668 tasks      | elapsed:   19.1s\n",
      "[Parallel(n_jobs=-1)]: Done 1754 tasks      | elapsed:   20.1s\n",
      "[Parallel(n_jobs=-1)]: Done 1840 tasks      | elapsed:   21.0s\n",
      "[Parallel(n_jobs=-1)]: Done 1930 tasks      | elapsed:   22.1s\n",
      "[Parallel(n_jobs=-1)]: Done 2020 tasks      | elapsed:   23.1s\n",
      "[Parallel(n_jobs=-1)]: Done 2114 tasks      | elapsed:   24.0s\n",
      "[Parallel(n_jobs=-1)]: Done 2208 tasks      | elapsed:   25.1s\n",
      "[Parallel(n_jobs=-1)]: Done 2336 out of 2336 | elapsed:   26.5s finished\n",
      "[Parallel(n_jobs=-1)]: Using backend LokyBackend with 16 concurrent workers.\n"
     ]
    },
    {
     "name": "stdout",
     "output_type": "stream",
     "text": [
      "2019-03-31 2164\n"
     ]
    },
    {
     "name": "stderr",
     "output_type": "stream",
     "text": [
      "[Parallel(n_jobs=-1)]: Batch computation too fast (0.17407989501953125s.) Setting batch_size=2.\n",
      "[Parallel(n_jobs=-1)]: Done   9 tasks      | elapsed:    0.2s\n",
      "[Parallel(n_jobs=-1)]: Done  18 tasks      | elapsed:    0.3s\n",
      "[Parallel(n_jobs=-1)]: Done  29 tasks      | elapsed:    0.4s\n",
      "[Parallel(n_jobs=-1)]: Done  48 tasks      | elapsed:    0.7s\n",
      "[Parallel(n_jobs=-1)]: Done  74 tasks      | elapsed:    1.0s\n",
      "[Parallel(n_jobs=-1)]: Done 100 tasks      | elapsed:    1.3s\n",
      "[Parallel(n_jobs=-1)]: Done 130 tasks      | elapsed:    1.6s\n",
      "[Parallel(n_jobs=-1)]: Done 160 tasks      | elapsed:    2.0s\n",
      "[Parallel(n_jobs=-1)]: Done 194 tasks      | elapsed:    2.4s\n",
      "[Parallel(n_jobs=-1)]: Done 228 tasks      | elapsed:    2.8s\n",
      "[Parallel(n_jobs=-1)]: Done 266 tasks      | elapsed:    3.2s\n",
      "[Parallel(n_jobs=-1)]: Done 304 tasks      | elapsed:    3.7s\n",
      "[Parallel(n_jobs=-1)]: Done 346 tasks      | elapsed:    4.1s\n",
      "[Parallel(n_jobs=-1)]: Done 388 tasks      | elapsed:    4.6s\n",
      "[Parallel(n_jobs=-1)]: Done 434 tasks      | elapsed:    5.1s\n",
      "[Parallel(n_jobs=-1)]: Done 480 tasks      | elapsed:    5.6s\n",
      "[Parallel(n_jobs=-1)]: Done 530 tasks      | elapsed:    6.2s\n",
      "[Parallel(n_jobs=-1)]: Done 580 tasks      | elapsed:    6.7s\n",
      "[Parallel(n_jobs=-1)]: Done 634 tasks      | elapsed:    7.3s\n",
      "[Parallel(n_jobs=-1)]: Done 688 tasks      | elapsed:    7.9s\n",
      "[Parallel(n_jobs=-1)]: Done 746 tasks      | elapsed:    8.6s\n",
      "[Parallel(n_jobs=-1)]: Done 804 tasks      | elapsed:    9.2s\n",
      "[Parallel(n_jobs=-1)]: Done 866 tasks      | elapsed:    9.9s\n",
      "[Parallel(n_jobs=-1)]: Done 928 tasks      | elapsed:   10.7s\n",
      "[Parallel(n_jobs=-1)]: Done 994 tasks      | elapsed:   11.5s\n",
      "[Parallel(n_jobs=-1)]: Done 1060 tasks      | elapsed:   12.2s\n",
      "[Parallel(n_jobs=-1)]: Done 1130 tasks      | elapsed:   13.0s\n",
      "[Parallel(n_jobs=-1)]: Done 1200 tasks      | elapsed:   13.7s\n",
      "[Parallel(n_jobs=-1)]: Done 1274 tasks      | elapsed:   14.6s\n",
      "[Parallel(n_jobs=-1)]: Done 1348 tasks      | elapsed:   15.4s\n",
      "[Parallel(n_jobs=-1)]: Done 1426 tasks      | elapsed:   16.3s\n",
      "[Parallel(n_jobs=-1)]: Done 1504 tasks      | elapsed:   17.2s\n",
      "[Parallel(n_jobs=-1)]: Done 1586 tasks      | elapsed:   18.1s\n",
      "[Parallel(n_jobs=-1)]: Done 1668 tasks      | elapsed:   19.0s\n",
      "[Parallel(n_jobs=-1)]: Done 1754 tasks      | elapsed:   19.9s\n",
      "[Parallel(n_jobs=-1)]: Done 1840 tasks      | elapsed:   20.9s\n",
      "[Parallel(n_jobs=-1)]: Done 1930 tasks      | elapsed:   21.9s\n",
      "[Parallel(n_jobs=-1)]: Done 2020 tasks      | elapsed:   22.8s\n",
      "[Parallel(n_jobs=-1)]: Done 2114 tasks      | elapsed:   23.9s\n",
      "[Parallel(n_jobs=-1)]: Done 2133 out of 2164 | elapsed:   24.0s remaining:    0.3s\n",
      "[Parallel(n_jobs=-1)]: Done 2164 out of 2164 | elapsed:   24.2s finished\n",
      "[Parallel(n_jobs=-1)]: Using backend LokyBackend with 16 concurrent workers.\n"
     ]
    },
    {
     "name": "stdout",
     "output_type": "stream",
     "text": [
      "2019-06-30 2203\n"
     ]
    },
    {
     "name": "stderr",
     "output_type": "stream",
     "text": [
      "[Parallel(n_jobs=-1)]: Batch computation too fast (0.16710495948791504s.) Setting batch_size=2.\n",
      "[Parallel(n_jobs=-1)]: Done   9 tasks      | elapsed:    0.2s\n",
      "[Parallel(n_jobs=-1)]: Done  18 tasks      | elapsed:    0.3s\n",
      "[Parallel(n_jobs=-1)]: Done  29 tasks      | elapsed:    0.4s\n",
      "[Parallel(n_jobs=-1)]: Done  48 tasks      | elapsed:    0.8s\n",
      "[Parallel(n_jobs=-1)]: Done  74 tasks      | elapsed:    0.9s\n",
      "[Parallel(n_jobs=-1)]: Done 100 tasks      | elapsed:    1.2s\n",
      "[Parallel(n_jobs=-1)]: Done 130 tasks      | elapsed:    1.6s\n",
      "[Parallel(n_jobs=-1)]: Done 160 tasks      | elapsed:    1.9s\n",
      "[Parallel(n_jobs=-1)]: Done 194 tasks      | elapsed:    2.4s\n",
      "[Parallel(n_jobs=-1)]: Done 228 tasks      | elapsed:    2.7s\n",
      "[Parallel(n_jobs=-1)]: Done 266 tasks      | elapsed:    3.1s\n",
      "[Parallel(n_jobs=-1)]: Done 304 tasks      | elapsed:    3.6s\n",
      "[Parallel(n_jobs=-1)]: Done 346 tasks      | elapsed:    4.0s\n",
      "[Parallel(n_jobs=-1)]: Done 388 tasks      | elapsed:    4.5s\n",
      "[Parallel(n_jobs=-1)]: Done 434 tasks      | elapsed:    5.0s\n",
      "[Parallel(n_jobs=-1)]: Done 480 tasks      | elapsed:    5.5s\n",
      "[Parallel(n_jobs=-1)]: Done 530 tasks      | elapsed:    6.0s\n",
      "[Parallel(n_jobs=-1)]: Done 580 tasks      | elapsed:    6.6s\n",
      "[Parallel(n_jobs=-1)]: Done 634 tasks      | elapsed:    7.1s\n",
      "[Parallel(n_jobs=-1)]: Done 688 tasks      | elapsed:    7.7s\n",
      "[Parallel(n_jobs=-1)]: Done 746 tasks      | elapsed:    8.3s\n",
      "[Parallel(n_jobs=-1)]: Done 804 tasks      | elapsed:    9.0s\n",
      "[Parallel(n_jobs=-1)]: Done 866 tasks      | elapsed:    9.7s\n",
      "[Parallel(n_jobs=-1)]: Done 928 tasks      | elapsed:   10.3s\n",
      "[Parallel(n_jobs=-1)]: Done 994 tasks      | elapsed:   11.0s\n",
      "[Parallel(n_jobs=-1)]: Done 1060 tasks      | elapsed:   11.8s\n",
      "[Parallel(n_jobs=-1)]: Done 1130 tasks      | elapsed:   12.5s\n",
      "[Parallel(n_jobs=-1)]: Done 1200 tasks      | elapsed:   13.3s\n",
      "[Parallel(n_jobs=-1)]: Done 1274 tasks      | elapsed:   14.1s\n",
      "[Parallel(n_jobs=-1)]: Done 1348 tasks      | elapsed:   14.9s\n",
      "[Parallel(n_jobs=-1)]: Done 1426 tasks      | elapsed:   15.7s\n",
      "[Parallel(n_jobs=-1)]: Done 1504 tasks      | elapsed:   16.6s\n",
      "[Parallel(n_jobs=-1)]: Done 1586 tasks      | elapsed:   17.4s\n",
      "[Parallel(n_jobs=-1)]: Done 1668 tasks      | elapsed:   18.3s\n",
      "[Parallel(n_jobs=-1)]: Done 1754 tasks      | elapsed:   19.2s\n",
      "[Parallel(n_jobs=-1)]: Done 1840 tasks      | elapsed:   20.1s\n",
      "[Parallel(n_jobs=-1)]: Done 1930 tasks      | elapsed:   21.1s\n",
      "[Parallel(n_jobs=-1)]: Done 2020 tasks      | elapsed:   22.0s\n",
      "[Parallel(n_jobs=-1)]: Done 2114 tasks      | elapsed:   23.0s\n",
      "[Parallel(n_jobs=-1)]: Done 2203 out of 2203 | elapsed:   23.9s finished\n"
     ]
    }
   ],
   "source": [
    "from joblib import Parallel, delayed\n",
    "\n",
    "def get_spread_parallel(candidates, prices):\n",
    "    pairs = []\n",
    "    half_lives = []\n",
    "\n",
    "    periods = pd.DatetimeIndex(sorted(candidates.test_end.unique()))\n",
    "    start = time()\n",
    "    for p, test_end in enumerate(periods, 1):\n",
    "        start_iteration = time()\n",
    "\n",
    "        period_candidates = candidates.loc[candidates.test_end == test_end, ['y', 'x']]\n",
    "        trading_start = test_end + pd.DateOffset(days=1)\n",
    "        t = trading_start - pd.DateOffset(years=2)\n",
    "        T = trading_start + pd.DateOffset(months=6) - pd.DateOffset(days=1)\n",
    "        max_window = len(prices.loc[t: test_end].index)\n",
    "        print(test_end.date(), len(period_candidates))\n",
    "\n",
    "        def process_pair(i, y, x):\n",
    "            pair = prices.loc[t: T, [y, x]]\n",
    "            pair['hedge_ratio'] = KFHedgeRatio(y=KFSmoother(prices.loc[t: T, y]),\n",
    "                                               x=KFSmoother(prices.loc[t: T, x]))[:, 0]\n",
    "            pair['spread'] = pair[y].add(pair[x].mul(pair.hedge_ratio))\n",
    "            half_life = estimate_half_life(pair.spread.loc[t: test_end])                \n",
    "\n",
    "            spread = pair.spread.rolling(window=min(2 * half_life, max_window))\n",
    "            pair['z_score'] = pair.spread.sub(spread.mean()).div(spread.std())\n",
    "            pair_out = pair.loc[trading_start: T].assign(s1=y, s2=x, period=p, pair=i).drop([x, y], axis=1)\n",
    "\n",
    "            hl_out = [test_end, y, x, half_life]\n",
    "            return pair_out, hl_out\n",
    "\n",
    "        pair_results = Parallel(n_jobs=-1, verbose=10)(\n",
    "            delayed(process_pair)(i, y, x)\n",
    "            for i, (y, x) in enumerate(zip(period_candidates.y, period_candidates.x), 1)\n",
    "        )\n",
    "\n",
    "        pairs.extend([pr[0] for pr in pair_results])\n",
    "        half_lives.extend([pr[1] for pr in pair_results])\n",
    "\n",
    "    return pairs, half_lives\n",
    "\n",
    "pairs, half_lives = get_spread_parallel(candidates, smoothed_prices)"
   ]
  },
  {
   "cell_type": "markdown",
   "metadata": {},
   "source": [
    "### Collect Results"
   ]
  },
  {
   "cell_type": "markdown",
   "metadata": {},
   "source": [
    "#### Half Lives"
   ]
  },
  {
   "cell_type": "code",
   "execution_count": 47,
   "metadata": {
    "ExecuteTime": {
     "end_time": "2020-06-19T16:18:38.449198Z",
     "start_time": "2020-06-19T16:18:38.420580Z"
    }
   },
   "outputs": [
    {
     "name": "stdout",
     "output_type": "stream",
     "text": [
      "<class 'pandas.core.frame.DataFrame'>\n",
      "RangeIndex: 29399 entries, 0 to 29398\n",
      "Data columns (total 4 columns):\n",
      " #   Column     Non-Null Count  Dtype         \n",
      "---  ------     --------------  -----         \n",
      " 0   test_end   29399 non-null  datetime64[ns]\n",
      " 1   s1         29399 non-null  object        \n",
      " 2   s2         29399 non-null  object        \n",
      " 3   half_life  29399 non-null  int64         \n",
      "dtypes: datetime64[ns](1), int64(1), object(2)\n",
      "memory usage: 918.8+ KB\n"
     ]
    }
   ],
   "source": [
    "hl = pd.DataFrame(half_lives, columns=['test_end', 's1', 's2', 'half_life'])\n",
    "hl.info()"
   ]
  },
  {
   "cell_type": "code",
   "execution_count": 48,
   "metadata": {
    "ExecuteTime": {
     "end_time": "2020-06-19T16:18:38.460654Z",
     "start_time": "2020-06-19T16:18:38.450071Z"
    }
   },
   "outputs": [
    {
     "data": {
      "text/plain": [
       "count    29399.000000\n",
       "mean        24.968570\n",
       "std         11.451782\n",
       "min          5.000000\n",
       "25%         20.000000\n",
       "50%         24.000000\n",
       "75%         28.000000\n",
       "max        494.000000\n",
       "Name: half_life, dtype: float64"
      ]
     },
     "execution_count": 48,
     "metadata": {},
     "output_type": "execute_result"
    }
   ],
   "source": [
    "hl.half_life.describe()"
   ]
  },
  {
   "cell_type": "code",
   "execution_count": 49,
   "metadata": {
    "ExecuteTime": {
     "end_time": "2020-06-19T16:18:38.488001Z",
     "start_time": "2020-06-19T16:18:38.461724Z"
    }
   },
   "outputs": [],
   "source": [
    "hl.to_hdf('backtest.h5', 'half_lives')"
   ]
  },
  {
   "cell_type": "markdown",
   "metadata": {},
   "source": [
    "#### Pair Data"
   ]
  },
  {
   "cell_type": "code",
   "execution_count": 50,
   "metadata": {
    "ExecuteTime": {
     "end_time": "2020-06-19T16:18:42.640734Z",
     "start_time": "2020-06-19T16:18:38.489283Z"
    }
   },
   "outputs": [
    {
     "name": "stdout",
     "output_type": "stream",
     "text": [
      "<class 'pandas.core.frame.DataFrame'>\n",
      "DatetimeIndex: 3693792 entries, 2017-01-03 to 2019-12-31\n",
      "Data columns (total 7 columns):\n",
      " #   Column       Non-Null Count    Dtype  \n",
      "---  ------       --------------    -----  \n",
      " 0   hedge_ratio  3693792 non-null  float64\n",
      " 1   spread       3693792 non-null  float64\n",
      " 2   z_score      3693792 non-null  float64\n",
      " 3   s1           3693792 non-null  object \n",
      " 4   s2           3693792 non-null  object \n",
      " 5   period       3693792 non-null  int64  \n",
      " 6   pair         3693792 non-null  int64  \n",
      "dtypes: float64(3), int64(2), object(2)\n",
      "memory usage: 225.5+ MB\n"
     ]
    }
   ],
   "source": [
    "pair_data = pd.concat(pairs)\n",
    "pair_data.info(show_counts=True)"
   ]
  },
  {
   "cell_type": "code",
   "execution_count": 51,
   "metadata": {
    "ExecuteTime": {
     "end_time": "2020-06-19T16:18:43.195991Z",
     "start_time": "2020-06-19T16:18:42.641767Z"
    }
   },
   "outputs": [],
   "source": [
    "pair_data.to_hdf('backtest.h5', 'pair_data')"
   ]
  },
  {
   "cell_type": "code",
   "execution_count": 52,
   "metadata": {
    "ExecuteTime": {
     "end_time": "2020-06-19T16:18:43.656592Z",
     "start_time": "2020-06-19T16:18:43.196963Z"
    }
   },
   "outputs": [
    {
     "data": {
      "text/html": [
       "<div>\n",
       "<style scoped>\n",
       "    .dataframe tbody tr th:only-of-type {\n",
       "        vertical-align: middle;\n",
       "    }\n",
       "\n",
       "    .dataframe tbody tr th {\n",
       "        vertical-align: top;\n",
       "    }\n",
       "\n",
       "    .dataframe thead th {\n",
       "        text-align: right;\n",
       "    }\n",
       "</style>\n",
       "<table border=\"1\" class=\"dataframe\">\n",
       "  <thead>\n",
       "    <tr style=\"text-align: right;\">\n",
       "      <th>ticker</th>\n",
       "      <th>hedge_ratio</th>\n",
       "      <th>spread</th>\n",
       "      <th>z_score</th>\n",
       "      <th>s1</th>\n",
       "      <th>s2</th>\n",
       "      <th>period</th>\n",
       "      <th>pair</th>\n",
       "    </tr>\n",
       "    <tr>\n",
       "      <th>date</th>\n",
       "      <th></th>\n",
       "      <th></th>\n",
       "      <th></th>\n",
       "      <th></th>\n",
       "      <th></th>\n",
       "      <th></th>\n",
       "      <th></th>\n",
       "    </tr>\n",
       "  </thead>\n",
       "  <tbody>\n",
       "    <tr>\n",
       "      <th>2017-01-03</th>\n",
       "      <td>-3.821428</td>\n",
       "      <td>3.229502</td>\n",
       "      <td>1.499594</td>\n",
       "      <td>SPY.US</td>\n",
       "      <td>C.US</td>\n",
       "      <td>1</td>\n",
       "      <td>1</td>\n",
       "    </tr>\n",
       "    <tr>\n",
       "      <th>2017-01-04</th>\n",
       "      <td>-3.817459</td>\n",
       "      <td>2.894236</td>\n",
       "      <td>1.243912</td>\n",
       "      <td>SPY.US</td>\n",
       "      <td>C.US</td>\n",
       "      <td>1</td>\n",
       "      <td>1</td>\n",
       "    </tr>\n",
       "    <tr>\n",
       "      <th>2017-01-05</th>\n",
       "      <td>-3.814355</td>\n",
       "      <td>3.281885</td>\n",
       "      <td>1.471685</td>\n",
       "      <td>SPY.US</td>\n",
       "      <td>C.US</td>\n",
       "      <td>1</td>\n",
       "      <td>1</td>\n",
       "    </tr>\n",
       "    <tr>\n",
       "      <th>2017-01-06</th>\n",
       "      <td>-3.812385</td>\n",
       "      <td>3.567788</td>\n",
       "      <td>1.605029</td>\n",
       "      <td>SPY.US</td>\n",
       "      <td>C.US</td>\n",
       "      <td>1</td>\n",
       "      <td>1</td>\n",
       "    </tr>\n",
       "    <tr>\n",
       "      <th>2017-01-09</th>\n",
       "      <td>-3.811602</td>\n",
       "      <td>3.843635</td>\n",
       "      <td>1.717055</td>\n",
       "      <td>SPY.US</td>\n",
       "      <td>C.US</td>\n",
       "      <td>1</td>\n",
       "      <td>1</td>\n",
       "    </tr>\n",
       "    <tr>\n",
       "      <th>...</th>\n",
       "      <td>...</td>\n",
       "      <td>...</td>\n",
       "      <td>...</td>\n",
       "      <td>...</td>\n",
       "      <td>...</td>\n",
       "      <td>...</td>\n",
       "      <td>...</td>\n",
       "    </tr>\n",
       "    <tr>\n",
       "      <th>2019-12-24</th>\n",
       "      <td>-0.278223</td>\n",
       "      <td>-0.047597</td>\n",
       "      <td>-1.428829</td>\n",
       "      <td>VNM.US</td>\n",
       "      <td>FSLR.US</td>\n",
       "      <td>11</td>\n",
       "      <td>2203</td>\n",
       "    </tr>\n",
       "    <tr>\n",
       "      <th>2019-12-26</th>\n",
       "      <td>-0.276491</td>\n",
       "      <td>-0.061751</td>\n",
       "      <td>-1.400366</td>\n",
       "      <td>VNM.US</td>\n",
       "      <td>FSLR.US</td>\n",
       "      <td>11</td>\n",
       "      <td>2203</td>\n",
       "    </tr>\n",
       "    <tr>\n",
       "      <th>2019-12-27</th>\n",
       "      <td>-0.275082</td>\n",
       "      <td>0.053004</td>\n",
       "      <td>-0.988627</td>\n",
       "      <td>VNM.US</td>\n",
       "      <td>FSLR.US</td>\n",
       "      <td>11</td>\n",
       "      <td>2203</td>\n",
       "    </tr>\n",
       "    <tr>\n",
       "      <th>2019-12-30</th>\n",
       "      <td>-0.274072</td>\n",
       "      <td>0.157939</td>\n",
       "      <td>-0.621321</td>\n",
       "      <td>VNM.US</td>\n",
       "      <td>FSLR.US</td>\n",
       "      <td>11</td>\n",
       "      <td>2203</td>\n",
       "    </tr>\n",
       "    <tr>\n",
       "      <th>2019-12-31</th>\n",
       "      <td>-0.273477</td>\n",
       "      <td>0.262069</td>\n",
       "      <td>-0.254575</td>\n",
       "      <td>VNM.US</td>\n",
       "      <td>FSLR.US</td>\n",
       "      <td>11</td>\n",
       "      <td>2203</td>\n",
       "    </tr>\n",
       "  </tbody>\n",
       "</table>\n",
       "<p>3693792 rows × 7 columns</p>\n",
       "</div>"
      ],
      "text/plain": [
       "ticker      hedge_ratio    spread   z_score      s1       s2  period  pair\n",
       "date                                                                      \n",
       "2017-01-03    -3.821428  3.229502  1.499594  SPY.US     C.US       1     1\n",
       "2017-01-04    -3.817459  2.894236  1.243912  SPY.US     C.US       1     1\n",
       "2017-01-05    -3.814355  3.281885  1.471685  SPY.US     C.US       1     1\n",
       "2017-01-06    -3.812385  3.567788  1.605029  SPY.US     C.US       1     1\n",
       "2017-01-09    -3.811602  3.843635  1.717055  SPY.US     C.US       1     1\n",
       "...                 ...       ...       ...     ...      ...     ...   ...\n",
       "2019-12-24    -0.278223 -0.047597 -1.428829  VNM.US  FSLR.US      11  2203\n",
       "2019-12-26    -0.276491 -0.061751 -1.400366  VNM.US  FSLR.US      11  2203\n",
       "2019-12-27    -0.275082  0.053004 -0.988627  VNM.US  FSLR.US      11  2203\n",
       "2019-12-30    -0.274072  0.157939 -0.621321  VNM.US  FSLR.US      11  2203\n",
       "2019-12-31    -0.273477  0.262069 -0.254575  VNM.US  FSLR.US      11  2203\n",
       "\n",
       "[3693792 rows x 7 columns]"
      ]
     },
     "execution_count": 52,
     "metadata": {},
     "output_type": "execute_result"
    }
   ],
   "source": [
    "pair_data = pd.read_hdf('backtest.h5', 'pair_data')\n",
    "pair_data"
   ]
  },
  {
   "cell_type": "markdown",
   "metadata": {},
   "source": [
    "### Identify Long & Short Entry and Exit Dates"
   ]
  },
  {
   "cell_type": "code",
   "execution_count": 53,
   "metadata": {},
   "outputs": [],
   "source": [
    "# def get_trades(data):\n",
    "#     pair_trades = []\n",
    "#     for i, ((period, s1, s2), pair) in enumerate(data.groupby(['period', 's1', 's2']), 1):\n",
    "#         if i % 100 == 0:\n",
    "#             print(i)\n",
    "\n",
    "#         first3m = pair.first('3M').index\n",
    "#         last3m = pair.last('3M').index\n",
    "\n",
    "#         entry = pair.z_score.abs() > 2\n",
    "#         entry = ((entry.shift() != entry)\n",
    "#                  .mul(np.sign(pair.z_score))\n",
    "#                  .fillna(0)\n",
    "#                  .astype(int)\n",
    "#                  .sub(2))\n",
    "\n",
    "#         exit = (np.sign(pair.z_score.shift().fillna(method='bfill'))\n",
    "#                 != np.sign(pair.z_score)).astype(int) - 1\n",
    "\n",
    "#         trades = (entry[entry != -2].append(exit[exit == 0])\n",
    "#                   .to_frame('side')\n",
    "#                   .sort_values(['date', 'side'])\n",
    "#                   .squeeze())\n",
    "#         if not isinstance(trades, pd.Series):\n",
    "#             continue\n",
    "#         try:\n",
    "#             trades.loc[trades < 0] += 2\n",
    "#         except:\n",
    "#             print(type(trades))\n",
    "#             print(trades)\n",
    "#             print(pair.z_score.describe())\n",
    "#             break\n",
    "\n",
    "#         trades = trades[trades.abs().shift() != trades.abs()]\n",
    "#         window = trades.loc[first3m.min():first3m.max()]\n",
    "#         extra = trades.loc[last3m.min():last3m.max()]\n",
    "#         n = len(trades)\n",
    "\n",
    "#         if window.iloc[0] == 0:\n",
    "#             if n > 1:\n",
    "#                 print('shift')\n",
    "#                 window = window.iloc[1:]\n",
    "#         if window.iloc[-1] != 0:\n",
    "#             extra_exits = extra[extra == 0].head(1)\n",
    "#             if extra_exits.empty:\n",
    "#                 continue\n",
    "#             else:\n",
    "#                 window = window.append(extra_exits)\n",
    "\n",
    "#         trades = pair[['s1', 's2', 'hedge_ratio', 'period', 'pair']].join(window.to_frame('side'), how='right')\n",
    "#         trades.loc[trades.side == 0, 'hedge_ratio'] = np.nan\n",
    "#         trades.hedge_ratio = trades.hedge_ratio.ffill()\n",
    "#         pair_trades.append(trades)\n",
    "#     return pair_trades"
   ]
  },
  {
   "cell_type": "code",
   "execution_count": 54,
   "metadata": {
    "ExecuteTime": {
     "end_time": "2020-06-19T16:18:43.665632Z",
     "start_time": "2020-06-19T16:18:43.657454Z"
    }
   },
   "outputs": [],
   "source": [
    "def get_trades(data):\n",
    "    pair_trades = []\n",
    "    for i, ((period, s1, s2), pair) in enumerate(data.groupby(['period', 's1', 's2']), 1):\n",
    "        if i % 100 == 0:\n",
    "            print(i)\n",
    "\n",
    "        first3m = pair.first('3M').index\n",
    "        last3m = pair.last('3M').index\n",
    "\n",
    "        entry = pair.z_score.abs() > 2\n",
    "        entry = ((entry.shift() != entry)\n",
    "                 .mul(np.sign(pair.z_score))\n",
    "                 .fillna(0)\n",
    "                 .astype(int)\n",
    "                 .sub(2))\n",
    "\n",
    "        exit = (np.sign(pair.z_score.shift().fillna(method='bfill'))\n",
    "                != np.sign(pair.z_score)).astype(int) - 1\n",
    "\n",
    "        trades = (pd.concat([entry[entry != -2], exit[exit == 0]])\n",
    "                  .to_frame('side')\n",
    "                  .reset_index()  # Reset index to make 'date' a column for sorting\n",
    "                  .sort_values(['date', 'side'])\n",
    "                  .set_index('date')  # Set 'date' back as index\n",
    "                  .squeeze())\n",
    "\n",
    "        if not isinstance(trades, pd.Series):\n",
    "            continue\n",
    "        try:\n",
    "            trades.loc[trades < 0] += 2\n",
    "        except:\n",
    "            print(type(trades))\n",
    "            print(trades)\n",
    "            print(pair.z_score.describe())\n",
    "            break\n",
    "\n",
    "        trades = trades[trades.abs().shift() != trades.abs()]\n",
    "        window = trades.loc[first3m.min():first3m.max()]\n",
    "        extra = trades.loc[last3m.min():last3m.max()]\n",
    "        n = len(trades)\n",
    "\n",
    "        if window.iloc[0] == 0:\n",
    "            if n > 1:\n",
    "                print('shift')\n",
    "                window = window.iloc[1:]\n",
    "        if window.iloc[-1] != 0:\n",
    "            extra_exits = extra[extra == 0].head(1)\n",
    "            if extra_exits.empty:\n",
    "                continue\n",
    "            else:\n",
    "                window = pd.concat([window, extra_exits])\n",
    "\n",
    "        trades = pair[['s1', 's2', 'hedge_ratio', 'period', 'pair']].join(window.to_frame('side'), how='right')\n",
    "        trades.loc[trades.side == 0, 'hedge_ratio'] = np.nan\n",
    "        trades.hedge_ratio = trades.hedge_ratio.ffill()\n",
    "        pair_trades.append(trades)\n",
    "    return pair_trades\n"
   ]
  },
  {
   "cell_type": "code",
   "execution_count": 55,
   "metadata": {
    "ExecuteTime": {
     "end_time": "2020-06-19T16:23:57.066089Z",
     "start_time": "2020-06-19T16:18:43.666577Z"
    }
   },
   "outputs": [
    {
     "name": "stdout",
     "output_type": "stream",
     "text": [
      "100\n",
      "200\n",
      "300\n",
      "400\n",
      "500\n",
      "600\n",
      "700\n",
      "800\n",
      "900\n",
      "1000\n",
      "1100\n",
      "1200\n",
      "1300\n",
      "1400\n",
      "1500\n",
      "1600\n",
      "1700\n",
      "1800\n",
      "1900\n",
      "2000\n",
      "2100\n",
      "2200\n",
      "2300\n",
      "2400\n",
      "2500\n",
      "2600\n",
      "2700\n",
      "2800\n",
      "2900\n",
      "3000\n",
      "3100\n",
      "3200\n",
      "3300\n",
      "3400\n",
      "3500\n",
      "3600\n",
      "3700\n",
      "3800\n",
      "3900\n",
      "4000\n",
      "4100\n",
      "4200\n",
      "4300\n",
      "4400\n",
      "4500\n",
      "4600\n",
      "4700\n",
      "4800\n",
      "4900\n",
      "5000\n",
      "5100\n",
      "5200\n",
      "5300\n",
      "5400\n",
      "5500\n",
      "5600\n",
      "5700\n",
      "5800\n",
      "5900\n",
      "6000\n",
      "6100\n",
      "6200\n",
      "6300\n",
      "6400\n",
      "6500\n",
      "6600\n",
      "6700\n",
      "6800\n",
      "6900\n",
      "7000\n",
      "7100\n",
      "7200\n",
      "7300\n",
      "7400\n",
      "7500\n",
      "7600\n",
      "7700\n",
      "7800\n",
      "7900\n",
      "8000\n",
      "8100\n",
      "8200\n",
      "8300\n",
      "8400\n",
      "8500\n",
      "8600\n",
      "8700\n",
      "8800\n",
      "8900\n",
      "9000\n",
      "9100\n",
      "9200\n",
      "9300\n",
      "9400\n",
      "9500\n",
      "9600\n",
      "9700\n",
      "9800\n",
      "9900\n",
      "10000\n",
      "10100\n",
      "10200\n",
      "10300\n",
      "10400\n",
      "10500\n",
      "10600\n",
      "10700\n",
      "10800\n",
      "10900\n",
      "11000\n",
      "11100\n",
      "11200\n",
      "11300\n",
      "11400\n",
      "11500\n",
      "11600\n",
      "11700\n",
      "11800\n",
      "11900\n",
      "12000\n",
      "12100\n",
      "12200\n",
      "12300\n",
      "12400\n",
      "12500\n",
      "12600\n",
      "12700\n",
      "12800\n",
      "12900\n",
      "13000\n",
      "13100\n",
      "13200\n",
      "13300\n",
      "13400\n",
      "13500\n",
      "13600\n",
      "13700\n",
      "13800\n",
      "13900\n",
      "14000\n",
      "14100\n",
      "14200\n",
      "14300\n",
      "14400\n",
      "14500\n",
      "14600\n",
      "14700\n",
      "14800\n",
      "14900\n",
      "15000\n",
      "15100\n",
      "15200\n",
      "15300\n",
      "15400\n",
      "15500\n",
      "15600\n",
      "15700\n",
      "15800\n",
      "15900\n",
      "16000\n",
      "16100\n",
      "16200\n",
      "16300\n",
      "16400\n",
      "16500\n",
      "16600\n",
      "16700\n",
      "16800\n",
      "16900\n",
      "17000\n",
      "17100\n",
      "17200\n",
      "17300\n",
      "17400\n",
      "17500\n",
      "17600\n",
      "17700\n",
      "17800\n",
      "17900\n",
      "18000\n",
      "18100\n",
      "18200\n",
      "18300\n",
      "18400\n",
      "18500\n",
      "18600\n",
      "18700\n",
      "18800\n",
      "18900\n",
      "19000\n",
      "19100\n",
      "19200\n",
      "19300\n",
      "19400\n",
      "19500\n",
      "19600\n",
      "19700\n",
      "19800\n",
      "19900\n",
      "20000\n",
      "20100\n",
      "20200\n",
      "20300\n",
      "20400\n",
      "20500\n",
      "20600\n",
      "20700\n",
      "20800\n",
      "20900\n",
      "21000\n",
      "21100\n",
      "21200\n",
      "21300\n",
      "21400\n",
      "21500\n",
      "21600\n",
      "21700\n",
      "21800\n",
      "21900\n",
      "22000\n",
      "22100\n",
      "22200\n",
      "22300\n",
      "22400\n",
      "22500\n",
      "22600\n",
      "22700\n",
      "22800\n",
      "22900\n",
      "23000\n",
      "23100\n",
      "23200\n",
      "23300\n",
      "23400\n",
      "23500\n",
      "23600\n",
      "23700\n",
      "23800\n",
      "23900\n",
      "24000\n",
      "24100\n",
      "24200\n",
      "24300\n",
      "24400\n",
      "24500\n",
      "24600\n",
      "24700\n",
      "24800\n",
      "24900\n",
      "25000\n",
      "25100\n",
      "25200\n",
      "25300\n",
      "25400\n",
      "25500\n",
      "25600\n",
      "25700\n",
      "25800\n",
      "25900\n",
      "26000\n",
      "26100\n",
      "26200\n",
      "26300\n",
      "26400\n",
      "26500\n",
      "26600\n",
      "26700\n",
      "26800\n",
      "26900\n",
      "27000\n",
      "27100\n",
      "27200\n",
      "27300\n",
      "27400\n",
      "27500\n",
      "27600\n",
      "27700\n",
      "27800\n",
      "27900\n",
      "28000\n",
      "28100\n",
      "28200\n",
      "28300\n",
      "28400\n",
      "28500\n",
      "28600\n",
      "28700\n",
      "28800\n",
      "28900\n",
      "29000\n",
      "29100\n",
      "29200\n",
      "29300\n"
     ]
    }
   ],
   "source": [
    "pair_trades = get_trades(pair_data)"
   ]
  },
  {
   "cell_type": "code",
   "execution_count": 56,
   "metadata": {
    "ExecuteTime": {
     "end_time": "2020-06-19T16:24:00.948377Z",
     "start_time": "2020-06-19T16:23:57.066963Z"
    },
    "scrolled": true
   },
   "outputs": [
    {
     "name": "stdout",
     "output_type": "stream",
     "text": [
      "<class 'pandas.core.frame.DataFrame'>\n",
      "DatetimeIndex: 119086 entries, 2017-01-03 to 2019-09-17\n",
      "Data columns (total 6 columns):\n",
      " #   Column       Non-Null Count   Dtype  \n",
      "---  ------       --------------   -----  \n",
      " 0   s1           119086 non-null  object \n",
      " 1   s2           119086 non-null  object \n",
      " 2   hedge_ratio  119086 non-null  float64\n",
      " 3   period       119086 non-null  int64  \n",
      " 4   pair         119086 non-null  int64  \n",
      " 5   side         119086 non-null  int64  \n",
      "dtypes: float64(1), int64(3), object(2)\n",
      "memory usage: 6.4+ MB\n"
     ]
    }
   ],
   "source": [
    "pair_trade_data = pd.concat(pair_trades)\n",
    "pair_trade_data.info()"
   ]
  },
  {
   "cell_type": "code",
   "execution_count": 57,
   "metadata": {
    "ExecuteTime": {
     "end_time": "2020-06-19T16:24:00.959508Z",
     "start_time": "2020-06-19T16:24:00.949698Z"
    }
   },
   "outputs": [
    {
     "data": {
      "text/html": [
       "<div>\n",
       "<style scoped>\n",
       "    .dataframe tbody tr th:only-of-type {\n",
       "        vertical-align: middle;\n",
       "    }\n",
       "\n",
       "    .dataframe tbody tr th {\n",
       "        vertical-align: top;\n",
       "    }\n",
       "\n",
       "    .dataframe thead th {\n",
       "        text-align: right;\n",
       "    }\n",
       "</style>\n",
       "<table border=\"1\" class=\"dataframe\">\n",
       "  <thead>\n",
       "    <tr style=\"text-align: right;\">\n",
       "      <th></th>\n",
       "      <th>s1</th>\n",
       "      <th>s2</th>\n",
       "      <th>hedge_ratio</th>\n",
       "      <th>period</th>\n",
       "      <th>pair</th>\n",
       "      <th>side</th>\n",
       "    </tr>\n",
       "    <tr>\n",
       "      <th>date</th>\n",
       "      <th></th>\n",
       "      <th></th>\n",
       "      <th></th>\n",
       "      <th></th>\n",
       "      <th></th>\n",
       "      <th></th>\n",
       "    </tr>\n",
       "  </thead>\n",
       "  <tbody>\n",
       "    <tr>\n",
       "      <th>2017-01-03</th>\n",
       "      <td>AA.US</td>\n",
       "      <td>DEM.US</td>\n",
       "      <td>-1.037475</td>\n",
       "      <td>1</td>\n",
       "      <td>2074</td>\n",
       "      <td>-1</td>\n",
       "    </tr>\n",
       "    <tr>\n",
       "      <th>2017-01-13</th>\n",
       "      <td>AA.US</td>\n",
       "      <td>DEM.US</td>\n",
       "      <td>-1.037475</td>\n",
       "      <td>1</td>\n",
       "      <td>2074</td>\n",
       "      <td>0</td>\n",
       "    </tr>\n",
       "    <tr>\n",
       "      <th>2017-01-03</th>\n",
       "      <td>AA.US</td>\n",
       "      <td>DIG.US</td>\n",
       "      <td>-0.600162</td>\n",
       "      <td>1</td>\n",
       "      <td>1829</td>\n",
       "      <td>-1</td>\n",
       "    </tr>\n",
       "    <tr>\n",
       "      <th>2017-01-10</th>\n",
       "      <td>AA.US</td>\n",
       "      <td>DIG.US</td>\n",
       "      <td>-0.600162</td>\n",
       "      <td>1</td>\n",
       "      <td>1829</td>\n",
       "      <td>0</td>\n",
       "    </tr>\n",
       "    <tr>\n",
       "      <th>2017-01-03</th>\n",
       "      <td>AA.US</td>\n",
       "      <td>DWX.US</td>\n",
       "      <td>-1.036419</td>\n",
       "      <td>1</td>\n",
       "      <td>2734</td>\n",
       "      <td>-1</td>\n",
       "    </tr>\n",
       "  </tbody>\n",
       "</table>\n",
       "</div>"
      ],
      "text/plain": [
       "               s1      s2  hedge_ratio  period  pair  side\n",
       "date                                                      \n",
       "2017-01-03  AA.US  DEM.US    -1.037475       1  2074    -1\n",
       "2017-01-13  AA.US  DEM.US    -1.037475       1  2074     0\n",
       "2017-01-03  AA.US  DIG.US    -0.600162       1  1829    -1\n",
       "2017-01-10  AA.US  DIG.US    -0.600162       1  1829     0\n",
       "2017-01-03  AA.US  DWX.US    -1.036419       1  2734    -1"
      ]
     },
     "execution_count": 57,
     "metadata": {},
     "output_type": "execute_result"
    }
   ],
   "source": [
    "pair_trade_data.head()"
   ]
  },
  {
   "cell_type": "code",
   "execution_count": 58,
   "metadata": {
    "ExecuteTime": {
     "end_time": "2020-06-19T16:34:09.171268Z",
     "start_time": "2020-06-19T16:34:08.884111Z"
    }
   },
   "outputs": [
    {
     "data": {
      "image/png": "[encoded data removed]",
      "text/plain": [
       "<Figure size 1400x400 with 1 Axes>"
      ]
     },
     "metadata": {},
     "output_type": "display_data"
    }
   ],
   "source": [
    "trades = pair_trade_data['side'].copy()\n",
    "trades.loc[trades != 0] = 1\n",
    "trades.loc[trades == 0] = -1\n",
    "trades.sort_index().cumsum().plot(figsize=(14, 4))\n",
    "sns.despine()"
   ]
  },
  {
   "cell_type": "code",
   "execution_count": 59,
   "metadata": {
    "ExecuteTime": {
     "end_time": "2020-06-19T16:24:01.303828Z",
     "start_time": "2020-06-19T16:24:01.269001Z"
    }
   },
   "outputs": [],
   "source": [
    "pair_trade_data.to_hdf('backtest.h5', 'pair_trades')"
   ]
  }
 ],
 "metadata": {
  "kernelspec": {
   "display_name": "crypto",
   "language": "python",
   "name": "python3"
  },
  "language_info": {
   "codemirror_mode": {
    "name": "ipython",
    "version": 3
   },
   "file_extension": ".py",
   "mimetype": "text/x-python",
   "name": "python",
   "nbconvert_exporter": "python",
   "pygments_lexer": "ipython3",
   "version": "3.12.5"
  },
  "toc": {
   "base_numbering": 1,
   "nav_menu": {},
   "number_sections": true,
   "sideBar": true,
   "skip_h1_title": true,
   "title_cell": "Table of Contents",
   "title_sidebar": "Contents",
   "toc_cell": false,
   "toc_position": {
    "height": "calc(100% - 180px)",
    "left": "10px",
    "top": "150px",
    "width": "341px"
   },
   "toc_section_display": true,
   "toc_window_display": true
  }
 },
 "nbformat": 4,
 "nbformat_minor": 2
}
